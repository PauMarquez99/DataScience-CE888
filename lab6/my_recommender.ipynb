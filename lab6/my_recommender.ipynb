{
  "cells": [
    {
      "cell_type": "markdown",
      "metadata": {
        "colab_type": "text",
        "id": "view-in-github"
      },
      "source": [
        "<a href=\"https://colab.research.google.com/github/albanda/CE888/blob/master/lab4-recommender/rec_latent.ipynb\" target=\"_parent\"><img src=\"https://colab.research.google.com/assets/colab-badge.svg\" alt=\"Open In Colab\"/></a>"
      ]
    },
    {
      "cell_type": "markdown",
      "metadata": {
        "id": "nr5vmuieudwA"
      },
      "source": [
        "# Jokes Rating"
      ]
    },
    {
      "cell_type": "markdown",
      "metadata": {
        "id": "9IwOt0KmudwF"
      },
      "source": [
        "Load required libraries"
      ]
    },
    {
      "cell_type": "code",
      "execution_count": 1,
      "metadata": {
        "id": "mMK0wtc7udwK"
      },
      "outputs": [],
      "source": [
        "import pandas as pd\n",
        "import numpy as np\n",
        "import matplotlib.pyplot as plt\n",
        "np.set_printoptions(precision=3)"
      ]
    },
    {
      "cell_type": "markdown",
      "metadata": {
        "id": "VktPdK5Zudwg"
      },
      "source": [
        "Now load the data"
      ]
    },
    {
      "cell_type": "code",
      "execution_count": 4,
      "metadata": {
        "id": "f7TJ-p56udwi"
      },
      "outputs": [],
      "source": [
        "data = pd.read_csv(\"https://raw.githubusercontent.com/PauMarquez99/DataScience-CE888/lab6/lab6/jester-data-1.csv\", header=None)"
      ]
    },
    {
      "cell_type": "code",
      "execution_count": 5,
      "metadata": {},
      "outputs": [
        {
          "data": {
            "text/plain": [
              "(24983, 101)"
            ]
          },
          "execution_count": 5,
          "metadata": {},
          "output_type": "execute_result"
        }
      ],
      "source": [
        "data.shape"
      ]
    },
    {
      "cell_type": "code",
      "execution_count": 17,
      "metadata": {},
      "outputs": [],
      "source": [
        "# Replace value for NAN as it does not represent a rating\n",
        "\n",
        "data = data.replace(99.00, np.NaN)"
      ]
    },
    {
      "cell_type": "code",
      "execution_count": 19,
      "metadata": {},
      "outputs": [
        {
          "data": {
            "text/plain": [
              "(24983, 100)"
            ]
          },
          "execution_count": 19,
          "metadata": {},
          "output_type": "execute_result"
        }
      ],
      "source": [
        "# Drop column, it is only the number of jokes rated by the user\n",
        "df = data.iloc[: , 1:]\n",
        "df.shape"
      ]
    },
    {
      "cell_type": "code",
      "execution_count": 8,
      "metadata": {
        "id": "hiebFNqnudwq"
      },
      "outputs": [],
      "source": [
        "n_latent_factors = 2\n",
        "\n",
        "user_ratings = data.values\n",
        "# Initialise as random values\n",
        "latent_user_preferences = np.random.random((user_ratings.shape[0], n_latent_factors))\n",
        "latent_item_features = np.random.random((user_ratings.shape[1], n_latent_factors))"
      ]
    },
    {
      "cell_type": "code",
      "execution_count": 9,
      "metadata": {
        "colab": {
          "base_uri": "https://localhost:8080/"
        },
        "id": "AH-TJAWIudww",
        "outputId": "e5f4c45b-8c1d-4d9d-f053-b0b5c3ceac93"
      },
      "outputs": [
        {
          "data": {
            "text/plain": [
              "array([[0.202, 0.039],\n",
              "       [0.398, 0.696],\n",
              "       [0.128, 0.444],\n",
              "       [0.15 , 0.367],\n",
              "       [0.739, 0.575],\n",
              "       [0.978, 0.067],\n",
              "       [0.914, 0.432],\n",
              "       [0.566, 0.393],\n",
              "       [0.744, 0.845],\n",
              "       [0.994, 0.56 ],\n",
              "       [0.599, 0.185],\n",
              "       [0.612, 0.9  ],\n",
              "       [0.783, 0.597],\n",
              "       [0.843, 0.539],\n",
              "       [0.369, 0.802],\n",
              "       [0.27 , 0.685],\n",
              "       [0.452, 0.437],\n",
              "       [0.531, 0.961],\n",
              "       [0.102, 0.311],\n",
              "       [0.92 , 0.224],\n",
              "       [0.012, 0.717],\n",
              "       [0.488, 0.583],\n",
              "       [0.114, 0.032],\n",
              "       [0.919, 0.62 ],\n",
              "       [0.749, 0.693],\n",
              "       [0.51 , 0.694],\n",
              "       [0.88 , 0.373],\n",
              "       [0.455, 0.343],\n",
              "       [0.269, 0.447],\n",
              "       [0.675, 0.643],\n",
              "       [0.002, 0.87 ],\n",
              "       [0.714, 0.647],\n",
              "       [0.819, 0.21 ],\n",
              "       [0.502, 0.935],\n",
              "       [0.868, 0.056],\n",
              "       [0.539, 0.055],\n",
              "       [0.16 , 0.039],\n",
              "       [0.013, 0.356],\n",
              "       [0.799, 0.189],\n",
              "       [0.77 , 0.438],\n",
              "       [0.089, 0.134],\n",
              "       [0.424, 0.623],\n",
              "       [0.586, 0.722],\n",
              "       [0.25 , 0.33 ],\n",
              "       [0.149, 0.502],\n",
              "       [0.489, 0.827],\n",
              "       [0.685, 0.479],\n",
              "       [0.985, 0.342],\n",
              "       [0.078, 0.937],\n",
              "       [0.784, 0.984],\n",
              "       [0.599, 0.124],\n",
              "       [0.793, 0.273],\n",
              "       [0.414, 0.898],\n",
              "       [0.213, 0.887],\n",
              "       [0.253, 0.571],\n",
              "       [0.159, 0.556],\n",
              "       [0.695, 0.304],\n",
              "       [0.439, 0.453],\n",
              "       [0.969, 0.409],\n",
              "       [0.751, 0.588],\n",
              "       [0.393, 0.784],\n",
              "       [0.753, 0.735],\n",
              "       [0.463, 0.279],\n",
              "       [0.952, 0.541],\n",
              "       [0.907, 0.235],\n",
              "       [0.664, 0.278],\n",
              "       [0.773, 0.145],\n",
              "       [0.479, 0.271],\n",
              "       [0.942, 0.073],\n",
              "       [0.921, 0.505],\n",
              "       [0.004, 0.676],\n",
              "       [0.828, 0.02 ],\n",
              "       [0.786, 0.613],\n",
              "       [0.171, 0.934],\n",
              "       [0.699, 0.011],\n",
              "       [0.532, 0.645],\n",
              "       [0.039, 0.918],\n",
              "       [0.321, 0.055],\n",
              "       [0.998, 0.909],\n",
              "       [0.695, 0.759],\n",
              "       [0.56 , 0.615],\n",
              "       [0.916, 0.447],\n",
              "       [0.929, 0.717],\n",
              "       [0.57 , 0.548],\n",
              "       [0.119, 0.64 ],\n",
              "       [0.768, 0.833],\n",
              "       [0.527, 0.824],\n",
              "       [0.664, 0.794],\n",
              "       [0.269, 0.011],\n",
              "       [0.983, 0.009],\n",
              "       [0.486, 0.068],\n",
              "       [0.14 , 0.713],\n",
              "       [0.996, 0.591],\n",
              "       [0.014, 0.915],\n",
              "       [0.325, 0.199],\n",
              "       [0.562, 0.625],\n",
              "       [0.512, 0.004],\n",
              "       [0.844, 0.688],\n",
              "       [0.238, 0.533],\n",
              "       [0.483, 0.255],\n",
              "       [0.304, 0.176]])"
            ]
          },
          "execution_count": 9,
          "metadata": {},
          "output_type": "execute_result"
        }
      ],
      "source": [
        "latent_item_features"
      ]
    },
    {
      "cell_type": "code",
      "execution_count": 10,
      "metadata": {
        "colab": {
          "base_uri": "https://localhost:8080/"
        },
        "id": "i2XBYI2-udw2",
        "outputId": "62a1d8a7-3784-4de5-9fc1-9cfeaecfcd65"
      },
      "outputs": [
        {
          "data": {
            "text/plain": [
              "array([[0.797, 0.751],\n",
              "       [0.998, 0.456],\n",
              "       [0.103, 0.741],\n",
              "       ...,\n",
              "       [0.714, 0.033],\n",
              "       [0.657, 0.635],\n",
              "       [0.415, 0.578]])"
            ]
          },
          "execution_count": 10,
          "metadata": {},
          "output_type": "execute_result"
        }
      ],
      "source": [
        "latent_user_preferences"
      ]
    },
    {
      "cell_type": "code",
      "execution_count": 11,
      "metadata": {
        "id": "Q8V063y2udw8"
      },
      "outputs": [],
      "source": [
        "def predict_rating(user_id, item_id):\n",
        "    \"\"\" Predict a rating given a user_id and an item_id.\n",
        "    \"\"\"\n",
        "    user_preference = latent_user_preferences[user_id]\n",
        "    item_preference = latent_item_features[item_id]\n",
        "    return user_preference.dot(item_preference)\n",
        "\n",
        "\n",
        "def train(user_id, item_id, rating, alpha=0.0001):\n",
        "    #print(item_id)\n",
        "    predicted_rating = predict_rating(user_id, item_id)\n",
        "    err =  predicted_rating - rating\n",
        "    #print(err)\n",
        "    user_pref_values = latent_user_preferences[user_id]\n",
        "    latent_user_preferences[user_id] -= alpha * err * latent_item_features[item_id]\n",
        "    latent_item_features[item_id] -= alpha * err * user_pref_values\n",
        "    return err\n",
        "    \n",
        "\n",
        "def sgd(iterations):\n",
        "    \"\"\" Iterate over all users and all items and train for \n",
        "        a certain number of iterations\n",
        "    \"\"\"\n",
        "    mse_history = []\n",
        "    for iteration in range(iterations):\n",
        "        error = []\n",
        "        for user_id in range(latent_user_preferences.shape[0]):\n",
        "            for item_id in range(latent_item_features.shape[0]):\n",
        "                rating = user_ratings[user_id, item_id]\n",
        "                if not np.isnan(rating):\n",
        "                    err = train(user_id, item_id, rating)\n",
        "                    error.append(err)\n",
        "        mse = (np.array(error) ** 2).mean()   \n",
        "        if (iteration % 10000) == 0:\n",
        "            print('Iteration %d/%d:\\tMSE=%.6f' % (iteration, iterations, mse))\n",
        "            mse_history.append(mse)\n",
        "    return mse_history"
      ]
    },
    {
      "cell_type": "code",
      "execution_count": 12,
      "metadata": {
        "colab": {
          "base_uri": "https://localhost:8080/",
          "height": 834
        },
        "id": "B4AG2bDqudxE",
        "outputId": "0c287c91-8426-4419-8d8d-1d21c6cf4724"
      },
      "outputs": [
        {
          "name": "stdout",
          "output_type": "stream",
          "text": [
            "Iteration 0/300000:\tMSE=815.715246\n"
          ]
        },
        {
          "ename": "KeyboardInterrupt",
          "evalue": "",
          "output_type": "error",
          "traceback": [
            "\u001b[1;31m---------------------------------------------------------------------------\u001b[0m",
            "\u001b[1;31mKeyboardInterrupt\u001b[0m                         Traceback (most recent call last)",
            "\u001b[1;32m~\\AppData\\Local\\Temp/ipykernel_24204/3639855201.py\u001b[0m in \u001b[0;36m<module>\u001b[1;34m\u001b[0m\n\u001b[0;32m      1\u001b[0m \u001b[0mnum_iter\u001b[0m \u001b[1;33m=\u001b[0m \u001b[1;36m300000\u001b[0m\u001b[1;33m\u001b[0m\u001b[1;33m\u001b[0m\u001b[0m\n\u001b[1;32m----> 2\u001b[1;33m \u001b[0mhist\u001b[0m \u001b[1;33m=\u001b[0m \u001b[0msgd\u001b[0m\u001b[1;33m(\u001b[0m\u001b[0mnum_iter\u001b[0m\u001b[1;33m)\u001b[0m  \u001b[1;31m# Note how the MSE decreases with the number of iterations\u001b[0m\u001b[1;33m\u001b[0m\u001b[1;33m\u001b[0m\u001b[0m\n\u001b[0m\u001b[0;32m      3\u001b[0m \u001b[0mplt\u001b[0m\u001b[1;33m.\u001b[0m\u001b[0mfigure\u001b[0m\u001b[1;33m(\u001b[0m\u001b[1;33m)\u001b[0m\u001b[1;33m\u001b[0m\u001b[1;33m\u001b[0m\u001b[0m\n\u001b[0;32m      4\u001b[0m \u001b[0mplt\u001b[0m\u001b[1;33m.\u001b[0m\u001b[0mplot\u001b[0m\u001b[1;33m(\u001b[0m\u001b[0mnp\u001b[0m\u001b[1;33m.\u001b[0m\u001b[0marange\u001b[0m\u001b[1;33m(\u001b[0m\u001b[1;36m0\u001b[0m\u001b[1;33m,\u001b[0m \u001b[0mnum_iter\u001b[0m\u001b[1;33m,\u001b[0m \u001b[1;36m10000\u001b[0m\u001b[1;33m)\u001b[0m\u001b[1;33m,\u001b[0m \u001b[0mhist\u001b[0m\u001b[1;33m)\u001b[0m\u001b[1;33m\u001b[0m\u001b[1;33m\u001b[0m\u001b[0m\n\u001b[0;32m      5\u001b[0m \u001b[0mplt\u001b[0m\u001b[1;33m.\u001b[0m\u001b[0mxlabel\u001b[0m\u001b[1;33m(\u001b[0m\u001b[1;34m\"Iterations\"\u001b[0m\u001b[1;33m)\u001b[0m\u001b[1;33m\u001b[0m\u001b[1;33m\u001b[0m\u001b[0m\n",
            "\u001b[1;32m~\\AppData\\Local\\Temp/ipykernel_24204/1198320339.py\u001b[0m in \u001b[0;36msgd\u001b[1;34m(iterations)\u001b[0m\n\u001b[0;32m     29\u001b[0m                 \u001b[0mrating\u001b[0m \u001b[1;33m=\u001b[0m \u001b[0muser_ratings\u001b[0m\u001b[1;33m[\u001b[0m\u001b[0muser_id\u001b[0m\u001b[1;33m,\u001b[0m \u001b[0mitem_id\u001b[0m\u001b[1;33m]\u001b[0m\u001b[1;33m\u001b[0m\u001b[1;33m\u001b[0m\u001b[0m\n\u001b[0;32m     30\u001b[0m                 \u001b[1;32mif\u001b[0m \u001b[1;32mnot\u001b[0m \u001b[0mnp\u001b[0m\u001b[1;33m.\u001b[0m\u001b[0misnan\u001b[0m\u001b[1;33m(\u001b[0m\u001b[0mrating\u001b[0m\u001b[1;33m)\u001b[0m\u001b[1;33m:\u001b[0m\u001b[1;33m\u001b[0m\u001b[1;33m\u001b[0m\u001b[0m\n\u001b[1;32m---> 31\u001b[1;33m                     \u001b[0merr\u001b[0m \u001b[1;33m=\u001b[0m \u001b[0mtrain\u001b[0m\u001b[1;33m(\u001b[0m\u001b[0muser_id\u001b[0m\u001b[1;33m,\u001b[0m \u001b[0mitem_id\u001b[0m\u001b[1;33m,\u001b[0m \u001b[0mrating\u001b[0m\u001b[1;33m)\u001b[0m\u001b[1;33m\u001b[0m\u001b[1;33m\u001b[0m\u001b[0m\n\u001b[0m\u001b[0;32m     32\u001b[0m                     \u001b[0merror\u001b[0m\u001b[1;33m.\u001b[0m\u001b[0mappend\u001b[0m\u001b[1;33m(\u001b[0m\u001b[0merr\u001b[0m\u001b[1;33m)\u001b[0m\u001b[1;33m\u001b[0m\u001b[1;33m\u001b[0m\u001b[0m\n\u001b[0;32m     33\u001b[0m         \u001b[0mmse\u001b[0m \u001b[1;33m=\u001b[0m \u001b[1;33m(\u001b[0m\u001b[0mnp\u001b[0m\u001b[1;33m.\u001b[0m\u001b[0marray\u001b[0m\u001b[1;33m(\u001b[0m\u001b[0merror\u001b[0m\u001b[1;33m)\u001b[0m \u001b[1;33m**\u001b[0m \u001b[1;36m2\u001b[0m\u001b[1;33m)\u001b[0m\u001b[1;33m.\u001b[0m\u001b[0mmean\u001b[0m\u001b[1;33m(\u001b[0m\u001b[1;33m)\u001b[0m\u001b[1;33m\u001b[0m\u001b[1;33m\u001b[0m\u001b[0m\n",
            "\u001b[1;32m~\\AppData\\Local\\Temp/ipykernel_24204/1198320339.py\u001b[0m in \u001b[0;36mtrain\u001b[1;34m(user_id, item_id, rating, alpha)\u001b[0m\n\u001b[0;32m      9\u001b[0m \u001b[1;32mdef\u001b[0m \u001b[0mtrain\u001b[0m\u001b[1;33m(\u001b[0m\u001b[0muser_id\u001b[0m\u001b[1;33m,\u001b[0m \u001b[0mitem_id\u001b[0m\u001b[1;33m,\u001b[0m \u001b[0mrating\u001b[0m\u001b[1;33m,\u001b[0m \u001b[0malpha\u001b[0m\u001b[1;33m=\u001b[0m\u001b[1;36m0.0001\u001b[0m\u001b[1;33m)\u001b[0m\u001b[1;33m:\u001b[0m\u001b[1;33m\u001b[0m\u001b[1;33m\u001b[0m\u001b[0m\n\u001b[0;32m     10\u001b[0m     \u001b[1;31m#print(item_id)\u001b[0m\u001b[1;33m\u001b[0m\u001b[1;33m\u001b[0m\u001b[1;33m\u001b[0m\u001b[0m\n\u001b[1;32m---> 11\u001b[1;33m     \u001b[0mpredicted_rating\u001b[0m \u001b[1;33m=\u001b[0m \u001b[0mpredict_rating\u001b[0m\u001b[1;33m(\u001b[0m\u001b[0muser_id\u001b[0m\u001b[1;33m,\u001b[0m \u001b[0mitem_id\u001b[0m\u001b[1;33m)\u001b[0m\u001b[1;33m\u001b[0m\u001b[1;33m\u001b[0m\u001b[0m\n\u001b[0m\u001b[0;32m     12\u001b[0m     \u001b[0merr\u001b[0m \u001b[1;33m=\u001b[0m  \u001b[0mpredicted_rating\u001b[0m \u001b[1;33m-\u001b[0m \u001b[0mrating\u001b[0m\u001b[1;33m\u001b[0m\u001b[1;33m\u001b[0m\u001b[0m\n\u001b[0;32m     13\u001b[0m     \u001b[1;31m#print(err)\u001b[0m\u001b[1;33m\u001b[0m\u001b[1;33m\u001b[0m\u001b[1;33m\u001b[0m\u001b[0m\n",
            "\u001b[1;32m~\\AppData\\Local\\Temp/ipykernel_24204/1198320339.py\u001b[0m in \u001b[0;36mpredict_rating\u001b[1;34m(user_id, item_id)\u001b[0m\n\u001b[0;32m      4\u001b[0m     \u001b[0muser_preference\u001b[0m \u001b[1;33m=\u001b[0m \u001b[0mlatent_user_preferences\u001b[0m\u001b[1;33m[\u001b[0m\u001b[0muser_id\u001b[0m\u001b[1;33m]\u001b[0m\u001b[1;33m\u001b[0m\u001b[1;33m\u001b[0m\u001b[0m\n\u001b[0;32m      5\u001b[0m     \u001b[0mitem_preference\u001b[0m \u001b[1;33m=\u001b[0m \u001b[0mlatent_item_features\u001b[0m\u001b[1;33m[\u001b[0m\u001b[0mitem_id\u001b[0m\u001b[1;33m]\u001b[0m\u001b[1;33m\u001b[0m\u001b[1;33m\u001b[0m\u001b[0m\n\u001b[1;32m----> 6\u001b[1;33m     \u001b[1;32mreturn\u001b[0m \u001b[0muser_preference\u001b[0m\u001b[1;33m.\u001b[0m\u001b[0mdot\u001b[0m\u001b[1;33m(\u001b[0m\u001b[0mitem_preference\u001b[0m\u001b[1;33m)\u001b[0m\u001b[1;33m\u001b[0m\u001b[1;33m\u001b[0m\u001b[0m\n\u001b[0m\u001b[0;32m      7\u001b[0m \u001b[1;33m\u001b[0m\u001b[0m\n\u001b[0;32m      8\u001b[0m \u001b[1;33m\u001b[0m\u001b[0m\n",
            "\u001b[1;31mKeyboardInterrupt\u001b[0m: "
          ]
        }
      ],
      "source": [
        "num_iter = 300000\n",
        "hist = sgd(num_iter)  # Note how the MSE decreases with the number of iterations\n",
        "plt.figure()\n",
        "plt.plot(np.arange(0, num_iter, 10000), hist)\n",
        "plt.xlabel(\"Iterations\")\n",
        "plt.ylabel(\"MSE\")\n",
        "plt.show()"
      ]
    },
    {
      "cell_type": "code",
      "execution_count": null,
      "metadata": {
        "colab": {
          "base_uri": "https://localhost:8080/"
        },
        "id": "L8Tfh1BzudxM",
        "outputId": "b1edbc81-b1d6-4192-aefa-6ab9b824bdca"
      },
      "outputs": [],
      "source": [
        "predictions = latent_user_preferences.dot(latent_item_features.T)\n",
        "predictions"
      ]
    },
    {
      "cell_type": "code",
      "execution_count": null,
      "metadata": {
        "id": "TAiX0X8NudxY"
      },
      "outputs": [],
      "source": [
        "values = [zip(user_ratings[i], predictions[i]) for i in range(predictions.shape[0])]\n",
        "comparison_data = pd.DataFrame(values)\n",
        "comparison_data.columns = data.columns"
      ]
    },
    {
      "cell_type": "code",
      "execution_count": null,
      "metadata": {
        "colab": {
          "base_uri": "https://localhost:8080/",
          "height": 363
        },
        "id": "SYdnh4Qiudxg",
        "outputId": "41d4da89-5a87-4409-ac92-0ed6f6ad9337",
        "pycharm": {
          "name": "#%%\n"
        }
      },
      "outputs": [],
      "source": [
        "comparison_data\n",
        "# For each data point, the number on the left is the original value from the dataset, the number on the right is the prediction"
      ]
    },
    {
      "cell_type": "code",
      "execution_count": null,
      "metadata": {
        "id": "KdZnF37RoyMp"
      },
      "outputs": [],
      "source": []
    }
  ],
  "metadata": {
    "colab": {
      "include_colab_link": true,
      "name": "rec_latent.ipynb",
      "provenance": []
    },
    "kernelspec": {
      "display_name": "Python 3",
      "language": "python",
      "name": "python3"
    },
    "language_info": {
      "codemirror_mode": {
        "name": "ipython",
        "version": 3
      },
      "file_extension": ".py",
      "mimetype": "text/x-python",
      "name": "python",
      "nbconvert_exporter": "python",
      "pygments_lexer": "ipython3",
      "version": "3.8.3"
    },
    "pycharm": {
      "stem_cell": {
        "cell_type": "raw",
        "metadata": {
          "collapsed": false
        },
        "source": []
      }
    }
  },
  "nbformat": 4,
  "nbformat_minor": 0
}
