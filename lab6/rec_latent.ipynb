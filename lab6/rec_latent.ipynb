{
  "cells": [
    {
      "cell_type": "markdown",
      "metadata": {
        "colab_type": "text",
        "id": "view-in-github"
      },
      "source": [
        "<a href=\"https://colab.research.google.com/github/albanda/CE888/blob/master/lab4-recommender/rec_latent.ipynb\" target=\"_parent\"><img src=\"https://colab.research.google.com/assets/colab-badge.svg\" alt=\"Open In Colab\"/></a>"
      ]
    },
    {
      "cell_type": "markdown",
      "metadata": {
        "id": "nr5vmuieudwA"
      },
      "source": [
        "# Latent Factor Models for Collaborative Filtering"
      ]
    },
    {
      "cell_type": "markdown",
      "metadata": {
        "id": "9IwOt0KmudwF"
      },
      "source": [
        "Load required libraries"
      ]
    },
    {
      "cell_type": "code",
      "execution_count": 1,
      "metadata": {
        "id": "mMK0wtc7udwK"
      },
      "outputs": [],
      "source": [
        "import pandas as pd\n",
        "import numpy as np\n",
        "import matplotlib.pyplot as plt\n",
        "np.set_printoptions(precision=3)"
      ]
    },
    {
      "cell_type": "markdown",
      "metadata": {
        "id": "VktPdK5Zudwg"
      },
      "source": [
        "Now load the data"
      ]
    },
    {
      "cell_type": "code",
      "execution_count": 2,
      "metadata": {
        "id": "f7TJ-p56udwi"
      },
      "outputs": [],
      "source": [
        "data = pd.read_csv(\"https://raw.githubusercontent.com/albanda/CE888/master/lab4-recommender/user_ratings.csv\")"
      ]
    },
    {
      "cell_type": "code",
      "execution_count": 3,
      "metadata": {
        "id": "hiebFNqnudwq"
      },
      "outputs": [],
      "source": [
        "n_latent_factors = 2\n",
        "\n",
        "user_ratings = data.values\n",
        "# Initialise as random values\n",
        "latent_user_preferences = np.random.random((user_ratings.shape[0], n_latent_factors))\n",
        "latent_item_features = np.random.random((user_ratings.shape[1], n_latent_factors))"
      ]
    },
    {
      "cell_type": "code",
      "execution_count": 4,
      "metadata": {
        "colab": {
          "base_uri": "https://localhost:8080/"
        },
        "id": "AH-TJAWIudww",
        "outputId": "e5f4c45b-8c1d-4d9d-f053-b0b5c3ceac93"
      },
      "outputs": [
        {
          "data": {
            "text/plain": [
              "array([[0.089, 0.509],\n",
              "       [0.365, 0.808],\n",
              "       [0.578, 0.297],\n",
              "       [0.713, 0.247],\n",
              "       [0.617, 0.728]])"
            ]
          },
          "execution_count": 4,
          "metadata": {},
          "output_type": "execute_result"
        }
      ],
      "source": [
        "latent_item_features"
      ]
    },
    {
      "cell_type": "code",
      "execution_count": 5,
      "metadata": {
        "colab": {
          "base_uri": "https://localhost:8080/"
        },
        "id": "i2XBYI2-udw2",
        "outputId": "62a1d8a7-3784-4de5-9fc1-9cfeaecfcd65"
      },
      "outputs": [
        {
          "data": {
            "text/plain": [
              "array([[0.376, 0.994],\n",
              "       [0.703, 0.45 ],\n",
              "       [0.767, 0.784],\n",
              "       [0.523, 0.026],\n",
              "       [0.442, 0.516],\n",
              "       [0.582, 0.914],\n",
              "       [0.527, 0.5  ],\n",
              "       [0.389, 0.992],\n",
              "       [0.759, 0.162],\n",
              "       [0.979, 0.207]])"
            ]
          },
          "execution_count": 5,
          "metadata": {},
          "output_type": "execute_result"
        }
      ],
      "source": [
        "latent_user_preferences"
      ]
    },
    {
      "cell_type": "code",
      "execution_count": 6,
      "metadata": {
        "id": "Q8V063y2udw8"
      },
      "outputs": [],
      "source": [
        "def predict_rating(user_id, item_id):\n",
        "    \"\"\" Predict a rating given a user_id and an item_id.\n",
        "    \"\"\"\n",
        "    user_preference = latent_user_preferences[user_id]\n",
        "    item_preference = latent_item_features[item_id]\n",
        "    return user_preference.dot(item_preference)\n",
        "\n",
        "\n",
        "def train(user_id, item_id, rating, alpha=0.0001):\n",
        "    #print(item_id)\n",
        "    predicted_rating = predict_rating(user_id, item_id)\n",
        "    err =  predicted_rating - rating\n",
        "    #print(err)\n",
        "    user_pref_values = latent_user_preferences[user_id]\n",
        "    latent_user_preferences[user_id] -= alpha * err * latent_item_features[item_id]\n",
        "    latent_item_features[item_id] -= alpha * err * user_pref_values\n",
        "    return err\n",
        "    \n",
        "\n",
        "def sgd(iterations):\n",
        "    \"\"\" Iterate over all users and all items and train for \n",
        "        a certain number of iterations\n",
        "    \"\"\"\n",
        "    mse_history = []\n",
        "    for iteration in range(iterations):\n",
        "        error = []\n",
        "        for user_id in range(latent_user_preferences.shape[0]):\n",
        "            for item_id in range(latent_item_features.shape[0]):\n",
        "                rating = user_ratings[user_id, item_id]\n",
        "                if not np.isnan(rating):\n",
        "                    err = train(user_id, item_id, rating)\n",
        "                    error.append(err)\n",
        "        mse = (np.array(error) ** 2).mean()   \n",
        "        if (iteration % 10000) == 0:\n",
        "            print('Iteration %d/%d:\\tMSE=%.6f' % (iteration, iterations, mse))\n",
        "            mse_history.append(mse)\n",
        "    return mse_history"
      ]
    },
    {
      "cell_type": "code",
      "execution_count": 7,
      "metadata": {
        "colab": {
          "base_uri": "https://localhost:8080/",
          "height": 834
        },
        "id": "B4AG2bDqudxE",
        "outputId": "0c287c91-8426-4419-8d8d-1d21c6cf4724"
      },
      "outputs": [
        {
          "name": "stdout",
          "output_type": "stream",
          "text": [
            "Iteration 0/300000:\tMSE=25.072962\n",
            "Iteration 10000/300000:\tMSE=1.438826\n",
            "Iteration 20000/300000:\tMSE=1.345351\n",
            "Iteration 30000/300000:\tMSE=1.315589\n",
            "Iteration 40000/300000:\tMSE=1.300487\n",
            "Iteration 50000/300000:\tMSE=1.291114\n",
            "Iteration 60000/300000:\tMSE=1.284605\n",
            "Iteration 70000/300000:\tMSE=1.279754\n",
            "Iteration 80000/300000:\tMSE=1.275960\n",
            "Iteration 90000/300000:\tMSE=1.272888\n",
            "Iteration 100000/300000:\tMSE=1.270337\n",
            "Iteration 110000/300000:\tMSE=1.268174\n",
            "Iteration 120000/300000:\tMSE=1.266311\n",
            "Iteration 130000/300000:\tMSE=1.264685\n",
            "Iteration 140000/300000:\tMSE=1.263251\n",
            "Iteration 150000/300000:\tMSE=1.261974\n",
            "Iteration 160000/300000:\tMSE=1.260828\n",
            "Iteration 170000/300000:\tMSE=1.259792\n",
            "Iteration 180000/300000:\tMSE=1.258851\n",
            "Iteration 190000/300000:\tMSE=1.257990\n",
            "Iteration 200000/300000:\tMSE=1.257200\n",
            "Iteration 210000/300000:\tMSE=1.256472\n",
            "Iteration 220000/300000:\tMSE=1.255798\n",
            "Iteration 230000/300000:\tMSE=1.255171\n",
            "Iteration 240000/300000:\tMSE=1.254587\n",
            "Iteration 250000/300000:\tMSE=1.254041\n",
            "Iteration 260000/300000:\tMSE=1.253530\n",
            "Iteration 270000/300000:\tMSE=1.253049\n",
            "Iteration 280000/300000:\tMSE=1.252597\n",
            "Iteration 290000/300000:\tMSE=1.252170\n"
          ]
        },
        {
          "data": {
            "image/png": "[encoded data removed]",
            "text/plain": [
              "<Figure size 432x288 with 1 Axes>"
            ]
          },
          "metadata": {
            "needs_background": "light"
          },
          "output_type": "display_data"
        }
      ],
      "source": [
        "num_iter = 300000\n",
        "hist = sgd(num_iter)  # Note how the MSE decreases with the number of iterations\n",
        "plt.figure()\n",
        "plt.plot(np.arange(0, num_iter, 10000), hist)\n",
        "plt.xlabel(\"Iterations\")\n",
        "plt.ylabel(\"MSE\")\n",
        "plt.show()"
      ]
    },
    {
      "cell_type": "code",
      "execution_count": 8,
      "metadata": {
        "colab": {
          "base_uri": "https://localhost:8080/"
        },
        "id": "L8Tfh1BzudxM",
        "outputId": "b1edbc81-b1d6-4192-aefa-6ab9b824bdca"
      },
      "outputs": [
        {
          "data": {
            "text/plain": [
              "array([[  6.581,   1.509,  -7.419,   4.476,   6.048],\n",
              "       [  4.142,   2.512,  42.748,   7.337,   5.39 ],\n",
              "       [  7.622,   2.263,   7.041,   6.675,   7.527],\n",
              "       [  9.222,   2.688,   7.005,   7.932,   9.057],\n",
              "       [  5.239,   1.655,   7.858,   4.876,   5.274],\n",
              "       [  2.572,   0.852,   5.071,   2.509,   2.63 ],\n",
              "       [  5.471,   1.044, -12.537,   3.114,   4.815],\n",
              "       [  8.116,   2.23 ,   2.039,   6.588,   7.833],\n",
              "       [  2.36 ,   2.345,  52.074,   6.823,   3.997],\n",
              "       [  3.431,   1.078,   4.968,   3.176,   3.448]])"
            ]
          },
          "execution_count": 8,
          "metadata": {},
          "output_type": "execute_result"
        }
      ],
      "source": [
        "predictions = latent_user_preferences.dot(latent_item_features.T)\n",
        "predictions"
      ]
    },
    {
      "cell_type": "code",
      "execution_count": 9,
      "metadata": {
        "id": "TAiX0X8NudxY"
      },
      "outputs": [],
      "source": [
        "values = [zip(user_ratings[i], predictions[i]) for i in range(predictions.shape[0])]\n",
        "comparison_data = pd.DataFrame(values)\n",
        "comparison_data.columns = data.columns"
      ]
    },
    {
      "cell_type": "code",
      "execution_count": 10,
      "metadata": {
        "colab": {
          "base_uri": "https://localhost:8080/",
          "height": 363
        },
        "id": "SYdnh4Qiudxg",
        "outputId": "41d4da89-5a87-4409-ac92-0ed6f6ad9337",
        "pycharm": {
          "name": "#%%\n"
        }
      },
      "outputs": [
        {
          "data": {
            "text/html": [
              "<div>\n",
              "<style scoped>\n",
              "    .dataframe tbody tr th:only-of-type {\n",
              "        vertical-align: middle;\n",
              "    }\n",
              "\n",
              "    .dataframe tbody tr th {\n",
              "        vertical-align: top;\n",
              "    }\n",
              "\n",
              "    .dataframe thead th {\n",
              "        text-align: right;\n",
              "    }\n",
              "</style>\n",
              "<table border=\"1\" class=\"dataframe\">\n",
              "  <thead>\n",
              "    <tr style=\"text-align: right;\">\n",
              "      <th></th>\n",
              "      <th>The Call of Cthulhu</th>\n",
              "      <th>Frankenstein</th>\n",
              "      <th>Dracula</th>\n",
              "      <th>Neuromancer</th>\n",
              "      <th>Space Odyssey</th>\n",
              "    </tr>\n",
              "  </thead>\n",
              "  <tbody>\n",
              "    <tr>\n",
              "      <th>0</th>\n",
              "      <td>(8.0, 6.580622126989924)</td>\n",
              "      <td>(2.0, 1.5087991878690872)</td>\n",
              "      <td>(nan, -7.419414937784739)</td>\n",
              "      <td>(5.0, 4.476277605209128)</td>\n",
              "      <td>(4.0, 6.0477224244589465)</td>\n",
              "    </tr>\n",
              "    <tr>\n",
              "      <th>1</th>\n",
              "      <td>(3.0, 4.141545716075057)</td>\n",
              "      <td>(2.0, 2.5123176555336704)</td>\n",
              "      <td>(nan, 42.747904099861096)</td>\n",
              "      <td>(7.0, 7.337433540801491)</td>\n",
              "      <td>(7.0, 5.389913207785632)</td>\n",
              "    </tr>\n",
              "    <tr>\n",
              "      <th>2</th>\n",
              "      <td>(9.0, 7.622390875377635)</td>\n",
              "      <td>(nan, 2.262952386907363)</td>\n",
              "      <td>(7.0, 7.041331981459841)</td>\n",
              "      <td>(8.0, 6.675414642705086)</td>\n",
              "      <td>(5.0, 7.527351372133051)</td>\n",
              "    </tr>\n",
              "    <tr>\n",
              "      <th>3</th>\n",
              "      <td>(nan, 9.222337851035931)</td>\n",
              "      <td>(nan, 2.688040432051431)</td>\n",
              "      <td>(7.0, 7.004997785467656)</td>\n",
              "      <td>(8.0, 7.9322315607752705)</td>\n",
              "      <td>(9.0, 9.056770948590552)</td>\n",
              "    </tr>\n",
              "    <tr>\n",
              "      <th>4</th>\n",
              "      <td>(nan, 5.238724083494713)</td>\n",
              "      <td>(1.0, 1.6547827827612733)</td>\n",
              "      <td>(8.0, 7.858392099619303)</td>\n",
              "      <td>(3.0, 4.87568657717832)</td>\n",
              "      <td>(7.0, 5.274241170031257)</td>\n",
              "    </tr>\n",
              "    <tr>\n",
              "      <th>5</th>\n",
              "      <td>(2.0, 2.5720449057039296)</td>\n",
              "      <td>(3.0, 0.8524058900211053)</td>\n",
              "      <td>(5.0, 5.070720032995828)</td>\n",
              "      <td>(nan, 2.5093922982212904)</td>\n",
              "      <td>(nan, 2.6299805156456055)</td>\n",
              "    </tr>\n",
              "    <tr>\n",
              "      <th>6</th>\n",
              "      <td>(4.0, 5.470521957227738)</td>\n",
              "      <td>(2.0, 1.0443517624387448)</td>\n",
              "      <td>(nan, -12.537411781060145)</td>\n",
              "      <td>(2.0, 3.113954500852043)</td>\n",
              "      <td>(7.0, 4.814772372571286)</td>\n",
              "    </tr>\n",
              "    <tr>\n",
              "      <th>7</th>\n",
              "      <td>(7.0, 8.116369992723873)</td>\n",
              "      <td>(1.0, 2.229695370224474)</td>\n",
              "      <td>(2.0, 2.0387537211734466)</td>\n",
              "      <td>(7.0, 6.58762998470132)</td>\n",
              "      <td>(9.0, 7.832842763850656)</td>\n",
              "    </tr>\n",
              "    <tr>\n",
              "      <th>8</th>\n",
              "      <td>(3.0, 2.3596388570508426)</td>\n",
              "      <td>(3.0, 2.3449064458203046)</td>\n",
              "      <td>(nan, 52.07376557330671)</td>\n",
              "      <td>(7.0, 6.8228515486632775)</td>\n",
              "      <td>(3.0, 3.9966890892597062)</td>\n",
              "    </tr>\n",
              "    <tr>\n",
              "      <th>9</th>\n",
              "      <td>(4.0, 3.4311075398623276)</td>\n",
              "      <td>(nan, 1.077920267090169)</td>\n",
              "      <td>(5.0, 4.968407782259074)</td>\n",
              "      <td>(3.0, 3.1763238601793784)</td>\n",
              "      <td>(3.0, 3.4484090883604575)</td>\n",
              "    </tr>\n",
              "  </tbody>\n",
              "</table>\n",
              "</div>"
            ],
            "text/plain": [
              "         The Call of Cthulhu               Frankenstein  \\\n",
              "0   (8.0, 6.580622126989924)  (2.0, 1.5087991878690872)   \n",
              "1   (3.0, 4.141545716075057)  (2.0, 2.5123176555336704)   \n",
              "2   (9.0, 7.622390875377635)   (nan, 2.262952386907363)   \n",
              "3   (nan, 9.222337851035931)   (nan, 2.688040432051431)   \n",
              "4   (nan, 5.238724083494713)  (1.0, 1.6547827827612733)   \n",
              "5  (2.0, 2.5720449057039296)  (3.0, 0.8524058900211053)   \n",
              "6   (4.0, 5.470521957227738)  (2.0, 1.0443517624387448)   \n",
              "7   (7.0, 8.116369992723873)   (1.0, 2.229695370224474)   \n",
              "8  (3.0, 2.3596388570508426)  (3.0, 2.3449064458203046)   \n",
              "9  (4.0, 3.4311075398623276)   (nan, 1.077920267090169)   \n",
              "\n",
              "                      Dracula                Neuromancer  \\\n",
              "0   (nan, -7.419414937784739)   (5.0, 4.476277605209128)   \n",
              "1   (nan, 42.747904099861096)   (7.0, 7.337433540801491)   \n",
              "2    (7.0, 7.041331981459841)   (8.0, 6.675414642705086)   \n",
              "3    (7.0, 7.004997785467656)  (8.0, 7.9322315607752705)   \n",
              "4    (8.0, 7.858392099619303)    (3.0, 4.87568657717832)   \n",
              "5    (5.0, 5.070720032995828)  (nan, 2.5093922982212904)   \n",
              "6  (nan, -12.537411781060145)   (2.0, 3.113954500852043)   \n",
              "7   (2.0, 2.0387537211734466)    (7.0, 6.58762998470132)   \n",
              "8    (nan, 52.07376557330671)  (7.0, 6.8228515486632775)   \n",
              "9    (5.0, 4.968407782259074)  (3.0, 3.1763238601793784)   \n",
              "\n",
              "               Space Odyssey  \n",
              "0  (4.0, 6.0477224244589465)  \n",
              "1   (7.0, 5.389913207785632)  \n",
              "2   (5.0, 7.527351372133051)  \n",
              "3   (9.0, 9.056770948590552)  \n",
              "4   (7.0, 5.274241170031257)  \n",
              "5  (nan, 2.6299805156456055)  \n",
              "6   (7.0, 4.814772372571286)  \n",
              "7   (9.0, 7.832842763850656)  \n",
              "8  (3.0, 3.9966890892597062)  \n",
              "9  (3.0, 3.4484090883604575)  "
            ]
          },
          "execution_count": 10,
          "metadata": {},
          "output_type": "execute_result"
        }
      ],
      "source": [
        "comparison_data\n",
        "# For each data point, the number on the left is the original value from the dataset, the number on the right is the prediction"
      ]
    },
    {
      "cell_type": "code",
      "execution_count": null,
      "metadata": {
        "id": "KdZnF37RoyMp"
      },
      "outputs": [],
      "source": []
    }
  ],
  "metadata": {
    "colab": {
      "include_colab_link": true,
      "name": "rec_latent.ipynb",
      "provenance": []
    },
    "kernelspec": {
      "display_name": "Python 3",
      "language": "python",
      "name": "python3"
    },
    "language_info": {
      "codemirror_mode": {
        "name": "ipython",
        "version": 3
      },
      "file_extension": ".py",
      "mimetype": "text/x-python",
      "name": "python",
      "nbconvert_exporter": "python",
      "pygments_lexer": "ipython3",
      "version": "3.8.3"
    },
    "pycharm": {
      "stem_cell": {
        "cell_type": "raw",
        "metadata": {
          "collapsed": false
        },
        "source": []
      }
    }
  },
  "nbformat": 4,
  "nbformat_minor": 0
}
