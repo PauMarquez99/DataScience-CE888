{
  "cells": [
    {
      "cell_type": "markdown",
      "source": [
        "<a href=\"https://colab.research.google.com/github/albanda/CE888/blob/master/lab8/rnn.ipynb\" target=\"_parent\"><img src=\"https://colab.research.google.com/assets/colab-badge.svg\" alt=\"Open In Colab\"/></a>"
      ],
      "metadata": {
        "id": "view-in-github",
        "colab_type": "text"
      }
    },
    {
      "cell_type": "markdown",
      "source": [
        "# Learning from Sequences: Timeseries and Text\n",
        "\n",
        "Created by Dr Ana Matran-Fernandez (amatra@essex.ac.uk) for CE888 (Data Science and Decision Making)\n",
        "\n",
        "This notebook accompanies lecture 8 and illustrates recurrent neural networks on an example of a timeseries (predicting tomorrow's temperature) and a classification problem on the IMDB text dataset."
      ],
      "metadata": {
        "id": "gS1IIAS-bcb-"
      }
    },
    {
      "cell_type": "markdown",
      "source": [
        "# Imports"
      ],
      "metadata": {
        "id": "0myiQp20cxRK"
      }
    },
    {
      "cell_type": "code",
      "execution_count": 1,
      "source": [
        "# imports\r\n",
        "import numpy as np\r\n",
        "import matplotlib.pyplot as plt\r\n",
        "import os\r\n",
        "import pandas as pd\r\n",
        "from sklearn.model_selection import train_test_split"
      ],
      "outputs": [],
      "metadata": {
        "id": "1J0bYBQ7_a0L"
      }
    },
    {
      "cell_type": "code",
      "execution_count": 2,
      "source": [
        "# tensorflow imports\r\n",
        "from tensorflow import keras\r\n",
        "from keras import layers, models\r\n",
        "from keras.callbacks import EarlyStopping, ModelCheckpoint"
      ],
      "outputs": [],
      "metadata": {
        "id": "U0NPDv7X_a0M"
      }
    },
    {
      "cell_type": "markdown",
      "source": [
        "# Timeseries"
      ],
      "metadata": {
        "id": "xaiw_VZjbtSH"
      }
    },
    {
      "cell_type": "code",
      "execution_count": 3,
      "source": [
        "df = pd.read_csv('weather.csv')\r\n",
        "df.drop(['temp_max', 'temp_min'], axis=1, inplace=True)\r\n",
        "df"
      ],
      "outputs": [
        {
          "output_type": "execute_result",
          "data": {
            "text/plain": [
              "                  date  radiation_avg  precip  wind_avg  wind_max  temp_avg  \\\n",
              "0     14/05/2014 00:00            159     0.0       1.4       3.3     14.27   \n",
              "1     15/05/2014 00:00            280     0.0       0.6       2.3     13.51   \n",
              "2     16/05/2014 00:00            186     3.4       0.8       2.7     15.65   \n",
              "3     17/05/2014 00:00            221     0.0       1.0       3.3     17.46   \n",
              "4     18/05/2014 00:00            255     0.0       2.1       5.5     16.85   \n",
              "...                ...            ...     ...       ...       ...       ...   \n",
              "2551  17/05/2021 00:00            196     1.4       2.2       5.5     10.51   \n",
              "2552  17/05/2021 00:00            173     2.8       1.8       5.5     10.80   \n",
              "2553  18/05/2021 00:00            311     0.0       1.4       5.0     10.29   \n",
              "2554  19/05/2021 00:00            232     6.6       1.8       5.5     11.39   \n",
              "2555  20/05/2021 00:00             44     0.0       0.5       2.7      6.35   \n",
              "\n",
              "      humidity_avg  \n",
              "0            64.95  \n",
              "1            72.91  \n",
              "2            74.69  \n",
              "3            71.42  \n",
              "4            74.45  \n",
              "...            ...  \n",
              "2551         99.86  \n",
              "2552         99.86  \n",
              "2553         92.94  \n",
              "2554         90.32  \n",
              "2555         99.86  \n",
              "\n",
              "[2556 rows x 7 columns]"
            ],
            "text/html": [
              "<div>\n",
              "<style scoped>\n",
              "    .dataframe tbody tr th:only-of-type {\n",
              "        vertical-align: middle;\n",
              "    }\n",
              "\n",
              "    .dataframe tbody tr th {\n",
              "        vertical-align: top;\n",
              "    }\n",
              "\n",
              "    .dataframe thead th {\n",
              "        text-align: right;\n",
              "    }\n",
              "</style>\n",
              "<table border=\"1\" class=\"dataframe\">\n",
              "  <thead>\n",
              "    <tr style=\"text-align: right;\">\n",
              "      <th></th>\n",
              "      <th>date</th>\n",
              "      <th>radiation_avg</th>\n",
              "      <th>precip</th>\n",
              "      <th>wind_avg</th>\n",
              "      <th>wind_max</th>\n",
              "      <th>temp_avg</th>\n",
              "      <th>humidity_avg</th>\n",
              "    </tr>\n",
              "  </thead>\n",
              "  <tbody>\n",
              "    <tr>\n",
              "      <th>0</th>\n",
              "      <td>14/05/2014 00:00</td>\n",
              "      <td>159</td>\n",
              "      <td>0.0</td>\n",
              "      <td>1.4</td>\n",
              "      <td>3.3</td>\n",
              "      <td>14.27</td>\n",
              "      <td>64.95</td>\n",
              "    </tr>\n",
              "    <tr>\n",
              "      <th>1</th>\n",
              "      <td>15/05/2014 00:00</td>\n",
              "      <td>280</td>\n",
              "      <td>0.0</td>\n",
              "      <td>0.6</td>\n",
              "      <td>2.3</td>\n",
              "      <td>13.51</td>\n",
              "      <td>72.91</td>\n",
              "    </tr>\n",
              "    <tr>\n",
              "      <th>2</th>\n",
              "      <td>16/05/2014 00:00</td>\n",
              "      <td>186</td>\n",
              "      <td>3.4</td>\n",
              "      <td>0.8</td>\n",
              "      <td>2.7</td>\n",
              "      <td>15.65</td>\n",
              "      <td>74.69</td>\n",
              "    </tr>\n",
              "    <tr>\n",
              "      <th>3</th>\n",
              "      <td>17/05/2014 00:00</td>\n",
              "      <td>221</td>\n",
              "      <td>0.0</td>\n",
              "      <td>1.0</td>\n",
              "      <td>3.3</td>\n",
              "      <td>17.46</td>\n",
              "      <td>71.42</td>\n",
              "    </tr>\n",
              "    <tr>\n",
              "      <th>4</th>\n",
              "      <td>18/05/2014 00:00</td>\n",
              "      <td>255</td>\n",
              "      <td>0.0</td>\n",
              "      <td>2.1</td>\n",
              "      <td>5.5</td>\n",
              "      <td>16.85</td>\n",
              "      <td>74.45</td>\n",
              "    </tr>\n",
              "    <tr>\n",
              "      <th>...</th>\n",
              "      <td>...</td>\n",
              "      <td>...</td>\n",
              "      <td>...</td>\n",
              "      <td>...</td>\n",
              "      <td>...</td>\n",
              "      <td>...</td>\n",
              "      <td>...</td>\n",
              "    </tr>\n",
              "    <tr>\n",
              "      <th>2551</th>\n",
              "      <td>17/05/2021 00:00</td>\n",
              "      <td>196</td>\n",
              "      <td>1.4</td>\n",
              "      <td>2.2</td>\n",
              "      <td>5.5</td>\n",
              "      <td>10.51</td>\n",
              "      <td>99.86</td>\n",
              "    </tr>\n",
              "    <tr>\n",
              "      <th>2552</th>\n",
              "      <td>17/05/2021 00:00</td>\n",
              "      <td>173</td>\n",
              "      <td>2.8</td>\n",
              "      <td>1.8</td>\n",
              "      <td>5.5</td>\n",
              "      <td>10.80</td>\n",
              "      <td>99.86</td>\n",
              "    </tr>\n",
              "    <tr>\n",
              "      <th>2553</th>\n",
              "      <td>18/05/2021 00:00</td>\n",
              "      <td>311</td>\n",
              "      <td>0.0</td>\n",
              "      <td>1.4</td>\n",
              "      <td>5.0</td>\n",
              "      <td>10.29</td>\n",
              "      <td>92.94</td>\n",
              "    </tr>\n",
              "    <tr>\n",
              "      <th>2554</th>\n",
              "      <td>19/05/2021 00:00</td>\n",
              "      <td>232</td>\n",
              "      <td>6.6</td>\n",
              "      <td>1.8</td>\n",
              "      <td>5.5</td>\n",
              "      <td>11.39</td>\n",
              "      <td>90.32</td>\n",
              "    </tr>\n",
              "    <tr>\n",
              "      <th>2555</th>\n",
              "      <td>20/05/2021 00:00</td>\n",
              "      <td>44</td>\n",
              "      <td>0.0</td>\n",
              "      <td>0.5</td>\n",
              "      <td>2.7</td>\n",
              "      <td>6.35</td>\n",
              "      <td>99.86</td>\n",
              "    </tr>\n",
              "  </tbody>\n",
              "</table>\n",
              "<p>2556 rows × 7 columns</p>\n",
              "</div>"
            ]
          },
          "metadata": {},
          "execution_count": 3
        }
      ],
      "metadata": {
        "colab": {
          "base_uri": "https://localhost:8080/",
          "height": 424
        },
        "id": "iA_R1Q-K_a0N",
        "outputId": "94162d66-4d0a-4f95-9cd8-3e94c4623704"
      }
    },
    {
      "cell_type": "code",
      "execution_count": 4,
      "source": [
        "plt.plot(range(len(df)), df['temp_avg'])\r\n",
        "plt.xlabel('Temporal range')\r\n",
        "plt.ylabel('Average temperature (C) (7 years)')\r\n",
        "plt.savefig('temperature_over_time.pdf', bbox_inches='tight')"
      ],
      "outputs": [
        {
          "output_type": "display_data",
          "data": {
            "text/plain": [
              "<Figure size 432x288 with 1 Axes>"
            ],
            "image/png": "[encoded data removed]"
          },
          "metadata": {
            "needs_background": "light"
          }
        }
      ],
      "metadata": {
        "colab": {
          "base_uri": "https://localhost:8080/",
          "height": 279
        },
        "id": "nzsytNAh_a0N",
        "outputId": "fd5d1d32-d135-4784-ed4e-87897d4a5104"
      }
    },
    {
      "cell_type": "code",
      "execution_count": 5,
      "source": [
        "# Look at the first 2 years\r\n",
        "length = 2*365\r\n",
        "plt.plot(range(length), df['temp_avg'][:length])\r\n",
        "plt.xlabel('Temporal range')\r\n",
        "plt.ylabel('Average temperature (C) (2 years)')\r\n",
        "plt.savefig('temperature_over_time_2y.pdf', bbox_inches='tight')"
      ],
      "outputs": [
        {
          "output_type": "display_data",
          "data": {
            "text/plain": [
              "<Figure size 432x288 with 1 Axes>"
            ],
            "image/png": "[encoded data removed]"
          },
          "metadata": {
            "needs_background": "light"
          }
        }
      ],
      "metadata": {
        "colab": {
          "base_uri": "https://localhost:8080/",
          "height": 279
        },
        "id": "ysbM2n99_a0N",
        "outputId": "e83eb333-eb41-43a6-aed4-d467dd53a0ed"
      }
    },
    {
      "cell_type": "markdown",
      "source": [
        "We have clear periodicity every year. In the previous plot we saw 7 cycles (7 years). Here we see 2.\n",
        "\n",
        "Always look for periodicity in your timeseries. There will always be daily and yearly cycles. Check these patterns.\n",
        "\n",
        "Another issue with timeseries is dividing the dataset into train/validation/test sets. We definitely cannot shuffle the data, and we need to be very careful with data leakage (using data from the future)."
      ],
      "metadata": {
        "id": "ikyqi2m7_a0O"
      }
    },
    {
      "cell_type": "markdown",
      "source": [
        "## Data prep\n",
        "\n",
        "We'll try to predict the average temperature of tomorrow based on data from the past.\n",
        "\n",
        "To avoid data leakage, we're going to use a simple approach: use the first 50% of data for training, the next 30% for validation, and the final 20% for testing.\n"
      ],
      "metadata": {
        "id": "1fxuW2ne_a0P"
      }
    },
    {
      "cell_type": "code",
      "execution_count": 6,
      "source": [
        "n_tr, n_val = int(0.5*len(df)), int(0.3*len(df))\r\n",
        "n_te = len(df) - n_tr - n_val\r\n",
        "print('Samples for training: %d; validation: %d; test: %d' % (n_tr, n_val, n_te))"
      ],
      "outputs": [
        {
          "output_type": "stream",
          "name": "stdout",
          "text": [
            "Samples for training: 1278; validation: 766; test: 512\n"
          ]
        }
      ],
      "metadata": {
        "colab": {
          "base_uri": "https://localhost:8080/"
        },
        "id": "vofGsYen_a0P",
        "outputId": "d9c3740f-5cc9-410c-db5b-0e5de780084f"
      }
    },
    {
      "cell_type": "code",
      "execution_count": 7,
      "source": [
        "# Get the data from the dataframe (dropping date column)\r\n",
        "data = df.iloc[:, 1:].values\r\n",
        "print(data.shape)\r\n",
        "assert data.shape[0] == len(df)\r\n",
        "assert data.shape[1] == len(df.columns)-1, \"Are you sure you're dropping the date?\"\r\n",
        "# We need to normalise our time series. Calculate mean and std from TRAINING DATA ONLY. \r\n",
        "# We'll use it on the validation and test sets.\r\n",
        "mean_tr = data[:n_tr, :].mean(axis=0)\r\n",
        "std_tr = data[:n_tr, :].std(axis=0)\r\n",
        "data = (data - mean_tr) / std_tr\r\n",
        "\r\n",
        "\r\n",
        "y = df['temp_avg'].values.reshape(-1, 1)\r\n",
        "\r\n",
        "# index of the column that contains the avg_temp\r\n",
        "y_idx = 4"
      ],
      "outputs": [
        {
          "output_type": "stream",
          "name": "stdout",
          "text": [
            "(2556, 6)\n"
          ]
        }
      ],
      "metadata": {
        "colab": {
          "base_uri": "https://localhost:8080/"
        },
        "id": "lsMDT2Jq_a0P",
        "outputId": "40daccd3-273c-4909-818c-09a40b155929"
      }
    },
    {
      "cell_type": "code",
      "execution_count": 8,
      "source": [
        "data[:20, y_idx] * std_tr[y_idx] + mean_tr[y_idx]"
      ],
      "outputs": [
        {
          "output_type": "execute_result",
          "data": {
            "text/plain": [
              "array([14.27, 13.51, 15.65, 17.46, 16.85, 18.26, 17.35, 15.55, 14.52,\n",
              "       13.93, 11.48, 13.63, 12.81, 12.4 , 13.67, 14.15, 13.22, 12.21,\n",
              "       15.53, 14.52])"
            ]
          },
          "metadata": {},
          "execution_count": 8
        }
      ],
      "metadata": {
        "colab": {
          "base_uri": "https://localhost:8080/"
        },
        "id": "1VJAcdfICLi1",
        "outputId": "41b330ca-bfad-49b3-ccae-fb22c8411336"
      }
    },
    {
      "cell_type": "code",
      "execution_count": 9,
      "source": [
        "y[5:25]"
      ],
      "outputs": [
        {
          "output_type": "execute_result",
          "data": {
            "text/plain": [
              "array([[18.26],\n",
              "       [17.35],\n",
              "       [15.55],\n",
              "       [14.52],\n",
              "       [13.93],\n",
              "       [11.48],\n",
              "       [13.63],\n",
              "       [12.81],\n",
              "       [12.4 ],\n",
              "       [13.67],\n",
              "       [14.15],\n",
              "       [13.22],\n",
              "       [12.21],\n",
              "       [15.53],\n",
              "       [14.52],\n",
              "       [15.35],\n",
              "       [12.29],\n",
              "       [13.88],\n",
              "       [15.13],\n",
              "       [17.29]])"
            ]
          },
          "metadata": {},
          "execution_count": 9
        }
      ],
      "metadata": {
        "colab": {
          "base_uri": "https://localhost:8080/"
        },
        "id": "xN-YJyEeCUv9",
        "outputId": "9cf43612-c0f3-4864-f113-a9a5531e0904"
      }
    },
    {
      "cell_type": "code",
      "execution_count": 10,
      "source": [
        "# We'll use a Dataset from keras to pass our data\r\n",
        "sampling_rate = 1  # we keep all data points\r\n",
        "sequence_length = 14  # 2 weeks to predict tomorrow's temperature\r\n",
        "delay = sampling_rate * sequence_length  # the target is the day after the end of the sequence\r\n",
        "batch_size = 16"
      ],
      "outputs": [],
      "metadata": {
        "id": "K_JGeiAs_a0Q"
      }
    },
    {
      "cell_type": "code",
      "execution_count": 11,
      "source": [
        "train_dataset = keras.utils.timeseries_dataset_from_array(\r\n",
        "    data[:-delay],\r\n",
        "    targets=y[delay:],\r\n",
        "    sampling_rate=sampling_rate, sequence_length=sequence_length,\r\n",
        "    batch_size=batch_size,\r\n",
        "    start_index=0, end_index=n_tr  # first 50% for training\r\n",
        "    )\r\n",
        "\r\n",
        "val_dataset = keras.utils.timeseries_dataset_from_array(\r\n",
        "    data[:-delay],\r\n",
        "    targets=y[delay:],\r\n",
        "    sampling_rate=sampling_rate, sequence_length=sequence_length,\r\n",
        "    batch_size=batch_size,\r\n",
        "    start_index=n_tr, end_index=n_tr+n_val  # 50%-80% for validation\r\n",
        "    )\r\n",
        "\r\n",
        "test_dataset = keras.utils.timeseries_dataset_from_array(\r\n",
        "    data[:-delay],\r\n",
        "    targets=y[delay:],\r\n",
        "    sampling_rate=sampling_rate, sequence_length=sequence_length,\r\n",
        "    batch_size=batch_size,\r\n",
        "    start_index=n_tr+n_val  # last 20% for test\r\n",
        "    )\r\n",
        "\r\n",
        "for X, target in train_dataset:\r\n",
        "    print(\"X shape:\", X.shape)\r\n",
        "    print(\"target shape:\", target.shape)\r\n",
        "    #print(X[:, :, y_idx] * std_tr[y_idx] + mean_tr[y_idx])\r\n",
        "    #print(target)\r\n",
        "    break  # so we only print once"
      ],
      "outputs": [
        {
          "output_type": "stream",
          "name": "stdout",
          "text": [
            "X shape: (16, 14, 6)\n",
            "target shape: (16, 1)\n"
          ]
        }
      ],
      "metadata": {
        "colab": {
          "base_uri": "https://localhost:8080/"
        },
        "id": "cRDGWNYl_a0Q",
        "outputId": "126b8150-1e10-4f4d-afd1-0666658a6796"
      }
    },
    {
      "cell_type": "code",
      "execution_count": 12,
      "source": [
        "# Function to plot history with neural networks\r\n",
        "def plot_hist_regression(hist, y):\r\n",
        "  n_ = len(hist.history['mae'])\r\n",
        "  plt.plot(range(1, n_+1), np.asarray(hist.history['mae']), 'bo', label='MAE on training set')\r\n",
        "  plt.plot(range(1, n_+1), np.asarray(hist.history['val_mae']), 'b', label='MAE on validation set')\r\n",
        "  plt.legend()\r\n",
        "  plt.xlabel(\"Epoch\") \r\n",
        "  plt.ylabel(\"MAE (degrees)\")\r\n",
        "  plt.axhline(y=y)\r\n",
        "  plt.show()\r\n"
      ],
      "outputs": [],
      "metadata": {
        "id": "u_v2rAW_W4kQ"
      }
    },
    {
      "cell_type": "markdown",
      "source": [
        "## Establishing a baseline\n"
      ],
      "metadata": {
        "id": "WlhjIvZR_a0Q"
      }
    },
    {
      "cell_type": "markdown",
      "source": [
        "### Common sense, no ML baseline\n",
        "\n",
        "- Sanity check\n",
        "- To establish whether ML methods are actually any good\n",
        "\n",
        "Tomorrow's temperature is likely to be close to today's: let's predict that the temperature 24 hours from now will be equal to the temperature right now.\n",
        "\n",
        "We'll use the MAE as metric"
      ],
      "metadata": {
        "id": "rloJamyvWPWj"
      }
    },
    {
      "cell_type": "code",
      "execution_count": 13,
      "source": [
        "def naive_method(dataset, mean, std):\r\n",
        "    error = 0\r\n",
        "    samples = 0\r\n",
        "    count = 0\r\n",
        "    for X, target in dataset:\r\n",
        "        pred = X[:, -1, y_idx] * std + mean  # predict last available temperature and un-standardise\r\n",
        "        #print(X.shape, target.shape, pred.shape)  # [batch_size, sequence_length, n_feats]\r\n",
        "        #print(X[:, -1, y_idx] * std + mean, target)\r\n",
        "        error += np.sum(np.abs(pred - target))\r\n",
        "        samples += X.shape[0]  # batch_size\r\n",
        "        count += 1\r\n",
        "    return error / samples / batch_size # average\r\n",
        "\r\n",
        "\r\n",
        "print('MAE on train set = %.2f (degrees Celsius)' % naive_method(train_dataset, mean_tr[y_idx], std_tr[y_idx]))\r\n",
        "print('MAE on validation set = %.2f (degrees Celsius)' % naive_method(val_dataset, mean_tr[y_idx], std_tr[y_idx]))\r\n",
        "print('MAE on test set = %.2f (degrees Celsius)' % naive_method(test_dataset, mean_tr[y_idx], std_tr[y_idx]))\r\n",
        "# Save MAE on validation for later\r\n",
        "baseline = naive_method(val_dataset, mean_tr[y_idx], std_tr[y_idx])"
      ],
      "outputs": [
        {
          "output_type": "stream",
          "name": "stdout",
          "text": [
            "MAE on train set = 2.56 (degrees Celsius)\n",
            "MAE on validation set = 2.69 (degrees Celsius)\n",
            "MAE on test set = 2.85 (degrees Celsius)\n"
          ]
        }
      ],
      "metadata": {
        "colab": {
          "base_uri": "https://localhost:8080/"
        },
        "id": "MUY5acIf_a0Q",
        "outputId": "dcdc5e72-a117-43ca-c7f5-7c31437c7444"
      }
    },
    {
      "cell_type": "markdown",
      "source": [
        "This baseline achieves a validation MAE of 2.69 degrees and a test MAE of 2.85 degrees. So if we assume that tomorrow's temperature will be the same as today's, we'll be off by less than 3 degrees on average.\n",
        "\n",
        "Not too bad, but surely we can do better!"
      ],
      "metadata": {
        "id": "znycUtxiJmAF"
      }
    },
    {
      "cell_type": "markdown",
      "source": [
        "### Simple ML baseline\n",
        "\n",
        "\n"
      ],
      "metadata": {
        "id": "7c-duA1Z_a0R"
      }
    },
    {
      "cell_type": "code",
      "execution_count": 14,
      "source": [
        "# To get some practice with neural networks, we'll try a 1-layer NN with nothing fancy.\r\n",
        "\r\n",
        "model_dense = models.Sequential()\r\n",
        "model_dense.add(layers.Flatten(input_shape=(sequence_length, len(df.columns)-1)))  # we need to specify the input shape or we won't be able to see the summary\r\n",
        "model_dense.add(layers.Dense(10, activation='relu'))\r\n",
        "model_dense.add(layers.Dense(1))\r\n",
        "\r\n",
        "model_dense.summary()"
      ],
      "outputs": [
        {
          "output_type": "stream",
          "name": "stdout",
          "text": [
            "Model: \"sequential\"\n",
            "_________________________________________________________________\n",
            "Layer (type)                 Output Shape              Param #   \n",
            "=================================================================\n",
            "flatten (Flatten)            (None, 84)                0         \n",
            "_________________________________________________________________\n",
            "dense (Dense)                (None, 10)                850       \n",
            "_________________________________________________________________\n",
            "dense_1 (Dense)              (None, 1)                 11        \n",
            "=================================================================\n",
            "Total params: 861\n",
            "Trainable params: 861\n",
            "Non-trainable params: 0\n",
            "_________________________________________________________________\n"
          ]
        }
      ],
      "metadata": {
        "colab": {
          "base_uri": "https://localhost:8080/"
        },
        "id": "fWGqpICHJlRe",
        "outputId": "23ab2130-e029-42ac-95ae-a1174fb801d5"
      }
    },
    {
      "cell_type": "code",
      "execution_count": 15,
      "source": [
        "n_epochs = 20\r\n",
        "\r\n",
        "model_dense.compile(optimizer='rmsprop', loss='mse', metrics=['mae'])\r\n",
        "history_dense = model_dense.fit(train_dataset, epochs=n_epochs, validation_data=val_dataset)"
      ],
      "outputs": [
        {
          "output_type": "stream",
          "name": "stdout",
          "text": [
            "Epoch 1/20\n",
            "80/80 [==============================] - 1s 4ms/step - loss: 146.8071 - mae: 11.0524 - val_loss: 130.5314 - val_mae: 10.3649\n",
            "Epoch 2/20\n",
            "80/80 [==============================] - 0s 3ms/step - loss: 120.2198 - mae: 10.0464 - val_loss: 105.5333 - val_mae: 9.3282\n",
            "Epoch 3/20\n",
            "80/80 [==============================] - 0s 3ms/step - loss: 92.9173 - mae: 8.7987 - val_loss: 79.3697 - val_mae: 8.0367\n",
            "Epoch 4/20\n",
            "80/80 [==============================] - 0s 3ms/step - loss: 66.4918 - mae: 7.3030 - val_loss: 55.7016 - val_mae: 6.5201\n",
            "Epoch 5/20\n",
            "80/80 [==============================] - 0s 3ms/step - loss: 46.1587 - mae: 5.8624 - val_loss: 40.0240 - val_mae: 5.2348\n",
            "Epoch 6/20\n",
            "80/80 [==============================] - 0s 3ms/step - loss: 35.9503 - mae: 4.9953 - val_loss: 33.4084 - val_mae: 4.7167\n",
            "Epoch 7/20\n",
            "80/80 [==============================] - 0s 4ms/step - loss: 32.3490 - mae: 4.6905 - val_loss: 31.1724 - val_mae: 4.5318\n",
            "Epoch 8/20\n",
            "80/80 [==============================] - 0s 3ms/step - loss: 30.5619 - mae: 4.5306 - val_loss: 29.9448 - val_mae: 4.4317\n",
            "Epoch 9/20\n",
            "80/80 [==============================] - 0s 3ms/step - loss: 29.1688 - mae: 4.4180 - val_loss: 28.9101 - val_mae: 4.3490\n",
            "Epoch 10/20\n",
            "80/80 [==============================] - 0s 2ms/step - loss: 27.8918 - mae: 4.3164 - val_loss: 27.8273 - val_mae: 4.2604\n",
            "Epoch 11/20\n",
            "80/80 [==============================] - 0s 3ms/step - loss: 26.6691 - mae: 4.2197 - val_loss: 26.7023 - val_mae: 4.1705\n",
            "Epoch 12/20\n",
            "80/80 [==============================] - 0s 3ms/step - loss: 25.4600 - mae: 4.1237 - val_loss: 25.5201 - val_mae: 4.0767\n",
            "Epoch 13/20\n",
            "80/80 [==============================] - 0s 3ms/step - loss: 24.2370 - mae: 4.0254 - val_loss: 24.2703 - val_mae: 3.9746\n",
            "Epoch 14/20\n",
            "80/80 [==============================] - 0s 3ms/step - loss: 22.9952 - mae: 3.9235 - val_loss: 22.9897 - val_mae: 3.8687\n",
            "Epoch 15/20\n",
            "80/80 [==============================] - 0s 2ms/step - loss: 21.7223 - mae: 3.8159 - val_loss: 21.6825 - val_mae: 3.7550\n",
            "Epoch 16/20\n",
            "80/80 [==============================] - 0s 3ms/step - loss: 20.4193 - mae: 3.7012 - val_loss: 20.4032 - val_mae: 3.6391\n",
            "Epoch 17/20\n",
            "80/80 [==============================] - 0s 2ms/step - loss: 19.1325 - mae: 3.5835 - val_loss: 19.1558 - val_mae: 3.5243\n",
            "Epoch 18/20\n",
            "80/80 [==============================] - 0s 3ms/step - loss: 17.8719 - mae: 3.4625 - val_loss: 17.9808 - val_mae: 3.4127\n",
            "Epoch 19/20\n",
            "80/80 [==============================] - 0s 2ms/step - loss: 16.6690 - mae: 3.3421 - val_loss: 16.8657 - val_mae: 3.3040\n",
            "Epoch 20/20\n",
            "80/80 [==============================] - 0s 3ms/step - loss: 15.5345 - mae: 3.2249 - val_loss: 15.8486 - val_mae: 3.2014\n"
          ]
        }
      ],
      "metadata": {
        "colab": {
          "base_uri": "https://localhost:8080/"
        },
        "id": "p0Hz1rX8LMfT",
        "outputId": "e9674789-48af-4682-f7fa-aec2fc10cb4a"
      }
    },
    {
      "cell_type": "code",
      "execution_count": 16,
      "source": [
        "# Plot MAE cures for validation and training\r\n",
        "plot_hist_regression(history_dense, baseline)"
      ],
      "outputs": [
        {
          "output_type": "display_data",
          "data": {
            "text/plain": [
              "<Figure size 432x288 with 1 Axes>"
            ],
            "image/png": "[encoded data removed]"
          },
          "metadata": {
            "needs_background": "light"
          }
        }
      ],
      "metadata": {
        "colab": {
          "base_uri": "https://localhost:8080/",
          "height": 283
        },
        "id": "aBRYn-AKMCi4",
        "outputId": "7c1891b1-da33-4052-e71b-e0876c7bdbca"
      }
    },
    {
      "cell_type": "markdown",
      "source": [
        "Validation loss is worse than what we had with our common-sense baseline, and we're already overfitting (MAE on training set is lower than on validation set). It turns out our previous baseline is not as easy to outperform as we thought!\n",
        "\n",
        "Remember our 'hypothesis space'? Using 2 Dense layers doesn't seem to be very useful in this case. We need other types of layers for this problem."
      ],
      "metadata": {
        "id": "1EJywOA5NJa9"
      }
    },
    {
      "cell_type": "code",
      "execution_count": 17,
      "source": [
        "# We know that CNNs take advantage of neighbouring values, so why don't we try that?\r\n",
        "\r\n",
        "# In addition to the Conv2D layers we saw last week, there are Conv1D and Conv3D layers. \r\n",
        "# Conv1D layers rely on 1D windows that slide across an input sequence (imagine a 1D image)\r\n",
        "\r\n",
        "model_cnn = models.Sequential()\r\n",
        "model_cnn.add(layers.Conv1D(8, 7, activation='relu', input_shape=(sequence_length, len(df.columns)-1)))\r\n",
        "model_cnn.add(layers.MaxPooling1D(2))\r\n",
        "model_cnn.add(layers.Conv1D(8, 3, activation='relu'))\r\n",
        "model_cnn.add(layers.MaxPooling1D(2))\r\n",
        "model_cnn.add(layers.GlobalAveragePooling1D())\r\n",
        "model_cnn.add(layers.Dense(1))\r\n",
        "\r\n",
        "model_cnn.summary()"
      ],
      "outputs": [
        {
          "output_type": "stream",
          "name": "stdout",
          "text": [
            "Model: \"sequential_1\"\n",
            "_________________________________________________________________\n",
            "Layer (type)                 Output Shape              Param #   \n",
            "=================================================================\n",
            "conv1d (Conv1D)              (None, 8, 8)              344       \n",
            "_________________________________________________________________\n",
            "max_pooling1d (MaxPooling1D) (None, 4, 8)              0         \n",
            "_________________________________________________________________\n",
            "conv1d_1 (Conv1D)            (None, 2, 8)              200       \n",
            "_________________________________________________________________\n",
            "max_pooling1d_1 (MaxPooling1 (None, 1, 8)              0         \n",
            "_________________________________________________________________\n",
            "global_average_pooling1d (Gl (None, 8)                 0         \n",
            "_________________________________________________________________\n",
            "dense_2 (Dense)              (None, 1)                 9         \n",
            "=================================================================\n",
            "Total params: 553\n",
            "Trainable params: 553\n",
            "Non-trainable params: 0\n",
            "_________________________________________________________________\n"
          ]
        }
      ],
      "metadata": {
        "colab": {
          "base_uri": "https://localhost:8080/"
        },
        "id": "k6PADykQPIjq",
        "outputId": "0c3d48b1-f910-4648-d08e-e6147fc3b5b6"
      }
    },
    {
      "cell_type": "code",
      "execution_count": 18,
      "source": [
        "model_cnn.compile(optimizer='rmsprop', loss='mse', metrics=['mae'])\r\n",
        "history_cnn = model_cnn.fit(train_dataset, epochs=n_epochs,\r\n",
        "                            validation_data=val_dataset)"
      ],
      "outputs": [
        {
          "output_type": "stream",
          "name": "stdout",
          "text": [
            "Epoch 1/20\n",
            "80/80 [==============================] - 1s 3ms/step - loss: 152.7993 - mae: 11.1454 - val_loss: 128.6849 - val_mae: 9.9661\n",
            "Epoch 2/20\n",
            "80/80 [==============================] - 0s 2ms/step - loss: 115.2887 - mae: 9.5858 - val_loss: 94.8381 - val_mae: 8.5316\n",
            "Epoch 3/20\n",
            "80/80 [==============================] - 0s 2ms/step - loss: 72.5209 - mae: 7.5715 - val_loss: 52.2324 - val_mae: 6.3796\n",
            "Epoch 4/20\n",
            "80/80 [==============================] - 0s 2ms/step - loss: 34.5204 - mae: 4.9928 - val_loss: 25.2637 - val_mae: 4.1495\n",
            "Epoch 5/20\n",
            "80/80 [==============================] - 0s 3ms/step - loss: 20.6950 - mae: 3.7270 - val_loss: 18.1880 - val_mae: 3.4218\n",
            "Epoch 6/20\n",
            "80/80 [==============================] - 0s 4ms/step - loss: 16.2171 - mae: 3.2767 - val_loss: 16.0208 - val_mae: 3.1375\n",
            "Epoch 7/20\n",
            "80/80 [==============================] - 0s 3ms/step - loss: 14.3507 - mae: 3.0708 - val_loss: 15.4002 - val_mae: 3.0423\n",
            "Epoch 8/20\n",
            "80/80 [==============================] - 0s 3ms/step - loss: 13.3794 - mae: 2.9579 - val_loss: 14.9349 - val_mae: 2.9856\n",
            "Epoch 9/20\n",
            "80/80 [==============================] - 0s 2ms/step - loss: 12.6556 - mae: 2.8707 - val_loss: 14.5201 - val_mae: 2.9394\n",
            "Epoch 10/20\n",
            "80/80 [==============================] - 0s 3ms/step - loss: 12.0581 - mae: 2.7995 - val_loss: 14.1757 - val_mae: 2.8999\n",
            "Epoch 11/20\n",
            "80/80 [==============================] - 0s 3ms/step - loss: 11.5583 - mae: 2.7400 - val_loss: 13.8579 - val_mae: 2.8687\n",
            "Epoch 12/20\n",
            "80/80 [==============================] - 0s 3ms/step - loss: 11.1585 - mae: 2.6930 - val_loss: 13.5543 - val_mae: 2.8418\n",
            "Epoch 13/20\n",
            "80/80 [==============================] - 0s 2ms/step - loss: 10.8200 - mae: 2.6516 - val_loss: 13.3238 - val_mae: 2.8214\n",
            "Epoch 14/20\n",
            "80/80 [==============================] - 0s 3ms/step - loss: 10.5338 - mae: 2.6166 - val_loss: 13.0990 - val_mae: 2.8025\n",
            "Epoch 15/20\n",
            "80/80 [==============================] - 0s 3ms/step - loss: 10.2859 - mae: 2.5847 - val_loss: 12.9150 - val_mae: 2.7860\n",
            "Epoch 16/20\n",
            "80/80 [==============================] - 0s 3ms/step - loss: 10.0644 - mae: 2.5557 - val_loss: 12.7544 - val_mae: 2.7704\n",
            "Epoch 17/20\n",
            "80/80 [==============================] - 0s 3ms/step - loss: 9.8642 - mae: 2.5291 - val_loss: 12.5672 - val_mae: 2.7538\n",
            "Epoch 18/20\n",
            "80/80 [==============================] - 0s 3ms/step - loss: 9.6778 - mae: 2.5039 - val_loss: 12.3959 - val_mae: 2.7376\n",
            "Epoch 19/20\n",
            "80/80 [==============================] - 0s 3ms/step - loss: 9.5069 - mae: 2.4810 - val_loss: 12.2695 - val_mae: 2.7245\n",
            "Epoch 20/20\n",
            "80/80 [==============================] - 0s 3ms/step - loss: 9.3422 - mae: 2.4585 - val_loss: 12.1199 - val_mae: 2.7102\n"
          ]
        }
      ],
      "metadata": {
        "colab": {
          "base_uri": "https://localhost:8080/"
        },
        "id": "PSGRJSulQs22",
        "outputId": "44faf343-33d6-44d4-8d70-2ae98c010db0"
      }
    },
    {
      "cell_type": "code",
      "execution_count": 19,
      "source": [
        "# Plot MAE cures for validation and training\r\n",
        "plot_hist_regression(history_cnn, baseline)"
      ],
      "outputs": [
        {
          "output_type": "display_data",
          "data": {
            "text/plain": [
              "<Figure size 432x288 with 1 Axes>"
            ],
            "image/png": "[encoded data removed]"
          },
          "metadata": {
            "needs_background": "light"
          }
        }
      ],
      "metadata": {
        "colab": {
          "base_uri": "https://localhost:8080/",
          "height": 279
        },
        "id": "6bB6lzLYSG-u",
        "outputId": "8062cd61-ad7a-45a8-c123-048505f8985e"
      }
    },
    {
      "cell_type": "markdown",
      "source": [
        "This model isn't any better, with a validation MAE of 2.77 degrees (also worse than the 'common-sense approach' that we tried at first), and we're overfitting a bit too.\n",
        "\n",
        "Why?\n",
        "\n",
        "In timeseries, order matters a lot: the recent past is more informative than data from 5 days ago, and convolutional layers don't take advantage of this fact -- max pooling and global average pooling layers actually destroy this order information."
      ],
      "metadata": {
        "id": "Kc2iMPSHViL1"
      }
    },
    {
      "cell_type": "markdown",
      "source": [
        "## Long Short Term Memory (LSTM) Neural Networks\n",
        "\n",
        "\n"
      ],
      "metadata": {
        "id": "3ozUAZX__a0R"
      }
    },
    {
      "cell_type": "code",
      "execution_count": 20,
      "source": [
        "# 1-layer LSTM\r\n",
        "\r\n",
        "model_lstm1 = models.Sequential()\r\n",
        "model_lstm1.add(layers.LSTM(20, input_shape=(sequence_length, len(df.columns)-1)))\r\n",
        "model_lstm1.add(layers.Dense(1))\r\n",
        "\r\n",
        "model_lstm1.summary()"
      ],
      "outputs": [
        {
          "output_type": "stream",
          "name": "stdout",
          "text": [
            "Model: \"sequential_2\"\n",
            "_________________________________________________________________\n",
            "Layer (type)                 Output Shape              Param #   \n",
            "=================================================================\n",
            "lstm (LSTM)                  (None, 20)                2160      \n",
            "_________________________________________________________________\n",
            "dense_3 (Dense)              (None, 1)                 21        \n",
            "=================================================================\n",
            "Total params: 2,181\n",
            "Trainable params: 2,181\n",
            "Non-trainable params: 0\n",
            "_________________________________________________________________\n"
          ]
        }
      ],
      "metadata": {
        "id": "2dWfiaUw_a0R",
        "colab": {
          "base_uri": "https://localhost:8080/"
        },
        "outputId": "dd802c62-1be0-45b4-8d14-1f2a606b0d55"
      }
    },
    {
      "cell_type": "code",
      "execution_count": 21,
      "source": [
        "n_epochs = 20"
      ],
      "outputs": [],
      "metadata": {
        "id": "DMst2Mp0R0Xi"
      }
    },
    {
      "cell_type": "code",
      "execution_count": 22,
      "source": [
        "model_lstm1.compile(optimizer='rmsprop', loss='mse', metrics=['mae'])\r\n",
        "history_lstm1 = model_lstm1.fit(train_dataset, epochs=n_epochs,\r\n",
        "                            validation_data=val_dataset)"
      ],
      "outputs": [
        {
          "output_type": "stream",
          "name": "stdout",
          "text": [
            "Epoch 1/20\n",
            "80/80 [==============================] - 2s 11ms/step - loss: 136.1781 - mae: 10.5868 - val_loss: 117.2313 - val_mae: 9.7671\n",
            "Epoch 2/20\n",
            "80/80 [==============================] - 1s 8ms/step - loss: 88.1681 - mae: 8.3488 - val_loss: 60.0175 - val_mae: 6.4826\n",
            "Epoch 3/20\n",
            "80/80 [==============================] - 1s 7ms/step - loss: 46.3416 - mae: 5.6214 - val_loss: 38.0296 - val_mae: 4.8330\n",
            "Epoch 4/20\n",
            "80/80 [==============================] - 1s 8ms/step - loss: 33.1544 - mae: 4.6977 - val_loss: 29.6731 - val_mae: 4.2766\n",
            "Epoch 5/20\n",
            "80/80 [==============================] - 1s 7ms/step - loss: 26.3156 - mae: 4.1839 - val_loss: 24.6383 - val_mae: 3.9225\n",
            "Epoch 6/20\n",
            "80/80 [==============================] - 1s 7ms/step - loss: 21.5010 - mae: 3.7742 - val_loss: 20.8734 - val_mae: 3.6250\n",
            "Epoch 7/20\n",
            "80/80 [==============================] - 1s 7ms/step - loss: 17.8814 - mae: 3.4360 - val_loss: 17.9357 - val_mae: 3.3653\n",
            "Epoch 8/20\n",
            "80/80 [==============================] - 1s 7ms/step - loss: 15.1047 - mae: 3.1516 - val_loss: 15.5419 - val_mae: 3.1258\n",
            "Epoch 9/20\n",
            "80/80 [==============================] - 1s 7ms/step - loss: 12.8052 - mae: 2.8815 - val_loss: 13.6394 - val_mae: 2.9262\n",
            "Epoch 10/20\n",
            "80/80 [==============================] - 1s 7ms/step - loss: 10.8852 - mae: 2.6418 - val_loss: 12.1211 - val_mae: 2.7685\n",
            "Epoch 11/20\n",
            "80/80 [==============================] - 1s 8ms/step - loss: 9.4948 - mae: 2.4600 - val_loss: 10.9679 - val_mae: 2.6431\n",
            "Epoch 12/20\n",
            "80/80 [==============================] - 1s 9ms/step - loss: 8.4825 - mae: 2.3231 - val_loss: 10.0532 - val_mae: 2.5344\n",
            "Epoch 13/20\n",
            "80/80 [==============================] - 1s 8ms/step - loss: 7.7179 - mae: 2.2155 - val_loss: 9.3123 - val_mae: 2.4452\n",
            "Epoch 14/20\n",
            "80/80 [==============================] - 1s 8ms/step - loss: 7.1387 - mae: 2.1325 - val_loss: 8.7278 - val_mae: 2.3744\n",
            "Epoch 15/20\n",
            "80/80 [==============================] - 1s 7ms/step - loss: 6.7211 - mae: 2.0700 - val_loss: 8.2845 - val_mae: 2.3221\n",
            "Epoch 16/20\n",
            "80/80 [==============================] - 1s 7ms/step - loss: 6.4176 - mae: 2.0219 - val_loss: 7.9462 - val_mae: 2.2786\n",
            "Epoch 17/20\n",
            "80/80 [==============================] - 1s 7ms/step - loss: 6.1803 - mae: 1.9826 - val_loss: 7.6769 - val_mae: 2.2401\n",
            "Epoch 18/20\n",
            "80/80 [==============================] - 1s 8ms/step - loss: 5.9783 - mae: 1.9486 - val_loss: 7.4536 - val_mae: 2.2066\n",
            "Epoch 19/20\n",
            "80/80 [==============================] - 1s 8ms/step - loss: 5.7971 - mae: 1.9177 - val_loss: 7.2642 - val_mae: 2.1766\n",
            "Epoch 20/20\n",
            "80/80 [==============================] - 1s 8ms/step - loss: 5.6315 - mae: 1.8892 - val_loss: 7.0990 - val_mae: 2.1494\n"
          ]
        }
      ],
      "metadata": {
        "colab": {
          "base_uri": "https://localhost:8080/"
        },
        "id": "Pff2tZQHXb-z",
        "outputId": "7a1028ea-cda1-4359-dfa8-a986de309d50"
      }
    },
    {
      "cell_type": "code",
      "execution_count": 23,
      "source": [
        "# Plot MAE cures for validation and training\r\n",
        "plot_hist_regression(history_lstm1, baseline)\r\n"
      ],
      "outputs": [
        {
          "output_type": "display_data",
          "data": {
            "text/plain": [
              "<Figure size 432x288 with 1 Axes>"
            ],
            "image/png": "[encoded data removed]"
          },
          "metadata": {
            "needs_background": "light"
          }
        }
      ],
      "metadata": {
        "colab": {
          "base_uri": "https://localhost:8080/",
          "height": 279
        },
        "id": "hr-bgDUvXmvS",
        "outputId": "9462df20-d32e-45db-ed9d-af5786c6ebdd"
      }
    },
    {
      "cell_type": "code",
      "execution_count": 24,
      "source": [
        "print('Test MAE = %.2f degrees' % model_lstm1.evaluate(test_dataset)[1])"
      ],
      "outputs": [
        {
          "output_type": "stream",
          "name": "stdout",
          "text": [
            "31/31 [==============================] - 0s 2ms/step - loss: 7.9164 - mae: 2.2097\n",
            "Test MAE = 2.21 degrees\n"
          ]
        }
      ],
      "metadata": {
        "colab": {
          "base_uri": "https://localhost:8080/"
        },
        "id": "0fFZvXXUcQ67",
        "outputId": "8ac06bad-6b70-4bb6-e4f2-964253e5fa03"
      }
    },
    {
      "cell_type": "markdown",
      "source": [
        "Success! We finally beat the common-sense baseline! The validation MAE now is 2.12 degrees, and the test MAE is 2.27.\n",
        "\n",
        "Why do LSTM layers work? Let's go back to the slides"
      ],
      "metadata": {
        "id": "bYSWwI1aXvwL"
      }
    },
    {
      "cell_type": "code",
      "execution_count": 25,
      "source": [
        "# Adding dropout\r\n",
        "\r\n",
        "model_lstm2 = models.Sequential()\r\n",
        "model_lstm2.add(layers.LSTM(20, input_shape=(sequence_length, len(df.columns)-1), recurrent_dropout=0.25))\r\n",
        "model_lstm2.add(layers.Dropout(0.4))\r\n",
        "model_lstm2.add(layers.Dense(1))\r\n",
        "\r\n",
        "model_lstm2.summary()"
      ],
      "outputs": [
        {
          "output_type": "stream",
          "name": "stdout",
          "text": [
            "Model: \"sequential_3\"\n",
            "_________________________________________________________________\n",
            "Layer (type)                 Output Shape              Param #   \n",
            "=================================================================\n",
            "lstm_1 (LSTM)                (None, 20)                2160      \n",
            "_________________________________________________________________\n",
            "dropout (Dropout)            (None, 20)                0         \n",
            "_________________________________________________________________\n",
            "dense_4 (Dense)              (None, 1)                 21        \n",
            "=================================================================\n",
            "Total params: 2,181\n",
            "Trainable params: 2,181\n",
            "Non-trainable params: 0\n",
            "_________________________________________________________________\n"
          ]
        }
      ],
      "metadata": {
        "id": "acSYakeOcokB",
        "colab": {
          "base_uri": "https://localhost:8080/"
        },
        "outputId": "2fb126f8-5e20-4748-884a-0ca6b8670f03"
      }
    },
    {
      "cell_type": "code",
      "execution_count": 26,
      "source": [
        "model_lstm2.compile(optimizer='rmsprop', loss='mse', metrics=['mae'])\r\n",
        "history_lstm2 = model_lstm2.fit(train_dataset, epochs=n_epochs,\r\n",
        "                            validation_data=val_dataset)"
      ],
      "outputs": [
        {
          "output_type": "stream",
          "name": "stdout",
          "text": [
            "Epoch 1/20\n",
            "80/80 [==============================] - 3s 13ms/step - loss: 138.6370 - mae: 10.5689 - val_loss: 113.2869 - val_mae: 9.3603\n",
            "Epoch 2/20\n",
            "80/80 [==============================] - 1s 11ms/step - loss: 89.5263 - mae: 8.1664 - val_loss: 60.2535 - val_mae: 6.2306\n",
            "Epoch 3/20\n",
            "80/80 [==============================] - 1s 11ms/step - loss: 52.6119 - mae: 5.9791 - val_loss: 42.2758 - val_mae: 5.0914\n",
            "Epoch 4/20\n",
            "80/80 [==============================] - 1s 10ms/step - loss: 39.7453 - mae: 5.1082 - val_loss: 33.7392 - val_mae: 4.5825\n",
            "Epoch 5/20\n",
            "80/80 [==============================] - 1s 11ms/step - loss: 33.0108 - mae: 4.6274 - val_loss: 27.5970 - val_mae: 4.1556\n",
            "Epoch 6/20\n",
            "80/80 [==============================] - 1s 12ms/step - loss: 27.7957 - mae: 4.2652 - val_loss: 23.3754 - val_mae: 3.8467\n",
            "Epoch 7/20\n",
            "80/80 [==============================] - 1s 12ms/step - loss: 23.2275 - mae: 3.8322 - val_loss: 19.9862 - val_mae: 3.5524\n",
            "Epoch 8/20\n",
            "80/80 [==============================] - 1s 11ms/step - loss: 21.1632 - mae: 3.6363 - val_loss: 17.2347 - val_mae: 3.2881\n",
            "Epoch 9/20\n",
            "80/80 [==============================] - 1s 11ms/step - loss: 17.6950 - mae: 3.3664 - val_loss: 14.9432 - val_mae: 3.0452\n",
            "Epoch 10/20\n",
            "80/80 [==============================] - 1s 11ms/step - loss: 16.4488 - mae: 3.2125 - val_loss: 13.2917 - val_mae: 2.8751\n",
            "Epoch 11/20\n",
            "80/80 [==============================] - 1s 12ms/step - loss: 15.8479 - mae: 3.1708 - val_loss: 12.3480 - val_mae: 2.7878\n",
            "Epoch 12/20\n",
            "80/80 [==============================] - 1s 11ms/step - loss: 13.9157 - mae: 2.9323 - val_loss: 11.1656 - val_mae: 2.6514\n",
            "Epoch 13/20\n",
            "80/80 [==============================] - 1s 11ms/step - loss: 13.3872 - mae: 2.8798 - val_loss: 9.9881 - val_mae: 2.5007\n",
            "Epoch 14/20\n",
            "80/80 [==============================] - 1s 12ms/step - loss: 13.1998 - mae: 2.8806 - val_loss: 9.2273 - val_mae: 2.3999\n",
            "Epoch 15/20\n",
            "80/80 [==============================] - 1s 12ms/step - loss: 12.1087 - mae: 2.7407 - val_loss: 8.6799 - val_mae: 2.3335\n",
            "Epoch 16/20\n",
            "80/80 [==============================] - 1s 11ms/step - loss: 11.3151 - mae: 2.6769 - val_loss: 8.1448 - val_mae: 2.2656\n",
            "Epoch 17/20\n",
            "80/80 [==============================] - 1s 11ms/step - loss: 11.0526 - mae: 2.6263 - val_loss: 7.9805 - val_mae: 2.2551\n",
            "Epoch 18/20\n",
            "80/80 [==============================] - 1s 12ms/step - loss: 11.3294 - mae: 2.6738 - val_loss: 7.6957 - val_mae: 2.2211\n",
            "Epoch 19/20\n",
            "80/80 [==============================] - 1s 11ms/step - loss: 10.5749 - mae: 2.5962 - val_loss: 7.3747 - val_mae: 2.1741\n",
            "Epoch 20/20\n",
            "80/80 [==============================] - 1s 11ms/step - loss: 11.2085 - mae: 2.6226 - val_loss: 7.4434 - val_mae: 2.1911\n"
          ]
        }
      ],
      "metadata": {
        "colab": {
          "base_uri": "https://localhost:8080/"
        },
        "id": "LvRnf9TWSWf9",
        "outputId": "af247ccc-7255-4ca4-b8db-192913fc835a"
      }
    },
    {
      "cell_type": "code",
      "execution_count": 27,
      "source": [
        "# Plot MAE cures for validation and training\r\n",
        "plot_hist_regression(history_lstm2, baseline)"
      ],
      "outputs": [
        {
          "output_type": "display_data",
          "data": {
            "text/plain": [
              "<Figure size 432x288 with 1 Axes>"
            ],
            "image/png": "[encoded data removed]"
          },
          "metadata": {
            "needs_background": "light"
          }
        }
      ],
      "metadata": {
        "colab": {
          "base_uri": "https://localhost:8080/",
          "height": 279
        },
        "id": "cWpm-j9iSck1",
        "outputId": "cf66d132-b95f-456c-d6a4-86c9d28a5aef"
      }
    },
    {
      "cell_type": "code",
      "execution_count": 28,
      "source": [
        "print('Test MAE = %.2f degrees' % model_lstm2.evaluate(test_dataset)[1])"
      ],
      "outputs": [
        {
          "output_type": "stream",
          "name": "stdout",
          "text": [
            "31/31 [==============================] - 0s 3ms/step - loss: 7.8369 - mae: 2.1624\n",
            "Test MAE = 2.16 degrees\n"
          ]
        }
      ],
      "metadata": {
        "colab": {
          "base_uri": "https://localhost:8080/"
        },
        "id": "rAIQrQDVSmSM",
        "outputId": "8008e969-28d8-48e4-a402-720ada6f59a8"
      }
    },
    {
      "cell_type": "markdown",
      "source": [
        "Note that validation set MAE is now lower than MAE on training set -- no longer overfitting. Validation MAE is 2.16 and test MAE is also 2.16.\n",
        "\n",
        "NOTE: This is a very simple dataset with very small differences in performance between different models.  You'll just have to take my word for it that *in general* this approach works. "
      ],
      "metadata": {
        "id": "H3OrpvE3S4gM"
      }
    },
    {
      "cell_type": "code",
      "execution_count": 29,
      "source": [
        "# Performance in the previous figure can (maybe) still be improved\r\n",
        "# Let's try to add some more layers -- we can do this now that we're no longer overfitting\r\n",
        "\r\n",
        "model_lstm3 = models.Sequential()\r\n",
        "model_lstm3.add(layers.LSTM(20, input_shape=(sequence_length, len(df.columns)-1), recurrent_dropout=0.25, return_sequences=True))  # NEW!\r\n",
        "model_lstm3.add(layers.LSTM(20, input_shape=(sequence_length, len(df.columns)-1), recurrent_dropout=0.25))  # NEW!!\r\n",
        "model_lstm3.add(layers.Dropout(0.4))\r\n",
        "model_lstm3.add(layers.Dense(1))\r\n",
        "model_lstm3.summary()"
      ],
      "outputs": [
        {
          "output_type": "stream",
          "name": "stdout",
          "text": [
            "Model: \"sequential_4\"\n",
            "_________________________________________________________________\n",
            "Layer (type)                 Output Shape              Param #   \n",
            "=================================================================\n",
            "lstm_2 (LSTM)                (None, 14, 20)            2160      \n",
            "_________________________________________________________________\n",
            "lstm_3 (LSTM)                (None, 20)                3280      \n",
            "_________________________________________________________________\n",
            "dropout_1 (Dropout)          (None, 20)                0         \n",
            "_________________________________________________________________\n",
            "dense_5 (Dense)              (None, 1)                 21        \n",
            "=================================================================\n",
            "Total params: 5,461\n",
            "Trainable params: 5,461\n",
            "Non-trainable params: 0\n",
            "_________________________________________________________________\n"
          ]
        }
      ],
      "metadata": {
        "colab": {
          "base_uri": "https://localhost:8080/"
        },
        "id": "jq_ZDTttTX6_",
        "outputId": "3178ee55-e729-4191-b765-4e81bec2a291"
      }
    },
    {
      "cell_type": "code",
      "execution_count": 30,
      "source": [
        "model_lstm3.compile(optimizer='rmsprop', loss='mse', metrics=['mae'])\r\n",
        "\r\n",
        "callbacks = [EarlyStopping(monitor='val_mae', patience=2)]\r\n",
        "\r\n",
        "history_lstm3 = model_lstm3.fit(train_dataset, epochs=60,  # increased number of epochs\r\n",
        "                            validation_data=val_dataset,\r\n",
        "                            callbacks=callbacks)  # but added early stopping callback\r\n"
      ],
      "outputs": [
        {
          "output_type": "stream",
          "name": "stdout",
          "text": [
            "Epoch 1/60\n",
            "80/80 [==============================] - 6s 24ms/step - loss: 112.3571 - mae: 9.4710 - val_loss: 65.0199 - val_mae: 6.7141\n",
            "Epoch 2/60\n",
            "80/80 [==============================] - 1s 19ms/step - loss: 49.5439 - mae: 5.8172 - val_loss: 37.3763 - val_mae: 4.8002\n",
            "Epoch 3/60\n",
            "80/80 [==============================] - 2s 21ms/step - loss: 34.6432 - mae: 4.8066 - val_loss: 29.9060 - val_mae: 4.3358\n",
            "Epoch 4/60\n",
            "80/80 [==============================] - 2s 20ms/step - loss: 28.8766 - mae: 4.3668 - val_loss: 25.1699 - val_mae: 3.9971\n",
            "Epoch 5/60\n",
            "80/80 [==============================] - 1s 17ms/step - loss: 24.7665 - mae: 3.9551 - val_loss: 23.0122 - val_mae: 3.8963\n",
            "Epoch 6/60\n",
            "80/80 [==============================] - 1s 17ms/step - loss: 21.2041 - mae: 3.6864 - val_loss: 19.9960 - val_mae: 3.6198\n",
            "Epoch 7/60\n",
            "80/80 [==============================] - 1s 17ms/step - loss: 19.6915 - mae: 3.5748 - val_loss: 17.9005 - val_mae: 3.4164\n",
            "Epoch 8/60\n",
            "80/80 [==============================] - 1s 17ms/step - loss: 18.2971 - mae: 3.4392 - val_loss: 16.3461 - val_mae: 3.2618\n",
            "Epoch 9/60\n",
            "80/80 [==============================] - 1s 17ms/step - loss: 16.5332 - mae: 3.1851 - val_loss: 13.8211 - val_mae: 2.9659\n",
            "Epoch 10/60\n",
            "80/80 [==============================] - 1s 17ms/step - loss: 14.8992 - mae: 3.0670 - val_loss: 13.6498 - val_mae: 2.9804\n",
            "Epoch 11/60\n",
            "80/80 [==============================] - 1s 17ms/step - loss: 14.0810 - mae: 2.9322 - val_loss: 13.1521 - val_mae: 2.9400\n",
            "Epoch 12/60\n",
            "80/80 [==============================] - 1s 18ms/step - loss: 13.6661 - mae: 2.9368 - val_loss: 12.2673 - val_mae: 2.8401\n",
            "Epoch 13/60\n",
            "80/80 [==============================] - 1s 18ms/step - loss: 12.7503 - mae: 2.8443 - val_loss: 10.7534 - val_mae: 2.6442\n",
            "Epoch 14/60\n",
            "80/80 [==============================] - 1s 18ms/step - loss: 12.5925 - mae: 2.8466 - val_loss: 10.3345 - val_mae: 2.5941\n",
            "Epoch 15/60\n",
            "80/80 [==============================] - 1s 18ms/step - loss: 12.0591 - mae: 2.7617 - val_loss: 10.7993 - val_mae: 2.6679\n",
            "Epoch 16/60\n",
            "80/80 [==============================] - 2s 19ms/step - loss: 12.0249 - mae: 2.7369 - val_loss: 9.4511 - val_mae: 2.4860\n",
            "Epoch 17/60\n",
            "80/80 [==============================] - 1s 18ms/step - loss: 11.9503 - mae: 2.8045 - val_loss: 9.7668 - val_mae: 2.5392\n",
            "Epoch 18/60\n",
            "80/80 [==============================] - 1s 18ms/step - loss: 11.6738 - mae: 2.7369 - val_loss: 9.3154 - val_mae: 2.4780\n",
            "Epoch 19/60\n",
            "80/80 [==============================] - 1s 18ms/step - loss: 11.6453 - mae: 2.7050 - val_loss: 9.0251 - val_mae: 2.4423\n",
            "Epoch 20/60\n",
            "80/80 [==============================] - 1s 18ms/step - loss: 11.0041 - mae: 2.6597 - val_loss: 8.7267 - val_mae: 2.4051\n",
            "Epoch 21/60\n",
            "80/80 [==============================] - 1s 18ms/step - loss: 10.8134 - mae: 2.6178 - val_loss: 8.7009 - val_mae: 2.3898\n",
            "Epoch 22/60\n",
            "80/80 [==============================] - 1s 18ms/step - loss: 10.2412 - mae: 2.5610 - val_loss: 7.9980 - val_mae: 2.2893\n",
            "Epoch 23/60\n",
            "80/80 [==============================] - 2s 19ms/step - loss: 10.2271 - mae: 2.5385 - val_loss: 7.4685 - val_mae: 2.2163\n",
            "Epoch 24/60\n",
            "80/80 [==============================] - 2s 19ms/step - loss: 10.2927 - mae: 2.5624 - val_loss: 7.8542 - val_mae: 2.2677\n",
            "Epoch 25/60\n",
            "80/80 [==============================] - 1s 18ms/step - loss: 10.4586 - mae: 2.5694 - val_loss: 7.5767 - val_mae: 2.2272\n"
          ]
        }
      ],
      "metadata": {
        "colab": {
          "base_uri": "https://localhost:8080/"
        },
        "id": "9xQXChtNUxzh",
        "outputId": "47adf7db-d1ea-4cbe-f2b2-2ea09bbbb96f"
      }
    },
    {
      "cell_type": "code",
      "execution_count": 31,
      "source": [
        "# Plot MAE cures for validation and training\r\n",
        "plot_hist_regression(history_lstm3, baseline)\r\n",
        "print('Test MAE = %.2f degrees' % model_lstm3.evaluate(test_dataset)[1])"
      ],
      "outputs": [
        {
          "output_type": "display_data",
          "data": {
            "text/plain": [
              "<Figure size 432x288 with 1 Axes>"
            ],
            "image/png": "[encoded data removed]"
          },
          "metadata": {
            "needs_background": "light"
          }
        },
        {
          "output_type": "stream",
          "name": "stdout",
          "text": [
            "31/31 [==============================] - 0s 4ms/step - loss: 8.3867 - mae: 2.2528\n",
            "Test MAE = 2.25 degrees\n"
          ]
        }
      ],
      "metadata": {
        "colab": {
          "base_uri": "https://localhost:8080/",
          "height": 314
        },
        "id": "PtFfB3YaU4k3",
        "outputId": "eb5fd379-362d-4cb4-d846-d6d264dccab1"
      }
    },
    {
      "cell_type": "markdown",
      "source": [
        "Validation MAE = 1.92 degrees\n",
        "\n",
        "Test MAE = 1.89 degrees\n"
      ],
      "metadata": {
        "id": "eUJqRqp1XJnL"
      }
    },
    {
      "cell_type": "markdown",
      "source": [
        "# Text"
      ],
      "metadata": {
        "id": "zGEuNqw2csXj"
      }
    },
    {
      "cell_type": "markdown",
      "source": [
        "## Data prep\n",
        "\n",
        "We'll try to predict whether the review for a movie is positive or negative looking only at the text of the review.\n",
        "\n",
        "We'll use the IMDB text dataset for this task, which is available on `keras.datasets` and described [here](https://keras.io/api/datasets/imdb/). \n",
        "\n",
        "We'll merge the training and test sets and use 60% for training, 20% for validation, and 20% for testing.\n",
        "\n",
        "\n",
        "As this is a binary classificationp problem, we'll use the binary cross entropy loss function. We will keep track of accuracy when training and evaluating the model.\n"
      ],
      "metadata": {
        "id": "dtv0EjsTbwvm"
      }
    },
    {
      "cell_type": "code",
      "execution_count": 32,
      "source": [
        "def plot_hist_classif(hist):\r\n",
        "  n_ = len(hist.history['accuracy'])\r\n",
        "  plt.plot(range(1, n_+1), 100*np.asarray(hist.history['accuracy']), 'bo', label='Accuracy on training set')\r\n",
        "  plt.plot(range(1, n_+1), 100*np.asarray(hist.history['val_accuracy']), 'b', label='Accuracy on validation set')\r\n",
        "  plt.legend()\r\n",
        "  plt.xlabel(\"Epoch\") \r\n",
        "  plt.ylabel(\"Accuracy\")\r\n",
        "  plt.ylim(0, 100)\r\n",
        "  plt.axhline(y=50)\r\n",
        "  plt.show()\r\n"
      ],
      "outputs": [],
      "metadata": {
        "id": "i-mH-8IGwGo1"
      }
    },
    {
      "cell_type": "code",
      "execution_count": 33,
      "source": [
        "max_features = 15000  # only consider the top 15k words\r\n",
        "maxlen = 500  # first 500 words of each review\r\n",
        "batch_size = 32\r\n",
        "\r\n",
        "print('Loading data...')\r\n",
        "# Load dataset\r\n",
        "(x_train, y_train), (x_test, y_test) = keras.datasets.imdb.load_data(num_words=max_features)\r\n",
        "print(len(x_train), 'train sequences', x_train.shape)\r\n",
        "print(len(x_test), 'test sequences', x_test.shape)"
      ],
      "outputs": [
        {
          "output_type": "stream",
          "name": "stdout",
          "text": [
            "Loading data...\n",
            "Downloading data from https://storage.googleapis.com/tensorflow/tf-keras-datasets/imdb.npz\n",
            "17465344/17464789 [==============================] - 1s 0us/step\n",
            "17473536/17464789 [==============================] - 1s 0us/step\n",
            "25000 train sequences (25000,)\n",
            "25000 test sequences (25000,)\n"
          ]
        }
      ],
      "metadata": {
        "colab": {
          "base_uri": "https://localhost:8080/"
        },
        "id": "4TW3Vg49n5V-",
        "outputId": "3807222c-72f1-48b9-ec7e-a45788dc5790"
      }
    },
    {
      "cell_type": "code",
      "execution_count": 34,
      "source": [
        "# How balanced is this dataset?\r\n",
        "print(np.sum(y_train)/len(y_train))\r\n",
        "print(np.sum(y_test)/len(y_test))"
      ],
      "outputs": [
        {
          "output_type": "stream",
          "name": "stdout",
          "text": [
            "0.5\n",
            "0.5\n"
          ]
        }
      ],
      "metadata": {
        "colab": {
          "base_uri": "https://localhost:8080/"
        },
        "id": "8ApTb-jYtSOm",
        "outputId": "f51644cd-02a1-4c35-d903-5fc0d68a3b9b"
      }
    },
    {
      "cell_type": "code",
      "execution_count": 35,
      "source": [
        "# Merge the two datasets and divide: 60% for training, 20% validation, 20% test\r\n",
        "x_, y_ = np.concatenate((x_train, x_test)), np.concatenate((y_train, y_test))\r\n",
        "print(x_.shape, y_.shape)\r\n",
        "x_train, x_test, y_train, y_test = train_test_split(x_, y_, test_size=0.4, random_state=10)  # 60/40 split\r\n",
        "x_val, x_test, y_val, y_test = train_test_split(x_test, y_test, test_size=0.5, random_state=10)  # 50/50 split\r\n",
        "print(len(x_train), 'train sequences', x_train.shape)\r\n",
        "print(len(x_val), 'validation sequences', x_val.shape)\r\n",
        "print(len(x_test), 'test sequences', x_test.shape)"
      ],
      "outputs": [
        {
          "output_type": "stream",
          "name": "stdout",
          "text": [
            "(50000,) (50000,)\n",
            "30000 train sequences (30000,)\n",
            "10000 validation sequences (10000,)\n",
            "10000 test sequences (10000,)\n"
          ]
        }
      ],
      "metadata": {
        "colab": {
          "base_uri": "https://localhost:8080/"
        },
        "id": "Z53Fbicqr8tm",
        "outputId": "4d7c9122-1eca-46cb-a708-cfe4681d93c8"
      }
    },
    {
      "cell_type": "code",
      "execution_count": 36,
      "source": [
        "x_train[0][:10]  # numbers!!"
      ],
      "outputs": [
        {
          "output_type": "execute_result",
          "data": {
            "text/plain": [
              "[1, 11531, 186, 8, 28, 6, 6482, 7, 269, 4042]"
            ]
          },
          "metadata": {},
          "execution_count": 36
        }
      ],
      "metadata": {
        "colab": {
          "base_uri": "https://localhost:8080/"
        },
        "id": "5v_Hy-r8o8pR",
        "outputId": "511de152-8560-4580-efce-a7fbdb3175d5"
      }
    },
    {
      "cell_type": "code",
      "execution_count": 37,
      "source": [
        "# We can explore what one of the reviews looks like at this point.\r\n",
        "\r\n",
        "# Retrieve the word index file that maps words to indices\r\n",
        "word_index = keras.datasets.imdb.get_word_index()\r\n",
        "# Reverse the word index to obtain a dict mapping indices to words (which is what we have)\r\n",
        "inverted_word_index = dict((i, word) for (word, i) in word_index.items())\r\n",
        "# Decode the first sequence in the dataset\r\n",
        "decoded_sequence = \" \".join(inverted_word_index[i] for i in x_train[0])\r\n",
        "decoded_sequence"
      ],
      "outputs": [
        {
          "output_type": "stream",
          "name": "stdout",
          "text": [
            "Downloading data from https://storage.googleapis.com/tensorflow/tf-keras-datasets/imdb_word_index.json\n",
            "1646592/1641221 [==============================] - 0s 0us/step\n",
            "1654784/1641221 [==============================] - 0s 0us/step\n"
          ]
        },
        {
          "output_type": "execute_result",
          "data": {
            "text/plain": [
              "\"the lilly horror in one is fatale br looks meaningless in bronson be showing as you debut film ample to and ingredients zombi ample they for series and thought she's all manipulate and believing in j show look early last quote desire tight interesting that's kind out is far shelter but of frame br and\""
            ]
          },
          "metadata": {},
          "execution_count": 37
        }
      ],
      "metadata": {
        "colab": {
          "base_uri": "https://localhost:8080/",
          "height": 105
        },
        "id": "rgEgNSLBpFwh",
        "outputId": "a820c43a-3177-45fc-bef4-10a804a18c86"
      }
    },
    {
      "cell_type": "code",
      "execution_count": 38,
      "source": [
        "# Let's ensure all sequences have the same length through padding\r\n",
        "# - shorter reviews are padded with 0's\r\n",
        "# - longer reviews are cut\r\n",
        "print('Pad sequences')\r\n",
        "x_train = keras.preprocessing.sequence.pad_sequences(x_train, maxlen=maxlen)\r\n",
        "x_val = keras.preprocessing.sequence.pad_sequences(x_val, maxlen=maxlen)\r\n",
        "x_test = keras.preprocessing.sequence.pad_sequences(x_test, maxlen=maxlen)\r\n",
        "print('x_train shape:', x_train.shape)\r\n",
        "print('x_val shape:', x_val.shape)\r\n",
        "print('x_test shape:', x_test.shape)"
      ],
      "outputs": [
        {
          "output_type": "stream",
          "name": "stdout",
          "text": [
            "Pad sequences\n",
            "x_train shape: (30000, 500)\n",
            "x_val shape: (10000, 500)\n",
            "x_test shape: (10000, 500)\n"
          ]
        }
      ],
      "metadata": {
        "colab": {
          "base_uri": "https://localhost:8080/"
        },
        "id": "ibmO0V-gcthG",
        "outputId": "9422d91d-b296-497b-b038-964ab28ab33c"
      }
    },
    {
      "cell_type": "code",
      "execution_count": 39,
      "source": [
        "# Basic feedforward model\r\n",
        "model = models.Sequential()\r\n",
        "model.add(layers.Embedding(max_features, 128, input_length=maxlen))\r\n",
        "model.add(layers.Dense(64, activation='relu'))\r\n",
        "model.add(layers.Dropout(0.5))\r\n",
        "model.add(layers.Dense(64, activation='relu'))\r\n",
        "model.add(layers.Dropout(0.5))\r\n",
        "model.add(layers.Flatten())\r\n",
        "model.add(layers.Dense(1, activation=\"sigmoid\"))\r\n",
        "model.summary()"
      ],
      "outputs": [
        {
          "output_type": "stream",
          "name": "stdout",
          "text": [
            "Model: \"sequential_5\"\n",
            "_________________________________________________________________\n",
            "Layer (type)                 Output Shape              Param #   \n",
            "=================================================================\n",
            "embedding (Embedding)        (None, 500, 128)          1920000   \n",
            "_________________________________________________________________\n",
            "dense_6 (Dense)              (None, 500, 64)           8256      \n",
            "_________________________________________________________________\n",
            "dropout_2 (Dropout)          (None, 500, 64)           0         \n",
            "_________________________________________________________________\n",
            "dense_7 (Dense)              (None, 500, 64)           4160      \n",
            "_________________________________________________________________\n",
            "dropout_3 (Dropout)          (None, 500, 64)           0         \n",
            "_________________________________________________________________\n",
            "flatten_1 (Flatten)          (None, 32000)             0         \n",
            "_________________________________________________________________\n",
            "dense_8 (Dense)              (None, 1)                 32001     \n",
            "=================================================================\n",
            "Total params: 1,964,417\n",
            "Trainable params: 1,964,417\n",
            "Non-trainable params: 0\n",
            "_________________________________________________________________\n"
          ]
        }
      ],
      "metadata": {
        "colab": {
          "base_uri": "https://localhost:8080/"
        },
        "id": "sBpQpwBAk44H",
        "outputId": "eb86c1c0-0cd1-479e-a4ef-3f58cbf6abb0"
      }
    },
    {
      "cell_type": "code",
      "execution_count": 40,
      "source": [
        "model.compile(optimizer=\"rmsprop\", loss=\"binary_crossentropy\", metrics=[\"accuracy\"])\r\n",
        "history = model.fit(x_train, y_train, batch_size=batch_size, epochs=20, validation_data=(x_val, y_val))"
      ],
      "outputs": [
        {
          "output_type": "stream",
          "name": "stdout",
          "text": [
            "Epoch 1/20\n",
            "938/938 [==============================] - 58s 61ms/step - loss: 0.4342 - accuracy: 0.7713 - val_loss: 0.3014 - val_accuracy: 0.8786\n",
            "Epoch 2/20\n",
            "938/938 [==============================] - 58s 62ms/step - loss: 0.2419 - accuracy: 0.9033 - val_loss: 0.2492 - val_accuracy: 0.9003\n",
            "Epoch 3/20\n",
            "938/938 [==============================] - 59s 63ms/step - loss: 0.2070 - accuracy: 0.9206 - val_loss: 0.3783 - val_accuracy: 0.8544\n",
            "Epoch 4/20\n",
            "938/938 [==============================] - 53s 57ms/step - loss: 0.1904 - accuracy: 0.9274 - val_loss: 0.3963 - val_accuracy: 0.8411\n",
            "Epoch 5/20\n",
            "938/938 [==============================] - 51s 54ms/step - loss: 0.1766 - accuracy: 0.9333 - val_loss: 0.3026 - val_accuracy: 0.8830\n",
            "Epoch 6/20\n",
            "938/938 [==============================] - 61s 66ms/step - loss: 0.1696 - accuracy: 0.9364 - val_loss: 0.3944 - val_accuracy: 0.8508\n",
            "Epoch 7/20\n",
            "938/938 [==============================] - 59s 63ms/step - loss: 0.1644 - accuracy: 0.9395 - val_loss: 0.2657 - val_accuracy: 0.8956\n",
            "Epoch 8/20\n",
            "938/938 [==============================] - 60s 64ms/step - loss: 0.1579 - accuracy: 0.9401 - val_loss: 0.2748 - val_accuracy: 0.8888\n",
            "Epoch 9/20\n",
            "938/938 [==============================] - 60s 64ms/step - loss: 0.1495 - accuracy: 0.9440 - val_loss: 0.2951 - val_accuracy: 0.8864\n",
            "Epoch 10/20\n",
            "938/938 [==============================] - 55s 59ms/step - loss: 0.1442 - accuracy: 0.9463 - val_loss: 0.3652 - val_accuracy: 0.8644\n",
            "Epoch 11/20\n",
            "938/938 [==============================] - 57s 60ms/step - loss: 0.1329 - accuracy: 0.9513 - val_loss: 0.3209 - val_accuracy: 0.8820\n",
            "Epoch 12/20\n",
            "938/938 [==============================] - 59s 63ms/step - loss: 0.1323 - accuracy: 0.9515 - val_loss: 0.2988 - val_accuracy: 0.8872\n",
            "Epoch 13/20\n",
            "938/938 [==============================] - 60s 64ms/step - loss: 0.1263 - accuracy: 0.9547 - val_loss: 0.3586 - val_accuracy: 0.8756\n",
            "Epoch 14/20\n",
            "938/938 [==============================] - 60s 64ms/step - loss: 0.1203 - accuracy: 0.9571 - val_loss: 0.4139 - val_accuracy: 0.8539\n",
            "Epoch 15/20\n",
            "938/938 [==============================] - 58s 62ms/step - loss: 0.1156 - accuracy: 0.9592 - val_loss: 0.5235 - val_accuracy: 0.8323\n",
            "Epoch 16/20\n",
            "938/938 [==============================] - 60s 64ms/step - loss: 0.1090 - accuracy: 0.9607 - val_loss: 0.4214 - val_accuracy: 0.8649\n",
            "Epoch 17/20\n",
            "938/938 [==============================] - 59s 63ms/step - loss: 0.1060 - accuracy: 0.9621 - val_loss: 0.3361 - val_accuracy: 0.8844\n",
            "Epoch 18/20\n",
            "938/938 [==============================] - 59s 63ms/step - loss: 0.1037 - accuracy: 0.9637 - val_loss: 0.3513 - val_accuracy: 0.8838\n",
            "Epoch 19/20\n",
            "938/938 [==============================] - 58s 62ms/step - loss: 0.1008 - accuracy: 0.9634 - val_loss: 0.4759 - val_accuracy: 0.8542\n",
            "Epoch 20/20\n",
            "938/938 [==============================] - 58s 62ms/step - loss: 0.0938 - accuracy: 0.9667 - val_loss: 0.4117 - val_accuracy: 0.8776\n"
          ]
        }
      ],
      "metadata": {
        "colab": {
          "base_uri": "https://localhost:8080/"
        },
        "id": "-8c7tCS5vrC3",
        "outputId": "aab08477-7bd5-4394-b052-3faa0d266096"
      }
    },
    {
      "cell_type": "code",
      "execution_count": 41,
      "source": [
        "plot_hist_classif(history)\r\n",
        "print('Test Accuracy = %.2f' % model.evaluate(x_test, y_test)[1])  # overfitting!"
      ],
      "outputs": [
        {
          "output_type": "display_data",
          "data": {
            "text/plain": [
              "<Figure size 432x288 with 1 Axes>"
            ],
            "image/png": "[encoded data removed]"
          },
          "metadata": {
            "needs_background": "light"
          }
        },
        {
          "output_type": "stream",
          "name": "stdout",
          "text": [
            "313/313 [==============================] - 2s 7ms/step - loss: 0.3948 - accuracy: 0.8807\n",
            "Test Accuracy = 0.88\n"
          ]
        }
      ],
      "metadata": {
        "colab": {
          "base_uri": "https://localhost:8080/",
          "height": 318
        },
        "id": "dKBVw5mHv_oX",
        "outputId": "01b16817-5689-4137-d46b-8275b712e986"
      }
    },
    {
      "cell_type": "code",
      "execution_count": 42,
      "source": [
        "# Let's try an RNN\r\n",
        "model = models.Sequential()\r\n",
        "model.add(layers.Embedding(max_features, 64))\r\n",
        "model.add(layers.LSTM(128, return_sequences=False))\r\n",
        "model.add(layers.Dropout(0.5))\r\n",
        "model.add(layers.Dense(1, activation=\"sigmoid\"))\r\n",
        "model.compile(optimizer=\"rmsprop\", loss=\"binary_crossentropy\", metrics=[\"accuracy\"])\r\n",
        "model.summary()"
      ],
      "outputs": [
        {
          "output_type": "stream",
          "name": "stdout",
          "text": [
            "Model: \"sequential_6\"\n",
            "_________________________________________________________________\n",
            "Layer (type)                 Output Shape              Param #   \n",
            "=================================================================\n",
            "embedding_1 (Embedding)      (None, None, 64)          960000    \n",
            "_________________________________________________________________\n",
            "lstm_4 (LSTM)                (None, 128)               98816     \n",
            "_________________________________________________________________\n",
            "dropout_4 (Dropout)          (None, 128)               0         \n",
            "_________________________________________________________________\n",
            "dense_9 (Dense)              (None, 1)                 129       \n",
            "=================================================================\n",
            "Total params: 1,058,945\n",
            "Trainable params: 1,058,945\n",
            "Non-trainable params: 0\n",
            "_________________________________________________________________\n"
          ]
        }
      ],
      "metadata": {
        "colab": {
          "base_uri": "https://localhost:8080/"
        },
        "id": "Ieh7Wl9Pwh8V",
        "outputId": "7e4d2bbc-b62c-407d-ee81-e5d62d9caa3a"
      }
    },
    {
      "cell_type": "code",
      "execution_count": 43,
      "source": [
        "# This model will take a long time to train, so we add an early stopping criterion\r\n",
        "# N.B: It's actually much faster to train WITHOUT A GPU!!\r\n",
        "callbacks = [EarlyStopping(monitor='val_accuracy', patience=2)]\r\n",
        "history = model.fit(x_train, y_train, batch_size=batch_size, epochs=20, validation_data=(x_val, y_val), callbacks=callbacks)\r\n",
        "plot_hist_classif(history)\r\n",
        "print('Test Accuracy = %.2f' % model.evaluate(x_test, y_test)[1])\r\n",
        "# Note that we're still overfitting, but this is just an example of use"
      ],
      "outputs": [
        {
          "output_type": "stream",
          "name": "stdout",
          "text": [
            "Epoch 1/20\n",
            "604/938 [==================>...........] - ETA: 2:03 - loss: 0.4672 - accuracy: 0.7857"
          ]
        },
        {
          "output_type": "error",
          "ename": "KeyboardInterrupt",
          "evalue": "",
          "traceback": [
            "\u001b[1;31m---------------------------------------------------------------------------\u001b[0m",
            "\u001b[1;31mKeyboardInterrupt\u001b[0m                         Traceback (most recent call last)",
            "\u001b[1;32m~\\AppData\\Local\\Temp/ipykernel_10080/3177244036.py\u001b[0m in \u001b[0;36m<module>\u001b[1;34m\u001b[0m\n\u001b[0;32m      2\u001b[0m \u001b[1;31m# N.B: It's actually much faster to train WITHOUT A GPU!!\u001b[0m\u001b[1;33m\u001b[0m\u001b[1;33m\u001b[0m\u001b[1;33m\u001b[0m\u001b[0m\n\u001b[0;32m      3\u001b[0m \u001b[0mcallbacks\u001b[0m \u001b[1;33m=\u001b[0m \u001b[1;33m[\u001b[0m\u001b[0mEarlyStopping\u001b[0m\u001b[1;33m(\u001b[0m\u001b[0mmonitor\u001b[0m\u001b[1;33m=\u001b[0m\u001b[1;34m'val_accuracy'\u001b[0m\u001b[1;33m,\u001b[0m \u001b[0mpatience\u001b[0m\u001b[1;33m=\u001b[0m\u001b[1;36m2\u001b[0m\u001b[1;33m)\u001b[0m\u001b[1;33m]\u001b[0m\u001b[1;33m\u001b[0m\u001b[1;33m\u001b[0m\u001b[0m\n\u001b[1;32m----> 4\u001b[1;33m \u001b[0mhistory\u001b[0m \u001b[1;33m=\u001b[0m \u001b[0mmodel\u001b[0m\u001b[1;33m.\u001b[0m\u001b[0mfit\u001b[0m\u001b[1;33m(\u001b[0m\u001b[0mx_train\u001b[0m\u001b[1;33m,\u001b[0m \u001b[0my_train\u001b[0m\u001b[1;33m,\u001b[0m \u001b[0mbatch_size\u001b[0m\u001b[1;33m=\u001b[0m\u001b[0mbatch_size\u001b[0m\u001b[1;33m,\u001b[0m \u001b[0mepochs\u001b[0m\u001b[1;33m=\u001b[0m\u001b[1;36m20\u001b[0m\u001b[1;33m,\u001b[0m \u001b[0mvalidation_data\u001b[0m\u001b[1;33m=\u001b[0m\u001b[1;33m(\u001b[0m\u001b[0mx_val\u001b[0m\u001b[1;33m,\u001b[0m \u001b[0my_val\u001b[0m\u001b[1;33m)\u001b[0m\u001b[1;33m,\u001b[0m \u001b[0mcallbacks\u001b[0m\u001b[1;33m=\u001b[0m\u001b[0mcallbacks\u001b[0m\u001b[1;33m)\u001b[0m\u001b[1;33m\u001b[0m\u001b[1;33m\u001b[0m\u001b[0m\n\u001b[0m\u001b[0;32m      5\u001b[0m \u001b[0mplot_hist_classif\u001b[0m\u001b[1;33m(\u001b[0m\u001b[0mhistory\u001b[0m\u001b[1;33m)\u001b[0m\u001b[1;33m\u001b[0m\u001b[1;33m\u001b[0m\u001b[0m\n\u001b[0;32m      6\u001b[0m \u001b[0mprint\u001b[0m\u001b[1;33m(\u001b[0m\u001b[1;34m'Test Accuracy = %.2f'\u001b[0m \u001b[1;33m%\u001b[0m \u001b[0mmodel\u001b[0m\u001b[1;33m.\u001b[0m\u001b[0mevaluate\u001b[0m\u001b[1;33m(\u001b[0m\u001b[0mx_test\u001b[0m\u001b[1;33m,\u001b[0m \u001b[0my_test\u001b[0m\u001b[1;33m)\u001b[0m\u001b[1;33m[\u001b[0m\u001b[1;36m1\u001b[0m\u001b[1;33m]\u001b[0m\u001b[1;33m)\u001b[0m\u001b[1;33m\u001b[0m\u001b[1;33m\u001b[0m\u001b[0m\n",
            "\u001b[1;32mC:\\Python3\\lib\\site-packages\\keras\\engine\\training.py\u001b[0m in \u001b[0;36mfit\u001b[1;34m(self, x, y, batch_size, epochs, verbose, callbacks, validation_split, validation_data, shuffle, class_weight, sample_weight, initial_epoch, steps_per_epoch, validation_steps, validation_batch_size, validation_freq, max_queue_size, workers, use_multiprocessing)\u001b[0m\n\u001b[0;32m   1182\u001b[0m                 _r=1):\n\u001b[0;32m   1183\u001b[0m               \u001b[0mcallbacks\u001b[0m\u001b[1;33m.\u001b[0m\u001b[0mon_train_batch_begin\u001b[0m\u001b[1;33m(\u001b[0m\u001b[0mstep\u001b[0m\u001b[1;33m)\u001b[0m\u001b[1;33m\u001b[0m\u001b[1;33m\u001b[0m\u001b[0m\n\u001b[1;32m-> 1184\u001b[1;33m               \u001b[0mtmp_logs\u001b[0m \u001b[1;33m=\u001b[0m \u001b[0mself\u001b[0m\u001b[1;33m.\u001b[0m\u001b[0mtrain_function\u001b[0m\u001b[1;33m(\u001b[0m\u001b[0miterator\u001b[0m\u001b[1;33m)\u001b[0m\u001b[1;33m\u001b[0m\u001b[1;33m\u001b[0m\u001b[0m\n\u001b[0m\u001b[0;32m   1185\u001b[0m               \u001b[1;32mif\u001b[0m \u001b[0mdata_handler\u001b[0m\u001b[1;33m.\u001b[0m\u001b[0mshould_sync\u001b[0m\u001b[1;33m:\u001b[0m\u001b[1;33m\u001b[0m\u001b[1;33m\u001b[0m\u001b[0m\n\u001b[0;32m   1186\u001b[0m                 \u001b[0mcontext\u001b[0m\u001b[1;33m.\u001b[0m\u001b[0masync_wait\u001b[0m\u001b[1;33m(\u001b[0m\u001b[1;33m)\u001b[0m\u001b[1;33m\u001b[0m\u001b[1;33m\u001b[0m\u001b[0m\n",
            "\u001b[1;32mC:\\Python3\\lib\\site-packages\\tensorflow\\python\\eager\\def_function.py\u001b[0m in \u001b[0;36m__call__\u001b[1;34m(self, *args, **kwds)\u001b[0m\n\u001b[0;32m    883\u001b[0m \u001b[1;33m\u001b[0m\u001b[0m\n\u001b[0;32m    884\u001b[0m       \u001b[1;32mwith\u001b[0m \u001b[0mOptionalXlaContext\u001b[0m\u001b[1;33m(\u001b[0m\u001b[0mself\u001b[0m\u001b[1;33m.\u001b[0m\u001b[0m_jit_compile\u001b[0m\u001b[1;33m)\u001b[0m\u001b[1;33m:\u001b[0m\u001b[1;33m\u001b[0m\u001b[1;33m\u001b[0m\u001b[0m\n\u001b[1;32m--> 885\u001b[1;33m         \u001b[0mresult\u001b[0m \u001b[1;33m=\u001b[0m \u001b[0mself\u001b[0m\u001b[1;33m.\u001b[0m\u001b[0m_call\u001b[0m\u001b[1;33m(\u001b[0m\u001b[1;33m*\u001b[0m\u001b[0margs\u001b[0m\u001b[1;33m,\u001b[0m \u001b[1;33m**\u001b[0m\u001b[0mkwds\u001b[0m\u001b[1;33m)\u001b[0m\u001b[1;33m\u001b[0m\u001b[1;33m\u001b[0m\u001b[0m\n\u001b[0m\u001b[0;32m    886\u001b[0m \u001b[1;33m\u001b[0m\u001b[0m\n\u001b[0;32m    887\u001b[0m       \u001b[0mnew_tracing_count\u001b[0m \u001b[1;33m=\u001b[0m \u001b[0mself\u001b[0m\u001b[1;33m.\u001b[0m\u001b[0mexperimental_get_tracing_count\u001b[0m\u001b[1;33m(\u001b[0m\u001b[1;33m)\u001b[0m\u001b[1;33m\u001b[0m\u001b[1;33m\u001b[0m\u001b[0m\n",
            "\u001b[1;32mC:\\Python3\\lib\\site-packages\\tensorflow\\python\\eager\\def_function.py\u001b[0m in \u001b[0;36m_call\u001b[1;34m(self, *args, **kwds)\u001b[0m\n\u001b[0;32m    915\u001b[0m       \u001b[1;31m# In this case we have created variables on the first call, so we run the\u001b[0m\u001b[1;33m\u001b[0m\u001b[1;33m\u001b[0m\u001b[1;33m\u001b[0m\u001b[0m\n\u001b[0;32m    916\u001b[0m       \u001b[1;31m# defunned version which is guaranteed to never create variables.\u001b[0m\u001b[1;33m\u001b[0m\u001b[1;33m\u001b[0m\u001b[1;33m\u001b[0m\u001b[0m\n\u001b[1;32m--> 917\u001b[1;33m       \u001b[1;32mreturn\u001b[0m \u001b[0mself\u001b[0m\u001b[1;33m.\u001b[0m\u001b[0m_stateless_fn\u001b[0m\u001b[1;33m(\u001b[0m\u001b[1;33m*\u001b[0m\u001b[0margs\u001b[0m\u001b[1;33m,\u001b[0m \u001b[1;33m**\u001b[0m\u001b[0mkwds\u001b[0m\u001b[1;33m)\u001b[0m  \u001b[1;31m# pylint: disable=not-callable\u001b[0m\u001b[1;33m\u001b[0m\u001b[1;33m\u001b[0m\u001b[0m\n\u001b[0m\u001b[0;32m    918\u001b[0m     \u001b[1;32melif\u001b[0m \u001b[0mself\u001b[0m\u001b[1;33m.\u001b[0m\u001b[0m_stateful_fn\u001b[0m \u001b[1;32mis\u001b[0m \u001b[1;32mnot\u001b[0m \u001b[1;32mNone\u001b[0m\u001b[1;33m:\u001b[0m\u001b[1;33m\u001b[0m\u001b[1;33m\u001b[0m\u001b[0m\n\u001b[0;32m    919\u001b[0m       \u001b[1;31m# Release the lock early so that multiple threads can perform the call\u001b[0m\u001b[1;33m\u001b[0m\u001b[1;33m\u001b[0m\u001b[1;33m\u001b[0m\u001b[0m\n",
            "\u001b[1;32mC:\\Python3\\lib\\site-packages\\tensorflow\\python\\eager\\function.py\u001b[0m in \u001b[0;36m__call__\u001b[1;34m(self, *args, **kwargs)\u001b[0m\n\u001b[0;32m   3037\u001b[0m       (graph_function,\n\u001b[0;32m   3038\u001b[0m        filtered_flat_args) = self._maybe_define_function(args, kwargs)\n\u001b[1;32m-> 3039\u001b[1;33m     return graph_function._call_flat(\n\u001b[0m\u001b[0;32m   3040\u001b[0m         filtered_flat_args, captured_inputs=graph_function.captured_inputs)  # pylint: disable=protected-access\n\u001b[0;32m   3041\u001b[0m \u001b[1;33m\u001b[0m\u001b[0m\n",
            "\u001b[1;32mC:\\Python3\\lib\\site-packages\\tensorflow\\python\\eager\\function.py\u001b[0m in \u001b[0;36m_call_flat\u001b[1;34m(self, args, captured_inputs, cancellation_manager)\u001b[0m\n\u001b[0;32m   1961\u001b[0m         and executing_eagerly):\n\u001b[0;32m   1962\u001b[0m       \u001b[1;31m# No tape is watching; skip to running the function.\u001b[0m\u001b[1;33m\u001b[0m\u001b[1;33m\u001b[0m\u001b[1;33m\u001b[0m\u001b[0m\n\u001b[1;32m-> 1963\u001b[1;33m       return self._build_call_outputs(self._inference_function.call(\n\u001b[0m\u001b[0;32m   1964\u001b[0m           ctx, args, cancellation_manager=cancellation_manager))\n\u001b[0;32m   1965\u001b[0m     forward_backward = self._select_forward_and_backward_functions(\n",
            "\u001b[1;32mC:\\Python3\\lib\\site-packages\\tensorflow\\python\\eager\\function.py\u001b[0m in \u001b[0;36mcall\u001b[1;34m(self, ctx, args, cancellation_manager)\u001b[0m\n\u001b[0;32m    589\u001b[0m       \u001b[1;32mwith\u001b[0m \u001b[0m_InterpolateFunctionError\u001b[0m\u001b[1;33m(\u001b[0m\u001b[0mself\u001b[0m\u001b[1;33m)\u001b[0m\u001b[1;33m:\u001b[0m\u001b[1;33m\u001b[0m\u001b[1;33m\u001b[0m\u001b[0m\n\u001b[0;32m    590\u001b[0m         \u001b[1;32mif\u001b[0m \u001b[0mcancellation_manager\u001b[0m \u001b[1;32mis\u001b[0m \u001b[1;32mNone\u001b[0m\u001b[1;33m:\u001b[0m\u001b[1;33m\u001b[0m\u001b[1;33m\u001b[0m\u001b[0m\n\u001b[1;32m--> 591\u001b[1;33m           outputs = execute.execute(\n\u001b[0m\u001b[0;32m    592\u001b[0m               \u001b[0mstr\u001b[0m\u001b[1;33m(\u001b[0m\u001b[0mself\u001b[0m\u001b[1;33m.\u001b[0m\u001b[0msignature\u001b[0m\u001b[1;33m.\u001b[0m\u001b[0mname\u001b[0m\u001b[1;33m)\u001b[0m\u001b[1;33m,\u001b[0m\u001b[1;33m\u001b[0m\u001b[1;33m\u001b[0m\u001b[0m\n\u001b[0;32m    593\u001b[0m               \u001b[0mnum_outputs\u001b[0m\u001b[1;33m=\u001b[0m\u001b[0mself\u001b[0m\u001b[1;33m.\u001b[0m\u001b[0m_num_outputs\u001b[0m\u001b[1;33m,\u001b[0m\u001b[1;33m\u001b[0m\u001b[1;33m\u001b[0m\u001b[0m\n",
            "\u001b[1;32mC:\\Python3\\lib\\site-packages\\tensorflow\\python\\eager\\execute.py\u001b[0m in \u001b[0;36mquick_execute\u001b[1;34m(op_name, num_outputs, inputs, attrs, ctx, name)\u001b[0m\n\u001b[0;32m     57\u001b[0m   \u001b[1;32mtry\u001b[0m\u001b[1;33m:\u001b[0m\u001b[1;33m\u001b[0m\u001b[1;33m\u001b[0m\u001b[0m\n\u001b[0;32m     58\u001b[0m     \u001b[0mctx\u001b[0m\u001b[1;33m.\u001b[0m\u001b[0mensure_initialized\u001b[0m\u001b[1;33m(\u001b[0m\u001b[1;33m)\u001b[0m\u001b[1;33m\u001b[0m\u001b[1;33m\u001b[0m\u001b[0m\n\u001b[1;32m---> 59\u001b[1;33m     tensors = pywrap_tfe.TFE_Py_Execute(ctx._handle, device_name, op_name,\n\u001b[0m\u001b[0;32m     60\u001b[0m                                         inputs, attrs, num_outputs)\n\u001b[0;32m     61\u001b[0m   \u001b[1;32mexcept\u001b[0m \u001b[0mcore\u001b[0m\u001b[1;33m.\u001b[0m\u001b[0m_NotOkStatusException\u001b[0m \u001b[1;32mas\u001b[0m \u001b[0me\u001b[0m\u001b[1;33m:\u001b[0m\u001b[1;33m\u001b[0m\u001b[1;33m\u001b[0m\u001b[0m\n",
            "\u001b[1;31mKeyboardInterrupt\u001b[0m: "
          ]
        }
      ],
      "metadata": {
        "colab": {
          "base_uri": "https://localhost:8080/",
          "height": 561
        },
        "id": "Sd54xZMmxKBQ",
        "outputId": "96c092e9-eea3-4080-b720-31885daecd83"
      }
    },
    {
      "cell_type": "markdown",
      "source": [
        "## Your turn!\n",
        "\n",
        "Implement a bidirectional RNN that can outperform the LSTM model we had above.\n",
        "\n",
        "A starting skeleton could be:\n",
        " \n",
        "*   Embedding layer with an output dimension of 64\n",
        "*   Bidirectional layer with a 32-neuron LSTM layer\n",
        "*   Dense layer with 1 neuron and a sigmoid activation\n",
        "\n",
        "Some suggestions:\n",
        "\n",
        "- Change the sizes of the layers (i.e., the numbers of neurons)\n",
        "- Add dropout\n",
        "- Add other recurrent and/or bidirectional layers\n",
        "\n",
        "Once you have a model that scores over 90% on the validation set, check its performance on the test set and upload it on the code checker in Moodle.\n",
        "\n",
        "Note that the model I'm suggesting above will be able to reach the desired performance, but it will show signs of overfitting. Can you do it by adding regularization (dropout, smaller network) so you don't overfit?\n"
      ],
      "metadata": {
        "id": "kzZhXm5gkz_g"
      }
    },
    {
      "cell_type": "code",
      "execution_count": 50,
      "source": [
        "n_ = 15  # number of epochs. You can edit this\r\n",
        "\r\n",
        "model = models.Sequential()\r\n",
        "model.add(layers.Embedding(max_features, 64))\r\n",
        "model.add(layers.Bidirectional(layers.LSTM(32, return_sequences=True)))\r\n",
        "model.add(layers.Dense(1, activation='sigmoid'))\r\n",
        "model.add(layers.Bidirectional(layers.LSTM(32, return_sequences=False)))\r\n",
        "model.add(layers.Dropout(0.5))\r\n",
        "model.add(layers.Dense(1, activation='sigmoid'))\r\n",
        "\r\n",
        "\r\n",
        "# I DON'T RECOMMEND THAT YOU CHANGE CODE AFTER THIS POINT\r\n",
        "model.compile(optimizer=\"rmsprop\", loss=\"binary_crossentropy\", metrics=[\"accuracy\"])\r\n",
        "\r\n",
        "print(model.summary())\r\n",
        "\r\n",
        "# This model will take a long time to train, so we add an early stopping criterion\r\n",
        "# I've also added a ModelCheckpoint that will save the best model according to val_accuracy regardless of whether we continue training\r\n",
        "callbacks = [EarlyStopping(monitor='val_accuracy', patience=1),\r\n",
        "             ModelCheckpoint(\"model.keras\", save_best_only=True, monitor=\"val_accuracy\", mode='max')]\r\n",
        "\r\n",
        "history = model.fit(x_train, y_train, batch_size=batch_size, epochs=n_, \r\n",
        "                    validation_data=(x_val, y_val), \r\n",
        "                    callbacks=callbacks)\r\n",
        "plot_hist_classif(history)\r\n",
        "model = keras.models.load_model(\"model.keras\")\r\n",
        "print('Test Accuracy = %.2f' % model.evaluate(x_test, y_test)[1])"
      ],
      "outputs": [
        {
          "output_type": "stream",
          "name": "stdout",
          "text": [
            "Model: \"sequential_11\"\n",
            "_________________________________________________________________\n",
            "Layer (type)                 Output Shape              Param #   \n",
            "=================================================================\n",
            "embedding_6 (Embedding)      (None, None, 64)          960000    \n",
            "_________________________________________________________________\n",
            "bidirectional_8 (Bidirection (None, None, 64)          24832     \n",
            "_________________________________________________________________\n",
            "dense_18 (Dense)             (None, None, 1)           65        \n",
            "_________________________________________________________________\n",
            "bidirectional_9 (Bidirection (None, 64)                8704      \n",
            "_________________________________________________________________\n",
            "dropout_9 (Dropout)          (None, 64)                0         \n",
            "_________________________________________________________________\n",
            "dense_19 (Dense)             (None, 1)                 65        \n",
            "=================================================================\n",
            "Total params: 993,666\n",
            "Trainable params: 993,666\n",
            "Non-trainable params: 0\n",
            "_________________________________________________________________\n",
            "None\n",
            "Epoch 1/15\n",
            "938/938 [==============================] - 368s 386ms/step - loss: 0.4796 - accuracy: 0.7511 - val_loss: 0.4140 - val_accuracy: 0.8151\n",
            "Epoch 2/15\n",
            "938/938 [==============================] - 360s 384ms/step - loss: 0.2923 - accuracy: 0.8861 - val_loss: 0.2895 - val_accuracy: 0.8823\n",
            "Epoch 3/15\n",
            "938/938 [==============================] - 360s 384ms/step - loss: 0.2361 - accuracy: 0.9132 - val_loss: 0.2879 - val_accuracy: 0.8916\n",
            "Epoch 4/15\n",
            "938/938 [==============================] - 364s 388ms/step - loss: 0.2005 - accuracy: 0.9292 - val_loss: 0.2645 - val_accuracy: 0.8966\n",
            "Epoch 5/15\n",
            "263/938 [=======>......................] - ETA: 4:37 - loss: 0.1620 - accuracy: 0.9433"
          ]
        }
      ],
      "metadata": {
        "id": "jCHOC7dyadaj"
      }
    },
    {
      "cell_type": "code",
      "execution_count": null,
      "source": [
        "if model.count_params() > 1000000:\r\n",
        "    print(\"Due to memory constraints on Moodle, the lab quiz has a 10MB limit on your model size, so you need to use a smaller model to validate through the auto-marker.\")\r\n",
        "\r\n",
        "if history.history[\"val_accuracy\"][-1] > 0.90:\r\n",
        "    print(\"Your model is accurate enough!\")\r\n",
        "\r\n",
        "else:\r\n",
        "    print(\"Accuracy is below the threshold!\")\r\n",
        "    raise Exception(\"Your model isn't accurate enough to pass the progress checker!\")\r\n",
        "# Save the model into a local folder\r\n",
        "keras.models.save_model(model, \"Model.h5\",save_format='h5')\r\n",
        "print('Model saved! You can now upload it to the lab quiz.')"
      ],
      "outputs": [
        {
          "output_type": "stream",
          "name": "stdout",
          "text": [
            "Your model is accurate enough!\n",
            "Model saved! You can now upload it to the lab quiz.\n"
          ]
        }
      ],
      "metadata": {
        "id": "ZFBmg66_CR7y"
      }
    },
    {
      "cell_type": "code",
      "execution_count": null,
      "source": [],
      "outputs": [],
      "metadata": {
        "id": "hv7PyBQQsXav"
      }
    }
  ],
  "metadata": {
    "kernelspec": {
      "name": "python3",
      "display_name": "Python 3.9.6 64-bit"
    },
    "language_info": {
      "codemirror_mode": {
        "name": "ipython",
        "version": 3
      },
      "file_extension": ".py",
      "mimetype": "text/x-python",
      "name": "python",
      "nbconvert_exporter": "python",
      "pygments_lexer": "ipython3",
      "version": "3.9.6"
    },
    "colab": {
      "name": "rnn.ipynb",
      "provenance": [],
      "collapsed_sections": [
        "WlhjIvZR_a0Q",
        "rloJamyvWPWj",
        "7c-duA1Z_a0R",
        "3ozUAZX__a0R"
      ],
      "include_colab_link": true
    },
    "interpreter": {
      "hash": "ca585555a2867b459a38eaf8b2b47956aef7a6f770e52f1f5dfa1f8f05e57688"
    }
  },
  "nbformat": 4,
  "nbformat_minor": 2
}