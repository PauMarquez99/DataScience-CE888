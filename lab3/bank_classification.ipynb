{
 "cells": [
  {
   "cell_type": "code",
   "execution_count": 12,
   "source": [
    "%matplotlib inline\r\n",
    "import matplotlib\r\n",
    "import numpy as np\r\n",
    "import matplotlib.pyplot as plt\r\n",
    "import pandas as pd\r\n",
    "import seaborn as sns\r\n",
    "\r\n",
    "import itertools\r\n",
    "\r\n",
    "from sklearn.model_selection import train_test_split, StratifiedShuffleSplit, cross_val_score\r\n",
    "\r\n",
    "from sklearn.preprocessing import LabelEncoder, StandardScaler, OneHotEncoder\r\n",
    "from sklearn.compose import ColumnTransformer\r\n",
    "from sklearn.base import BaseEstimator, TransformerMixin\r\n",
    "from sklearn.pipeline import Pipeline\r\n",
    "\r\n",
    "from sklearn.tree import DecisionTreeRegressor\r\n",
    "from sklearn.ensemble import RandomForestRegressor, GradientBoostingRegressor, RandomForestClassifier, ExtraTreesClassifier\r\n",
    "from sklearn.linear_model import SGDRegressor, BayesianRidge\r\n",
    "from sklearn.metrics import mean_squared_error as mse\r\n",
    "from sklearn.metrics import mean_absolute_error as mae\r\n",
    "from sklearn.metrics import accuracy_score as acc\r\n",
    "from sklearn.metrics import make_scorer, confusion_matrix\r\n",
    "from sklearn.dummy import DummyRegressor, DummyClassifier\r\n"
   ],
   "outputs": [],
   "metadata": {
    "id": "X8ESUl-E7Kzt"
   }
  },
  {
   "cell_type": "markdown",
   "source": [
    "* We have loaded the necessary libraries above\n",
    "* Now let's load the data"
   ],
   "metadata": {
    "id": "VEiShHZj7K0Y"
   }
  },
  {
   "cell_type": "code",
   "execution_count": 13,
   "source": [
    "df = pd.read_csv(\"DataScience-CE888\\lab3\\bank-additional-full.csv\", delimiter=\";\")\r\n",
    "df"
   ],
   "outputs": [
    {
     "output_type": "execute_result",
     "data": {
      "text/plain": [
       "     Page total likes    Type  Category  Post Month  Post Weekday  Post Hour  \\\n",
       "0              139441   Photo         2          12             4          3   \n",
       "1              139441  Status         2          12             3         10   \n",
       "2              139441   Photo         3          12             3          3   \n",
       "3              139441   Photo         2          12             2         10   \n",
       "4              139441   Photo         2          12             2          3   \n",
       "..                ...     ...       ...         ...           ...        ...   \n",
       "495             85093   Photo         3           1             7          2   \n",
       "496             81370   Photo         2           1             5          8   \n",
       "497             81370   Photo         1           1             5          2   \n",
       "498             81370   Photo         3           1             4         11   \n",
       "499             81370   Photo         2           1             4          4   \n",
       "\n",
       "     Paid  Lifetime Post Total Reach  Lifetime Post Total Impressions  \\\n",
       "0     0.0                       2752                             5091   \n",
       "1     0.0                      10460                            19057   \n",
       "2     0.0                       2413                             4373   \n",
       "3     1.0                      50128                            87991   \n",
       "4     0.0                       7244                            13594   \n",
       "..    ...                        ...                              ...   \n",
       "495   0.0                       4684                             7536   \n",
       "496   0.0                       3480                             6229   \n",
       "497   0.0                       3778                             7216   \n",
       "498   0.0                       4156                             7564   \n",
       "499   NaN                       4188                             7292   \n",
       "\n",
       "     Lifetime Engaged Users  Lifetime Post Consumers  \\\n",
       "0                       178                      109   \n",
       "1                      1457                     1361   \n",
       "2                       177                      113   \n",
       "3                      2211                      790   \n",
       "4                       671                      410   \n",
       "..                      ...                      ...   \n",
       "495                     733                      708   \n",
       "496                     537                      508   \n",
       "497                     625                      572   \n",
       "498                     626                      574   \n",
       "499                     564                      524   \n",
       "\n",
       "     Lifetime Post Consumptions  \\\n",
       "0                           159   \n",
       "1                          1674   \n",
       "2                           154   \n",
       "3                          1119   \n",
       "4                           580   \n",
       "..                          ...   \n",
       "495                         985   \n",
       "496                         687   \n",
       "497                         795   \n",
       "498                         832   \n",
       "499                         743   \n",
       "\n",
       "     Lifetime Post Impressions by people who have liked your Page  \\\n",
       "0                                                 3078              \n",
       "1                                                11710              \n",
       "2                                                 2812              \n",
       "3                                                61027              \n",
       "4                                                 6228              \n",
       "..                                                 ...              \n",
       "495                                               4750              \n",
       "496                                               3961              \n",
       "497                                               4742              \n",
       "498                                               4534              \n",
       "499                                               3861              \n",
       "\n",
       "     Lifetime Post reach by people who like your Page  \\\n",
       "0                                                1640   \n",
       "1                                                6112   \n",
       "2                                                1503   \n",
       "3                                               32048   \n",
       "4                                                3200   \n",
       "..                                                ...   \n",
       "495                                              2876   \n",
       "496                                              2104   \n",
       "497                                              2388   \n",
       "498                                              2452   \n",
       "499                                              2200   \n",
       "\n",
       "     Lifetime People who have liked your Page and engaged with your post  \\\n",
       "0                                                  119                     \n",
       "1                                                 1108                     \n",
       "2                                                  132                     \n",
       "3                                                 1386                     \n",
       "4                                                  396                     \n",
       "..                                                 ...                     \n",
       "495                                                392                     \n",
       "496                                                301                     \n",
       "497                                                363                     \n",
       "498                                                370                     \n",
       "499                                                316                     \n",
       "\n",
       "     comment    like  share  Total Interactions  \n",
       "0          4    79.0   17.0                 100  \n",
       "1          5   130.0   29.0                 164  \n",
       "2          0    66.0   14.0                  80  \n",
       "3         58  1572.0  147.0                1777  \n",
       "4         19   325.0   49.0                 393  \n",
       "..       ...     ...    ...                 ...  \n",
       "495        5    53.0   26.0                  84  \n",
       "496        0    53.0   22.0                  75  \n",
       "497        4    93.0   18.0                 115  \n",
       "498        7    91.0   38.0                 136  \n",
       "499        0    91.0   28.0                 119  \n",
       "\n",
       "[500 rows x 19 columns]"
      ],
      "text/html": [
       "<div>\n",
       "<style scoped>\n",
       "    .dataframe tbody tr th:only-of-type {\n",
       "        vertical-align: middle;\n",
       "    }\n",
       "\n",
       "    .dataframe tbody tr th {\n",
       "        vertical-align: top;\n",
       "    }\n",
       "\n",
       "    .dataframe thead th {\n",
       "        text-align: right;\n",
       "    }\n",
       "</style>\n",
       "<table border=\"1\" class=\"dataframe\">\n",
       "  <thead>\n",
       "    <tr style=\"text-align: right;\">\n",
       "      <th></th>\n",
       "      <th>Page total likes</th>\n",
       "      <th>Type</th>\n",
       "      <th>Category</th>\n",
       "      <th>Post Month</th>\n",
       "      <th>Post Weekday</th>\n",
       "      <th>Post Hour</th>\n",
       "      <th>Paid</th>\n",
       "      <th>Lifetime Post Total Reach</th>\n",
       "      <th>Lifetime Post Total Impressions</th>\n",
       "      <th>Lifetime Engaged Users</th>\n",
       "      <th>Lifetime Post Consumers</th>\n",
       "      <th>Lifetime Post Consumptions</th>\n",
       "      <th>Lifetime Post Impressions by people who have liked your Page</th>\n",
       "      <th>Lifetime Post reach by people who like your Page</th>\n",
       "      <th>Lifetime People who have liked your Page and engaged with your post</th>\n",
       "      <th>comment</th>\n",
       "      <th>like</th>\n",
       "      <th>share</th>\n",
       "      <th>Total Interactions</th>\n",
       "    </tr>\n",
       "  </thead>\n",
       "  <tbody>\n",
       "    <tr>\n",
       "      <th>0</th>\n",
       "      <td>139441</td>\n",
       "      <td>Photo</td>\n",
       "      <td>2</td>\n",
       "      <td>12</td>\n",
       "      <td>4</td>\n",
       "      <td>3</td>\n",
       "      <td>0.0</td>\n",
       "      <td>2752</td>\n",
       "      <td>5091</td>\n",
       "      <td>178</td>\n",
       "      <td>109</td>\n",
       "      <td>159</td>\n",
       "      <td>3078</td>\n",
       "      <td>1640</td>\n",
       "      <td>119</td>\n",
       "      <td>4</td>\n",
       "      <td>79.0</td>\n",
       "      <td>17.0</td>\n",
       "      <td>100</td>\n",
       "    </tr>\n",
       "    <tr>\n",
       "      <th>1</th>\n",
       "      <td>139441</td>\n",
       "      <td>Status</td>\n",
       "      <td>2</td>\n",
       "      <td>12</td>\n",
       "      <td>3</td>\n",
       "      <td>10</td>\n",
       "      <td>0.0</td>\n",
       "      <td>10460</td>\n",
       "      <td>19057</td>\n",
       "      <td>1457</td>\n",
       "      <td>1361</td>\n",
       "      <td>1674</td>\n",
       "      <td>11710</td>\n",
       "      <td>6112</td>\n",
       "      <td>1108</td>\n",
       "      <td>5</td>\n",
       "      <td>130.0</td>\n",
       "      <td>29.0</td>\n",
       "      <td>164</td>\n",
       "    </tr>\n",
       "    <tr>\n",
       "      <th>2</th>\n",
       "      <td>139441</td>\n",
       "      <td>Photo</td>\n",
       "      <td>3</td>\n",
       "      <td>12</td>\n",
       "      <td>3</td>\n",
       "      <td>3</td>\n",
       "      <td>0.0</td>\n",
       "      <td>2413</td>\n",
       "      <td>4373</td>\n",
       "      <td>177</td>\n",
       "      <td>113</td>\n",
       "      <td>154</td>\n",
       "      <td>2812</td>\n",
       "      <td>1503</td>\n",
       "      <td>132</td>\n",
       "      <td>0</td>\n",
       "      <td>66.0</td>\n",
       "      <td>14.0</td>\n",
       "      <td>80</td>\n",
       "    </tr>\n",
       "    <tr>\n",
       "      <th>3</th>\n",
       "      <td>139441</td>\n",
       "      <td>Photo</td>\n",
       "      <td>2</td>\n",
       "      <td>12</td>\n",
       "      <td>2</td>\n",
       "      <td>10</td>\n",
       "      <td>1.0</td>\n",
       "      <td>50128</td>\n",
       "      <td>87991</td>\n",
       "      <td>2211</td>\n",
       "      <td>790</td>\n",
       "      <td>1119</td>\n",
       "      <td>61027</td>\n",
       "      <td>32048</td>\n",
       "      <td>1386</td>\n",
       "      <td>58</td>\n",
       "      <td>1572.0</td>\n",
       "      <td>147.0</td>\n",
       "      <td>1777</td>\n",
       "    </tr>\n",
       "    <tr>\n",
       "      <th>4</th>\n",
       "      <td>139441</td>\n",
       "      <td>Photo</td>\n",
       "      <td>2</td>\n",
       "      <td>12</td>\n",
       "      <td>2</td>\n",
       "      <td>3</td>\n",
       "      <td>0.0</td>\n",
       "      <td>7244</td>\n",
       "      <td>13594</td>\n",
       "      <td>671</td>\n",
       "      <td>410</td>\n",
       "      <td>580</td>\n",
       "      <td>6228</td>\n",
       "      <td>3200</td>\n",
       "      <td>396</td>\n",
       "      <td>19</td>\n",
       "      <td>325.0</td>\n",
       "      <td>49.0</td>\n",
       "      <td>393</td>\n",
       "    </tr>\n",
       "    <tr>\n",
       "      <th>...</th>\n",
       "      <td>...</td>\n",
       "      <td>...</td>\n",
       "      <td>...</td>\n",
       "      <td>...</td>\n",
       "      <td>...</td>\n",
       "      <td>...</td>\n",
       "      <td>...</td>\n",
       "      <td>...</td>\n",
       "      <td>...</td>\n",
       "      <td>...</td>\n",
       "      <td>...</td>\n",
       "      <td>...</td>\n",
       "      <td>...</td>\n",
       "      <td>...</td>\n",
       "      <td>...</td>\n",
       "      <td>...</td>\n",
       "      <td>...</td>\n",
       "      <td>...</td>\n",
       "      <td>...</td>\n",
       "    </tr>\n",
       "    <tr>\n",
       "      <th>495</th>\n",
       "      <td>85093</td>\n",
       "      <td>Photo</td>\n",
       "      <td>3</td>\n",
       "      <td>1</td>\n",
       "      <td>7</td>\n",
       "      <td>2</td>\n",
       "      <td>0.0</td>\n",
       "      <td>4684</td>\n",
       "      <td>7536</td>\n",
       "      <td>733</td>\n",
       "      <td>708</td>\n",
       "      <td>985</td>\n",
       "      <td>4750</td>\n",
       "      <td>2876</td>\n",
       "      <td>392</td>\n",
       "      <td>5</td>\n",
       "      <td>53.0</td>\n",
       "      <td>26.0</td>\n",
       "      <td>84</td>\n",
       "    </tr>\n",
       "    <tr>\n",
       "      <th>496</th>\n",
       "      <td>81370</td>\n",
       "      <td>Photo</td>\n",
       "      <td>2</td>\n",
       "      <td>1</td>\n",
       "      <td>5</td>\n",
       "      <td>8</td>\n",
       "      <td>0.0</td>\n",
       "      <td>3480</td>\n",
       "      <td>6229</td>\n",
       "      <td>537</td>\n",
       "      <td>508</td>\n",
       "      <td>687</td>\n",
       "      <td>3961</td>\n",
       "      <td>2104</td>\n",
       "      <td>301</td>\n",
       "      <td>0</td>\n",
       "      <td>53.0</td>\n",
       "      <td>22.0</td>\n",
       "      <td>75</td>\n",
       "    </tr>\n",
       "    <tr>\n",
       "      <th>497</th>\n",
       "      <td>81370</td>\n",
       "      <td>Photo</td>\n",
       "      <td>1</td>\n",
       "      <td>1</td>\n",
       "      <td>5</td>\n",
       "      <td>2</td>\n",
       "      <td>0.0</td>\n",
       "      <td>3778</td>\n",
       "      <td>7216</td>\n",
       "      <td>625</td>\n",
       "      <td>572</td>\n",
       "      <td>795</td>\n",
       "      <td>4742</td>\n",
       "      <td>2388</td>\n",
       "      <td>363</td>\n",
       "      <td>4</td>\n",
       "      <td>93.0</td>\n",
       "      <td>18.0</td>\n",
       "      <td>115</td>\n",
       "    </tr>\n",
       "    <tr>\n",
       "      <th>498</th>\n",
       "      <td>81370</td>\n",
       "      <td>Photo</td>\n",
       "      <td>3</td>\n",
       "      <td>1</td>\n",
       "      <td>4</td>\n",
       "      <td>11</td>\n",
       "      <td>0.0</td>\n",
       "      <td>4156</td>\n",
       "      <td>7564</td>\n",
       "      <td>626</td>\n",
       "      <td>574</td>\n",
       "      <td>832</td>\n",
       "      <td>4534</td>\n",
       "      <td>2452</td>\n",
       "      <td>370</td>\n",
       "      <td>7</td>\n",
       "      <td>91.0</td>\n",
       "      <td>38.0</td>\n",
       "      <td>136</td>\n",
       "    </tr>\n",
       "    <tr>\n",
       "      <th>499</th>\n",
       "      <td>81370</td>\n",
       "      <td>Photo</td>\n",
       "      <td>2</td>\n",
       "      <td>1</td>\n",
       "      <td>4</td>\n",
       "      <td>4</td>\n",
       "      <td>NaN</td>\n",
       "      <td>4188</td>\n",
       "      <td>7292</td>\n",
       "      <td>564</td>\n",
       "      <td>524</td>\n",
       "      <td>743</td>\n",
       "      <td>3861</td>\n",
       "      <td>2200</td>\n",
       "      <td>316</td>\n",
       "      <td>0</td>\n",
       "      <td>91.0</td>\n",
       "      <td>28.0</td>\n",
       "      <td>119</td>\n",
       "    </tr>\n",
       "  </tbody>\n",
       "</table>\n",
       "<p>500 rows × 19 columns</p>\n",
       "</div>"
      ]
     },
     "metadata": {},
     "execution_count": 13
    }
   ],
   "metadata": {
    "colab": {
     "base_uri": "https://localhost:8080/",
     "height": 487
    },
    "id": "U2xMQ41u7K0m",
    "outputId": "a255a4dc-9a32-4881-b5c6-d8f2a4925ad2"
   }
  },
  {
   "cell_type": "code",
   "execution_count": 14,
   "source": [
    "df.info()"
   ],
   "outputs": [
    {
     "output_type": "stream",
     "name": "stdout",
     "text": [
      "<class 'pandas.core.frame.DataFrame'>\n",
      "RangeIndex: 500 entries, 0 to 499\n",
      "Data columns (total 19 columns):\n",
      " #   Column                                                               Non-Null Count  Dtype  \n",
      "---  ------                                                               --------------  -----  \n",
      " 0   Page total likes                                                     500 non-null    int64  \n",
      " 1   Type                                                                 500 non-null    object \n",
      " 2   Category                                                             500 non-null    int64  \n",
      " 3   Post Month                                                           500 non-null    int64  \n",
      " 4   Post Weekday                                                         500 non-null    int64  \n",
      " 5   Post Hour                                                            500 non-null    int64  \n",
      " 6   Paid                                                                 499 non-null    float64\n",
      " 7   Lifetime Post Total Reach                                            500 non-null    int64  \n",
      " 8   Lifetime Post Total Impressions                                      500 non-null    int64  \n",
      " 9   Lifetime Engaged Users                                               500 non-null    int64  \n",
      " 10  Lifetime Post Consumers                                              500 non-null    int64  \n",
      " 11  Lifetime Post Consumptions                                           500 non-null    int64  \n",
      " 12  Lifetime Post Impressions by people who have liked your Page         500 non-null    int64  \n",
      " 13  Lifetime Post reach by people who like your Page                     500 non-null    int64  \n",
      " 14  Lifetime People who have liked your Page and engaged with your post  500 non-null    int64  \n",
      " 15  comment                                                              500 non-null    int64  \n",
      " 16  like                                                                 499 non-null    float64\n",
      " 17  share                                                                496 non-null    float64\n",
      " 18  Total Interactions                                                   500 non-null    int64  \n",
      "dtypes: float64(3), int64(15), object(1)\n",
      "memory usage: 74.3+ KB\n"
     ]
    }
   ],
   "metadata": {}
  },
  {
   "cell_type": "markdown",
   "source": [
    "Only two columns have missing values. Which ones?\n",
    "\n",
    "Most columns are numerical (int64 or float64). \n",
    "Column 'Type' is of type 'object', which, as it comes from a csv file, typically means strings. We can see this in the output of cell 2. It looks like it's a categorical feature, so we'll check how many categories there are and how many examples for each."
   ],
   "metadata": {}
  },
  {
   "cell_type": "code",
   "execution_count": 15,
   "source": [
    "df['Type'].value_counts()"
   ],
   "outputs": [
    {
     "output_type": "execute_result",
     "data": {
      "text/plain": [
       "Photo     426\n",
       "Status     45\n",
       "Link       22\n",
       "Video       7\n",
       "Name: Type, dtype: int64"
      ]
     },
     "metadata": {},
     "execution_count": 15
    }
   ],
   "metadata": {}
  },
  {
   "cell_type": "markdown",
   "source": [
    "Now let's do some checks of the numerical columns."
   ],
   "metadata": {}
  },
  {
   "cell_type": "code",
   "execution_count": 16,
   "source": [
    "df.describe()"
   ],
   "outputs": [
    {
     "output_type": "execute_result",
     "data": {
      "text/plain": [
       "       Page total likes    Category  Post Month  Post Weekday   Post Hour  \\\n",
       "count        500.000000  500.000000  500.000000    500.000000  500.000000   \n",
       "mean      123194.176000    1.880000    7.038000      4.150000    7.840000   \n",
       "std        16272.813214    0.852675    3.307936      2.030701    4.368589   \n",
       "min        81370.000000    1.000000    1.000000      1.000000    1.000000   \n",
       "25%       112676.000000    1.000000    4.000000      2.000000    3.000000   \n",
       "50%       129600.000000    2.000000    7.000000      4.000000    9.000000   \n",
       "75%       136393.000000    3.000000   10.000000      6.000000   11.000000   \n",
       "max       139441.000000    3.000000   12.000000      7.000000   23.000000   \n",
       "\n",
       "             Paid  Lifetime Post Total Reach  Lifetime Post Total Impressions  \\\n",
       "count  499.000000                  500.00000                     5.000000e+02   \n",
       "mean     0.278557                13903.36000                     2.958595e+04   \n",
       "std      0.448739                22740.78789                     7.680325e+04   \n",
       "min      0.000000                  238.00000                     5.700000e+02   \n",
       "25%      0.000000                 3315.00000                     5.694750e+03   \n",
       "50%      0.000000                 5281.00000                     9.051000e+03   \n",
       "75%      1.000000                13168.00000                     2.208550e+04   \n",
       "max      1.000000               180480.00000                     1.110282e+06   \n",
       "\n",
       "       Lifetime Engaged Users  Lifetime Post Consumers  \\\n",
       "count              500.000000               500.000000   \n",
       "mean               920.344000               798.772000   \n",
       "std                985.016636               882.505013   \n",
       "min                  9.000000                 9.000000   \n",
       "25%                393.750000               332.500000   \n",
       "50%                625.500000               551.500000   \n",
       "75%               1062.000000               955.500000   \n",
       "max              11452.000000             11328.000000   \n",
       "\n",
       "       Lifetime Post Consumptions  \\\n",
       "count                  500.000000   \n",
       "mean                  1415.130000   \n",
       "std                   2000.594118   \n",
       "min                      9.000000   \n",
       "25%                    509.250000   \n",
       "50%                    851.000000   \n",
       "75%                   1463.000000   \n",
       "max                  19779.000000   \n",
       "\n",
       "       Lifetime Post Impressions by people who have liked your Page  \\\n",
       "count                                       5.000000e+02              \n",
       "mean                                        1.676638e+04              \n",
       "std                                         5.979102e+04              \n",
       "min                                         5.670000e+02              \n",
       "25%                                         3.969750e+03              \n",
       "50%                                         6.255500e+03              \n",
       "75%                                         1.486050e+04              \n",
       "max                                         1.107833e+06              \n",
       "\n",
       "       Lifetime Post reach by people who like your Page  \\\n",
       "count                                        500.000000   \n",
       "mean                                        6585.488000   \n",
       "std                                         7682.009405   \n",
       "min                                          236.000000   \n",
       "25%                                         2181.500000   \n",
       "50%                                         3417.000000   \n",
       "75%                                         7989.000000   \n",
       "max                                        51456.000000   \n",
       "\n",
       "       Lifetime People who have liked your Page and engaged with your post  \\\n",
       "count                                         500.000000                     \n",
       "mean                                          609.986000                     \n",
       "std                                           612.725618                     \n",
       "min                                             9.000000                     \n",
       "25%                                           291.000000                     \n",
       "50%                                           412.000000                     \n",
       "75%                                           656.250000                     \n",
       "max                                          4376.000000                     \n",
       "\n",
       "         comment         like       share  Total Interactions  \n",
       "count  500.00000   499.000000  496.000000          500.000000  \n",
       "mean     7.48200   177.945892   27.266129          212.120000  \n",
       "std     21.18091   323.398742   42.613292          380.233118  \n",
       "min      0.00000     0.000000    0.000000            0.000000  \n",
       "25%      1.00000    56.500000   10.000000           71.000000  \n",
       "50%      3.00000   101.000000   19.000000          123.500000  \n",
       "75%      7.00000   187.500000   32.250000          228.500000  \n",
       "max    372.00000  5172.000000  790.000000         6334.000000  "
      ],
      "text/html": [
       "<div>\n",
       "<style scoped>\n",
       "    .dataframe tbody tr th:only-of-type {\n",
       "        vertical-align: middle;\n",
       "    }\n",
       "\n",
       "    .dataframe tbody tr th {\n",
       "        vertical-align: top;\n",
       "    }\n",
       "\n",
       "    .dataframe thead th {\n",
       "        text-align: right;\n",
       "    }\n",
       "</style>\n",
       "<table border=\"1\" class=\"dataframe\">\n",
       "  <thead>\n",
       "    <tr style=\"text-align: right;\">\n",
       "      <th></th>\n",
       "      <th>Page total likes</th>\n",
       "      <th>Category</th>\n",
       "      <th>Post Month</th>\n",
       "      <th>Post Weekday</th>\n",
       "      <th>Post Hour</th>\n",
       "      <th>Paid</th>\n",
       "      <th>Lifetime Post Total Reach</th>\n",
       "      <th>Lifetime Post Total Impressions</th>\n",
       "      <th>Lifetime Engaged Users</th>\n",
       "      <th>Lifetime Post Consumers</th>\n",
       "      <th>Lifetime Post Consumptions</th>\n",
       "      <th>Lifetime Post Impressions by people who have liked your Page</th>\n",
       "      <th>Lifetime Post reach by people who like your Page</th>\n",
       "      <th>Lifetime People who have liked your Page and engaged with your post</th>\n",
       "      <th>comment</th>\n",
       "      <th>like</th>\n",
       "      <th>share</th>\n",
       "      <th>Total Interactions</th>\n",
       "    </tr>\n",
       "  </thead>\n",
       "  <tbody>\n",
       "    <tr>\n",
       "      <th>count</th>\n",
       "      <td>500.000000</td>\n",
       "      <td>500.000000</td>\n",
       "      <td>500.000000</td>\n",
       "      <td>500.000000</td>\n",
       "      <td>500.000000</td>\n",
       "      <td>499.000000</td>\n",
       "      <td>500.00000</td>\n",
       "      <td>5.000000e+02</td>\n",
       "      <td>500.000000</td>\n",
       "      <td>500.000000</td>\n",
       "      <td>500.000000</td>\n",
       "      <td>5.000000e+02</td>\n",
       "      <td>500.000000</td>\n",
       "      <td>500.000000</td>\n",
       "      <td>500.00000</td>\n",
       "      <td>499.000000</td>\n",
       "      <td>496.000000</td>\n",
       "      <td>500.000000</td>\n",
       "    </tr>\n",
       "    <tr>\n",
       "      <th>mean</th>\n",
       "      <td>123194.176000</td>\n",
       "      <td>1.880000</td>\n",
       "      <td>7.038000</td>\n",
       "      <td>4.150000</td>\n",
       "      <td>7.840000</td>\n",
       "      <td>0.278557</td>\n",
       "      <td>13903.36000</td>\n",
       "      <td>2.958595e+04</td>\n",
       "      <td>920.344000</td>\n",
       "      <td>798.772000</td>\n",
       "      <td>1415.130000</td>\n",
       "      <td>1.676638e+04</td>\n",
       "      <td>6585.488000</td>\n",
       "      <td>609.986000</td>\n",
       "      <td>7.48200</td>\n",
       "      <td>177.945892</td>\n",
       "      <td>27.266129</td>\n",
       "      <td>212.120000</td>\n",
       "    </tr>\n",
       "    <tr>\n",
       "      <th>std</th>\n",
       "      <td>16272.813214</td>\n",
       "      <td>0.852675</td>\n",
       "      <td>3.307936</td>\n",
       "      <td>2.030701</td>\n",
       "      <td>4.368589</td>\n",
       "      <td>0.448739</td>\n",
       "      <td>22740.78789</td>\n",
       "      <td>7.680325e+04</td>\n",
       "      <td>985.016636</td>\n",
       "      <td>882.505013</td>\n",
       "      <td>2000.594118</td>\n",
       "      <td>5.979102e+04</td>\n",
       "      <td>7682.009405</td>\n",
       "      <td>612.725618</td>\n",
       "      <td>21.18091</td>\n",
       "      <td>323.398742</td>\n",
       "      <td>42.613292</td>\n",
       "      <td>380.233118</td>\n",
       "    </tr>\n",
       "    <tr>\n",
       "      <th>min</th>\n",
       "      <td>81370.000000</td>\n",
       "      <td>1.000000</td>\n",
       "      <td>1.000000</td>\n",
       "      <td>1.000000</td>\n",
       "      <td>1.000000</td>\n",
       "      <td>0.000000</td>\n",
       "      <td>238.00000</td>\n",
       "      <td>5.700000e+02</td>\n",
       "      <td>9.000000</td>\n",
       "      <td>9.000000</td>\n",
       "      <td>9.000000</td>\n",
       "      <td>5.670000e+02</td>\n",
       "      <td>236.000000</td>\n",
       "      <td>9.000000</td>\n",
       "      <td>0.00000</td>\n",
       "      <td>0.000000</td>\n",
       "      <td>0.000000</td>\n",
       "      <td>0.000000</td>\n",
       "    </tr>\n",
       "    <tr>\n",
       "      <th>25%</th>\n",
       "      <td>112676.000000</td>\n",
       "      <td>1.000000</td>\n",
       "      <td>4.000000</td>\n",
       "      <td>2.000000</td>\n",
       "      <td>3.000000</td>\n",
       "      <td>0.000000</td>\n",
       "      <td>3315.00000</td>\n",
       "      <td>5.694750e+03</td>\n",
       "      <td>393.750000</td>\n",
       "      <td>332.500000</td>\n",
       "      <td>509.250000</td>\n",
       "      <td>3.969750e+03</td>\n",
       "      <td>2181.500000</td>\n",
       "      <td>291.000000</td>\n",
       "      <td>1.00000</td>\n",
       "      <td>56.500000</td>\n",
       "      <td>10.000000</td>\n",
       "      <td>71.000000</td>\n",
       "    </tr>\n",
       "    <tr>\n",
       "      <th>50%</th>\n",
       "      <td>129600.000000</td>\n",
       "      <td>2.000000</td>\n",
       "      <td>7.000000</td>\n",
       "      <td>4.000000</td>\n",
       "      <td>9.000000</td>\n",
       "      <td>0.000000</td>\n",
       "      <td>5281.00000</td>\n",
       "      <td>9.051000e+03</td>\n",
       "      <td>625.500000</td>\n",
       "      <td>551.500000</td>\n",
       "      <td>851.000000</td>\n",
       "      <td>6.255500e+03</td>\n",
       "      <td>3417.000000</td>\n",
       "      <td>412.000000</td>\n",
       "      <td>3.00000</td>\n",
       "      <td>101.000000</td>\n",
       "      <td>19.000000</td>\n",
       "      <td>123.500000</td>\n",
       "    </tr>\n",
       "    <tr>\n",
       "      <th>75%</th>\n",
       "      <td>136393.000000</td>\n",
       "      <td>3.000000</td>\n",
       "      <td>10.000000</td>\n",
       "      <td>6.000000</td>\n",
       "      <td>11.000000</td>\n",
       "      <td>1.000000</td>\n",
       "      <td>13168.00000</td>\n",
       "      <td>2.208550e+04</td>\n",
       "      <td>1062.000000</td>\n",
       "      <td>955.500000</td>\n",
       "      <td>1463.000000</td>\n",
       "      <td>1.486050e+04</td>\n",
       "      <td>7989.000000</td>\n",
       "      <td>656.250000</td>\n",
       "      <td>7.00000</td>\n",
       "      <td>187.500000</td>\n",
       "      <td>32.250000</td>\n",
       "      <td>228.500000</td>\n",
       "    </tr>\n",
       "    <tr>\n",
       "      <th>max</th>\n",
       "      <td>139441.000000</td>\n",
       "      <td>3.000000</td>\n",
       "      <td>12.000000</td>\n",
       "      <td>7.000000</td>\n",
       "      <td>23.000000</td>\n",
       "      <td>1.000000</td>\n",
       "      <td>180480.00000</td>\n",
       "      <td>1.110282e+06</td>\n",
       "      <td>11452.000000</td>\n",
       "      <td>11328.000000</td>\n",
       "      <td>19779.000000</td>\n",
       "      <td>1.107833e+06</td>\n",
       "      <td>51456.000000</td>\n",
       "      <td>4376.000000</td>\n",
       "      <td>372.00000</td>\n",
       "      <td>5172.000000</td>\n",
       "      <td>790.000000</td>\n",
       "      <td>6334.000000</td>\n",
       "    </tr>\n",
       "  </tbody>\n",
       "</table>\n",
       "</div>"
      ]
     },
     "metadata": {},
     "execution_count": 16
    }
   ],
   "metadata": {}
  },
  {
   "cell_type": "code",
   "execution_count": 17,
   "source": [
    "_ = df.hist(bins=50, figsize=(20,15))"
   ],
   "outputs": [
    {
     "output_type": "display_data",
     "data": {
      "text/plain": [
       "<Figure size 1440x1080 with 20 Axes>"
      ],
      "image/png": "[encoded data removed]"
     },
     "metadata": {
      "needs_background": "light"
     }
    }
   ],
   "metadata": {}
  },
  {
   "cell_type": "markdown",
   "source": [
    "We have some insights from here already which will help us decide how to move forward. \n",
    "\n",
    "Some ideas:\n",
    "\n",
    "- 'Category', 'Post Month', 'Post Weekday', 'Post Hour', and 'Paid' appear as numerical features, but they are categorical.\n",
    "- Skewed distributions for most of the features -- standardisation or some other way of transforming the features might be needed (or at least attempted in our explorations).\n",
    "\n",
    "\n",
    "\n",
    "Before we go any further, we should create our separate train and test splits. We will not look at the test set again until the end of the project."
   ],
   "metadata": {}
  },
  {
   "cell_type": "code",
   "execution_count": 18,
   "source": [
    "# Create separate training and test sets. we'll use the training set for steps 3--6\r\n",
    "train_set, test_set = train_test_split(df, test_size=0.2, random_state=23)  \r\n",
    "# by setting a random_state above, we make sure anytime we run this line we end up with the same train and test sets\r\n",
    "print(len(train_set), len(test_set))"
   ],
   "outputs": [
    {
     "output_type": "stream",
     "name": "stdout",
     "text": [
      "400 100\n"
     ]
    }
   ],
   "metadata": {}
  },
  {
   "cell_type": "code",
   "execution_count": 19,
   "source": [
    "# Let's make a copy of the training set to ensure we don't mess things up\r\n",
    "df = train_set.copy()"
   ],
   "outputs": [],
   "metadata": {}
  },
  {
   "cell_type": "markdown",
   "source": [
    "What we do from now on depends on the data we're working with. Some examples below.\n",
    "\n",
    "Let's look only at some potential features"
   ],
   "metadata": {}
  },
  {
   "cell_type": "code",
   "execution_count": 20,
   "source": [
    "features = [\"Category\", \"Page total likes\", \"Type\", \"Post Month\", \"Post Hour\", \"Post Weekday\", \"Paid\"]\r\n",
    "df[features].head()"
   ],
   "outputs": [
    {
     "output_type": "execute_result",
     "data": {
      "text/plain": [
       "     Category  Page total likes    Type  Post Month  Post Hour  Post Weekday  \\\n",
       "61          1            138185   Photo          11          2             3   \n",
       "13          2            139441   Photo          12          3             5   \n",
       "183         1            134879   Video           9         10             2   \n",
       "38          2            138895  Status          12          9             7   \n",
       "479         3             86909   Photo           1          4             5   \n",
       "\n",
       "     Paid  \n",
       "61    1.0  \n",
       "13    0.0  \n",
       "183   0.0  \n",
       "38    0.0  \n",
       "479   0.0  "
      ],
      "text/html": [
       "<div>\n",
       "<style scoped>\n",
       "    .dataframe tbody tr th:only-of-type {\n",
       "        vertical-align: middle;\n",
       "    }\n",
       "\n",
       "    .dataframe tbody tr th {\n",
       "        vertical-align: top;\n",
       "    }\n",
       "\n",
       "    .dataframe thead th {\n",
       "        text-align: right;\n",
       "    }\n",
       "</style>\n",
       "<table border=\"1\" class=\"dataframe\">\n",
       "  <thead>\n",
       "    <tr style=\"text-align: right;\">\n",
       "      <th></th>\n",
       "      <th>Category</th>\n",
       "      <th>Page total likes</th>\n",
       "      <th>Type</th>\n",
       "      <th>Post Month</th>\n",
       "      <th>Post Hour</th>\n",
       "      <th>Post Weekday</th>\n",
       "      <th>Paid</th>\n",
       "    </tr>\n",
       "  </thead>\n",
       "  <tbody>\n",
       "    <tr>\n",
       "      <th>61</th>\n",
       "      <td>1</td>\n",
       "      <td>138185</td>\n",
       "      <td>Photo</td>\n",
       "      <td>11</td>\n",
       "      <td>2</td>\n",
       "      <td>3</td>\n",
       "      <td>1.0</td>\n",
       "    </tr>\n",
       "    <tr>\n",
       "      <th>13</th>\n",
       "      <td>2</td>\n",
       "      <td>139441</td>\n",
       "      <td>Photo</td>\n",
       "      <td>12</td>\n",
       "      <td>3</td>\n",
       "      <td>5</td>\n",
       "      <td>0.0</td>\n",
       "    </tr>\n",
       "    <tr>\n",
       "      <th>183</th>\n",
       "      <td>1</td>\n",
       "      <td>134879</td>\n",
       "      <td>Video</td>\n",
       "      <td>9</td>\n",
       "      <td>10</td>\n",
       "      <td>2</td>\n",
       "      <td>0.0</td>\n",
       "    </tr>\n",
       "    <tr>\n",
       "      <th>38</th>\n",
       "      <td>2</td>\n",
       "      <td>138895</td>\n",
       "      <td>Status</td>\n",
       "      <td>12</td>\n",
       "      <td>9</td>\n",
       "      <td>7</td>\n",
       "      <td>0.0</td>\n",
       "    </tr>\n",
       "    <tr>\n",
       "      <th>479</th>\n",
       "      <td>3</td>\n",
       "      <td>86909</td>\n",
       "      <td>Photo</td>\n",
       "      <td>1</td>\n",
       "      <td>4</td>\n",
       "      <td>5</td>\n",
       "      <td>0.0</td>\n",
       "    </tr>\n",
       "  </tbody>\n",
       "</table>\n",
       "</div>"
      ]
     },
     "metadata": {},
     "execution_count": 20
    }
   ],
   "metadata": {}
  },
  {
   "cell_type": "code",
   "execution_count": 21,
   "source": [
    "# Scatterplots\r\n",
    "_ = sns.pairplot(df[features])\r\n",
    "# An equivalent plot can be done with pandas:\r\n",
    "#_ = pd.plotting.scatter_matrix(df[features], figsize=(12, 8))"
   ],
   "outputs": [
    {
     "output_type": "display_data",
     "data": {
      "text/plain": [
       "<Figure size 1080x1080 with 42 Axes>"
      ],
      "image/png": "[encoded data removed]"
     },
     "metadata": {
      "needs_background": "light"
     }
    }
   ],
   "metadata": {}
  },
  {
   "cell_type": "code",
   "execution_count": 22,
   "source": [
    "# Correlations\r\n",
    "correlations = df.corr()  # this is a dataframe\r\n",
    "# let's see how much each attribute correlates with the outcome 'like'\r\n",
    "correlations['like'].sort_values(ascending=False)"
   ],
   "outputs": [
    {
     "output_type": "execute_result",
     "data": {
      "text/plain": [
       "like                                                                   1.000000\n",
       "Total Interactions                                                     0.997956\n",
       "share                                                                  0.916424\n",
       "comment                                                                0.856275\n",
       "Lifetime Post reach by people who like your Page                       0.634616\n",
       "Lifetime Engaged Users                                                 0.572801\n",
       "Lifetime Post Total Reach                                              0.556006\n",
       "Lifetime People who have liked your Page and engaged with your post    0.501722\n",
       "Lifetime Post Consumers                                                0.351391\n",
       "Lifetime Post Total Impressions                                        0.343128\n",
       "Lifetime Post Impressions by people who have liked your Page           0.247382\n",
       "Lifetime Post Consumptions                                             0.231878\n",
       "Paid                                                                   0.124391\n",
       "Category                                                               0.123469\n",
       "Page total likes                                                       0.045435\n",
       "Post Month                                                             0.019471\n",
       "Post Hour                                                             -0.018337\n",
       "Post Weekday                                                          -0.081361\n",
       "Name: like, dtype: float64"
      ]
     },
     "metadata": {},
     "execution_count": 22
    }
   ],
   "metadata": {}
  },
  {
   "cell_type": "markdown",
   "source": [
    "Note that correlations only tell us of a LINEAR relationship between two variables. Small correlations do not imply no information at all, only that if there is, it is not linear."
   ],
   "metadata": {}
  },
  {
   "cell_type": "markdown",
   "source": [
    "We now have some information about our data that we can use to model. Let's move on to step 4 \"Prepare the data for ML\", but note that this is an iterative process (insights -> prototype -> analyse -> insights -> ...)\n",
    "\n",
    "At this stage we can also do feature ingeneering: create more features from the ones you have and check if the correlation with the outcome improves. If we use them in our model, we'll need them later on for our test set as well, but we'll see how to do this below."
   ],
   "metadata": {}
  },
  {
   "cell_type": "markdown",
   "source": [
    "### Prepare data for ML algorithms\n",
    "\n",
    "Use functions were possible:\n",
    "\n",
    "    - Reproducing on a new dataset is easier\n",
    "    - Reusable on other projects\n",
    "    - To transform the data for deployment\n",
    "    - Can see which transformations work best\n",
    "\n",
    "First, let's revert to a new clean training set, and separate features from labels (if applicable -- not in unsupervised learning)"
   ],
   "metadata": {}
  },
  {
   "cell_type": "code",
   "execution_count": 23,
   "source": [
    "df = train_set.copy()\r\n",
    "# Most algorithms cannot work with missing values. Three main ways to deal with them:\r\n",
    "# 1. Drop rows\r\n",
    "# 2. Drop features with NaNs\r\n",
    "# 3. Fill missing values\r\n",
    "# As we have very few missing values, let's drop the rows\r\n",
    "print(\"Number of rows before dropping NaNs: %d\" % len(df))\r\n",
    "df = df.dropna()\r\n",
    "print(\"Number of rows after dropping NaNs: %d\" % len(df))\r\n",
    "# Separate features from outcomes\r\n",
    "y_df = df['like'].copy()\r\n",
    "X_df = df[features].copy()"
   ],
   "outputs": [
    {
     "output_type": "stream",
     "name": "stdout",
     "text": [
      "Number of rows before dropping NaNs: 400\n",
      "Number of rows after dropping NaNs: 396\n"
     ]
    }
   ],
   "metadata": {}
  },
  {
   "cell_type": "code",
   "execution_count": 24,
   "source": [
    "# We previously observed that some of the features were categorical. \r\n",
    "# Two main ways to deal with these: OrdinalEncoder() or OneHotEncoding()\r\n",
    "\r\n",
    "# Let's use OneHotEncoding for the categories ('Category', 'Paid', 'Type')\r\n",
    "# As we will later want to transform the test set, let's follow good practice and create a custom transformer for a sklearn pipeline\r\n",
    "\r\n",
    "# This is an example of how it would be done. Since this is a very simple transformation, there's a better way of doing it\r\n",
    "# using ColumnTransformer. We show it below\r\n",
    "\r\n",
    "class OneHotEncoderCategoricalFeatures(BaseEstimator, TransformerMixin):\r\n",
    "    def __init__(self, cat_features):\r\n",
    "        self.cat_features = cat_features\r\n",
    "    \r\n",
    "    def fit(self, X, y=None):\r\n",
    "        return self\r\n",
    "    \r\n",
    "    def transform(self, X):\r\n",
    "        return pd.get_dummies(X, columns=self.cat_features)\r\n",
    "\r\n"
   ],
   "outputs": [],
   "metadata": {
    "colab": {
     "base_uri": "https://localhost:8080/"
    },
    "id": "GMppsSje7K1X",
    "outputId": "c3dcc603-030d-4fed-c7d9-a68cadc6fa83"
   }
  },
  {
   "cell_type": "code",
   "execution_count": 25,
   "source": [
    "cat_features = [\"Category\", \"Type\"]\r\n",
    "\r\n",
    "encoder = OneHotEncoderCategoricalFeatures(cat_features)\r\n",
    "X_oho = encoder.transform(X_df)\r\n",
    "X_oho"
   ],
   "outputs": [
    {
     "output_type": "execute_result",
     "data": {
      "text/plain": [
       "     Page total likes  Post Month  Post Hour  Post Weekday  Paid  Category_1  \\\n",
       "61             138185          11          2             3   1.0           1   \n",
       "13             139441          12          3             5   0.0           0   \n",
       "183            134879           9         10             2   0.0           1   \n",
       "38             138895          12          9             7   0.0           0   \n",
       "479             86909           1          4             5   0.0           0   \n",
       "..                ...         ...        ...           ...   ...         ...   \n",
       "438             98195           3          6             6   0.0           0   \n",
       "457             92828           2          6             3   0.0           1   \n",
       "40             138895          12         11             6   0.0           0   \n",
       "230            131630           7         23             2   0.0           0   \n",
       "83             137177          11         10             5   1.0           0   \n",
       "\n",
       "     Category_2  Category_3  Type_Link  Type_Photo  Type_Status  Type_Video  \n",
       "61            0           0          0           1            0           0  \n",
       "13            1           0          0           1            0           0  \n",
       "183           0           0          0           0            0           1  \n",
       "38            1           0          0           0            1           0  \n",
       "479           0           1          0           1            0           0  \n",
       "..          ...         ...        ...         ...          ...         ...  \n",
       "438           1           0          1           0            0           0  \n",
       "457           0           0          0           1            0           0  \n",
       "40            1           0          0           0            1           0  \n",
       "230           0           1          0           1            0           0  \n",
       "83            0           1          0           1            0           0  \n",
       "\n",
       "[396 rows x 12 columns]"
      ],
      "text/html": [
       "<div>\n",
       "<style scoped>\n",
       "    .dataframe tbody tr th:only-of-type {\n",
       "        vertical-align: middle;\n",
       "    }\n",
       "\n",
       "    .dataframe tbody tr th {\n",
       "        vertical-align: top;\n",
       "    }\n",
       "\n",
       "    .dataframe thead th {\n",
       "        text-align: right;\n",
       "    }\n",
       "</style>\n",
       "<table border=\"1\" class=\"dataframe\">\n",
       "  <thead>\n",
       "    <tr style=\"text-align: right;\">\n",
       "      <th></th>\n",
       "      <th>Page total likes</th>\n",
       "      <th>Post Month</th>\n",
       "      <th>Post Hour</th>\n",
       "      <th>Post Weekday</th>\n",
       "      <th>Paid</th>\n",
       "      <th>Category_1</th>\n",
       "      <th>Category_2</th>\n",
       "      <th>Category_3</th>\n",
       "      <th>Type_Link</th>\n",
       "      <th>Type_Photo</th>\n",
       "      <th>Type_Status</th>\n",
       "      <th>Type_Video</th>\n",
       "    </tr>\n",
       "  </thead>\n",
       "  <tbody>\n",
       "    <tr>\n",
       "      <th>61</th>\n",
       "      <td>138185</td>\n",
       "      <td>11</td>\n",
       "      <td>2</td>\n",
       "      <td>3</td>\n",
       "      <td>1.0</td>\n",
       "      <td>1</td>\n",
       "      <td>0</td>\n",
       "      <td>0</td>\n",
       "      <td>0</td>\n",
       "      <td>1</td>\n",
       "      <td>0</td>\n",
       "      <td>0</td>\n",
       "    </tr>\n",
       "    <tr>\n",
       "      <th>13</th>\n",
       "      <td>139441</td>\n",
       "      <td>12</td>\n",
       "      <td>3</td>\n",
       "      <td>5</td>\n",
       "      <td>0.0</td>\n",
       "      <td>0</td>\n",
       "      <td>1</td>\n",
       "      <td>0</td>\n",
       "      <td>0</td>\n",
       "      <td>1</td>\n",
       "      <td>0</td>\n",
       "      <td>0</td>\n",
       "    </tr>\n",
       "    <tr>\n",
       "      <th>183</th>\n",
       "      <td>134879</td>\n",
       "      <td>9</td>\n",
       "      <td>10</td>\n",
       "      <td>2</td>\n",
       "      <td>0.0</td>\n",
       "      <td>1</td>\n",
       "      <td>0</td>\n",
       "      <td>0</td>\n",
       "      <td>0</td>\n",
       "      <td>0</td>\n",
       "      <td>0</td>\n",
       "      <td>1</td>\n",
       "    </tr>\n",
       "    <tr>\n",
       "      <th>38</th>\n",
       "      <td>138895</td>\n",
       "      <td>12</td>\n",
       "      <td>9</td>\n",
       "      <td>7</td>\n",
       "      <td>0.0</td>\n",
       "      <td>0</td>\n",
       "      <td>1</td>\n",
       "      <td>0</td>\n",
       "      <td>0</td>\n",
       "      <td>0</td>\n",
       "      <td>1</td>\n",
       "      <td>0</td>\n",
       "    </tr>\n",
       "    <tr>\n",
       "      <th>479</th>\n",
       "      <td>86909</td>\n",
       "      <td>1</td>\n",
       "      <td>4</td>\n",
       "      <td>5</td>\n",
       "      <td>0.0</td>\n",
       "      <td>0</td>\n",
       "      <td>0</td>\n",
       "      <td>1</td>\n",
       "      <td>0</td>\n",
       "      <td>1</td>\n",
       "      <td>0</td>\n",
       "      <td>0</td>\n",
       "    </tr>\n",
       "    <tr>\n",
       "      <th>...</th>\n",
       "      <td>...</td>\n",
       "      <td>...</td>\n",
       "      <td>...</td>\n",
       "      <td>...</td>\n",
       "      <td>...</td>\n",
       "      <td>...</td>\n",
       "      <td>...</td>\n",
       "      <td>...</td>\n",
       "      <td>...</td>\n",
       "      <td>...</td>\n",
       "      <td>...</td>\n",
       "      <td>...</td>\n",
       "    </tr>\n",
       "    <tr>\n",
       "      <th>438</th>\n",
       "      <td>98195</td>\n",
       "      <td>3</td>\n",
       "      <td>6</td>\n",
       "      <td>6</td>\n",
       "      <td>0.0</td>\n",
       "      <td>0</td>\n",
       "      <td>1</td>\n",
       "      <td>0</td>\n",
       "      <td>1</td>\n",
       "      <td>0</td>\n",
       "      <td>0</td>\n",
       "      <td>0</td>\n",
       "    </tr>\n",
       "    <tr>\n",
       "      <th>457</th>\n",
       "      <td>92828</td>\n",
       "      <td>2</td>\n",
       "      <td>6</td>\n",
       "      <td>3</td>\n",
       "      <td>0.0</td>\n",
       "      <td>1</td>\n",
       "      <td>0</td>\n",
       "      <td>0</td>\n",
       "      <td>0</td>\n",
       "      <td>1</td>\n",
       "      <td>0</td>\n",
       "      <td>0</td>\n",
       "    </tr>\n",
       "    <tr>\n",
       "      <th>40</th>\n",
       "      <td>138895</td>\n",
       "      <td>12</td>\n",
       "      <td>11</td>\n",
       "      <td>6</td>\n",
       "      <td>0.0</td>\n",
       "      <td>0</td>\n",
       "      <td>1</td>\n",
       "      <td>0</td>\n",
       "      <td>0</td>\n",
       "      <td>0</td>\n",
       "      <td>1</td>\n",
       "      <td>0</td>\n",
       "    </tr>\n",
       "    <tr>\n",
       "      <th>230</th>\n",
       "      <td>131630</td>\n",
       "      <td>7</td>\n",
       "      <td>23</td>\n",
       "      <td>2</td>\n",
       "      <td>0.0</td>\n",
       "      <td>0</td>\n",
       "      <td>0</td>\n",
       "      <td>1</td>\n",
       "      <td>0</td>\n",
       "      <td>1</td>\n",
       "      <td>0</td>\n",
       "      <td>0</td>\n",
       "    </tr>\n",
       "    <tr>\n",
       "      <th>83</th>\n",
       "      <td>137177</td>\n",
       "      <td>11</td>\n",
       "      <td>10</td>\n",
       "      <td>5</td>\n",
       "      <td>1.0</td>\n",
       "      <td>0</td>\n",
       "      <td>0</td>\n",
       "      <td>1</td>\n",
       "      <td>0</td>\n",
       "      <td>1</td>\n",
       "      <td>0</td>\n",
       "      <td>0</td>\n",
       "    </tr>\n",
       "  </tbody>\n",
       "</table>\n",
       "<p>396 rows × 12 columns</p>\n",
       "</div>"
      ]
     },
     "metadata": {},
     "execution_count": 25
    }
   ],
   "metadata": {
    "colab": {
     "base_uri": "https://localhost:8080/",
     "height": 374
    },
    "id": "_YOMhp257K19",
    "outputId": "1bbb705f-3a44-4036-de9c-6c0059b84508",
    "scrolled": true
   }
  },
  {
   "cell_type": "code",
   "execution_count": 26,
   "source": [
    "# Let's also look at standardising some of the numerical features\r\n",
    "num_features = ['Page total likes']\r\n",
    "\r\n",
    "# Use column transformer: numerical features will be standardised; categorical features will be transformed with OHO\r\n",
    "\r\n",
    "# We can use a ColumnTransformer to transform only some types of columns in different ways\r\n",
    "colTransformer = ColumnTransformer([\r\n",
    "    ('num', StandardScaler(), num_features),\r\n",
    "    ('cat', OneHotEncoder(), cat_features)\r\n",
    "    ],\r\n",
    "    remainder='passthrough'  # i.e., leave the rest of the columns untouched -- otherwise, they're dropped\r\n",
    "    )\r\n",
    "\r\n",
    "X_processed = colTransformer.fit_transform(X_df)\r\n",
    "X_processed.shape"
   ],
   "outputs": [
    {
     "output_type": "execute_result",
     "data": {
      "text/plain": [
       "(396, 12)"
      ]
     },
     "metadata": {},
     "execution_count": 26
    }
   ],
   "metadata": {
    "colab": {
     "base_uri": "https://localhost:8080/",
     "height": 383
    },
    "id": "-0-m-0i97K2g",
    "outputId": "8966840e-90c1-4b2e-bfbb-5a0cd4120fdb"
   }
  },
  {
   "cell_type": "code",
   "execution_count": 27,
   "source": [
    "X_processed[0,:]"
   ],
   "outputs": [
    {
     "output_type": "execute_result",
     "data": {
      "text/plain": [
       "array([ 0.90234462,  1.        ,  0.        ,  0.        ,  0.        ,\n",
       "        1.        ,  0.        ,  0.        , 11.        ,  2.        ,\n",
       "        3.        ,  1.        ])"
      ]
     },
     "metadata": {},
     "execution_count": 27
    }
   ],
   "metadata": {}
  },
  {
   "cell_type": "markdown",
   "source": [
    "## Regression"
   ],
   "metadata": {}
  },
  {
   "cell_type": "markdown",
   "source": [
    "We can now train a regressor and then use the bootstrap to find an approximation of the bias and the variance"
   ],
   "metadata": {
    "id": "7QTjJP_h7K3N"
   }
  },
  {
   "cell_type": "code",
   "execution_count": 28,
   "source": [
    "y = y_df.values\r\n",
    "_ = sns.histplot(y, kde=False)"
   ],
   "outputs": [
    {
     "output_type": "display_data",
     "data": {
      "text/plain": [
       "<Figure size 432x288 with 1 Axes>"
      ],
      "image/png": "[encoded data removed]"
     },
     "metadata": {
      "needs_background": "light"
     }
    }
   ],
   "metadata": {
    "id": "JNDEKVYHybim"
   }
  },
  {
   "cell_type": "code",
   "execution_count": 29,
   "source": [
    "# Since the 'y' is skewed and the range is very large, we can also transform it\r\n",
    "y_transformer = StandardScaler()  # we'll need this scaler for the test set later!\r\n",
    "y = y_transformer.fit_transform(y.reshape(-1,1))\r\n",
    "_ = sns.histplot(y, kde=False)"
   ],
   "outputs": [
    {
     "output_type": "display_data",
     "data": {
      "text/plain": [
       "<Figure size 432x288 with 1 Axes>"
      ],
      "image/png": "[encoded data removed]"
     },
     "metadata": {
      "needs_background": "light"
     }
    }
   ],
   "metadata": {
    "colab": {
     "base_uri": "https://localhost:8080/",
     "height": 265
    },
    "id": "YGItp0Vh7K2_",
    "outputId": "abf04b2c-2ea6-4b3c-e857-95dae88d87ee"
   }
  },
  {
   "cell_type": "markdown",
   "source": [
    "Let's try some models"
   ],
   "metadata": {}
  },
  {
   "cell_type": "code",
   "execution_count": 30,
   "source": [
    "clf = DecisionTreeRegressor()  # Decision tree\r\n",
    "clf.fit(X_processed, y)\r\n",
    "print(\"MSE of the model = %1.4g\" % mse(y, clf.predict(X_processed)))"
   ],
   "outputs": [
    {
     "output_type": "stream",
     "name": "stdout",
     "text": [
      "MSE of the model = 0.0005276\n"
     ]
    }
   ],
   "metadata": {
    "colab": {
     "base_uri": "https://localhost:8080/"
    },
    "id": "KvaUMdbB9HWK",
    "outputId": "79fe57a9-98dc-4cf8-f87d-b77a6fc76244"
   }
  },
  {
   "cell_type": "code",
   "execution_count": 31,
   "source": [
    "n_test = 100\r\n",
    "n_repeat = 1000\r\n",
    "\r\n",
    "estimator = RandomForestRegressor()\r\n",
    "\r\n",
    "# Compute predictions\r\n",
    "y_predicts = np.ones((n_repeat, len(X_processed))) * np.nan\r\n",
    "for i in range(n_repeat):\r\n",
    "    sample  = np.random.choice(range(len(X_processed)), replace=True, size=len(X_processed))  # bootstrap!\r\n",
    "    train_ids = sample[:-n_test]\r\n",
    "    val_ids = sample[-n_test:]\r\n",
    "    val_ids = np.setdiff1d(val_ids, train_ids)  # only use those that weren't in the training set for testing\r\n",
    "    if len(val_ids) == 0:\r\n",
    "        continue\r\n",
    "    X_train, y_train = X_processed[train_ids], y[train_ids]\r\n",
    "    X_val, y_val = X_processed[val_ids], y[val_ids]\r\n",
    "    \r\n",
    "    estimator.fit(X_train, y_train.ravel())\r\n",
    "    y_predict = estimator.predict(X_val)\r\n",
    "    y_predicts[i, val_ids] = y_predict"
   ],
   "outputs": [],
   "metadata": {
    "id": "TeLQkkIn7K3S"
   }
  },
  {
   "cell_type": "code",
   "execution_count": 32,
   "source": [
    "y_bias = (y - np.nanmean(y_predicts, axis=0))**2\r\n",
    "y_error = np.nanmean((y.T - y_predicts) **2, axis=0)\r\n",
    "y_var = np.nanvar(y_predicts, axis=0, ddof = 1)\r\n",
    "\r\n",
    "clf_type = \"Random Forest\"\r\n",
    "\r\n",
    "print(\"{0}: {1:.4f} (error) = {2:.4f} (bias^2) \"\r\n",
    "          \"+ {3:.4f} (var)\".format(clf_type, np.nanmean(y_error), np.nanmean(y_bias), np.nanmean(y_var)))\r\n",
    "\r\n",
    "print(\"{0}: {1:.4f} ((bias^2) + (var)) = {2:.4f} (bias^2) \"\r\n",
    "          \"+ {3:.4f} (var)\".format(clf_type, np.mean(y_bias) + np.mean(y_var), np.mean(y_bias), np.mean(y_var)))\r\n"
   ],
   "outputs": [
    {
     "output_type": "stream",
     "name": "stdout",
     "text": [
      "Random Forest: 1.3359 (error) = 1.1741 (bias^2) + 0.2340 (var)\n",
      "Random Forest: 1.4081 ((bias^2) + (var)) = 1.1741 (bias^2) + 0.2340 (var)\n"
     ]
    }
   ],
   "metadata": {
    "colab": {
     "base_uri": "https://localhost:8080/"
    },
    "id": "Nw7EmgFf7K3c",
    "outputId": "2ac19481-5619-4347-d805-c1bcd04fe0e9"
   }
  },
  {
   "cell_type": "code",
   "execution_count": 33,
   "source": [
    "#clf = RandomForestRegressor(n_estimators=1000,max_depth=2)\r\n",
    "clf = BayesianRidge(normalize=True)\r\n",
    "scores = cross_val_score(clf, X_processed, y.ravel(), cv=10, scoring = make_scorer(mse))\r\n",
    "\r\n",
    "dummy_clf = DummyRegressor(strategy='mean')\r\n",
    "dummy_scores = cross_val_score(dummy_clf, X_processed, y.ravel(), cv=10, scoring = make_scorer(mse))\r\n",
    "\r\n",
    "print(\"MSE: %0.8f +/- %0.8f\" % (scores.mean(), scores.std()))\r\n",
    "print(\"Dummy MSE: %0.8f +/- %0.8f\" % (dummy_scores.mean(), dummy_scores.std()))\r\n",
    "\r\n"
   ],
   "outputs": [
    {
     "output_type": "stream",
     "name": "stdout",
     "text": [
      "MSE: 0.99535972 +/- 1.57593890\n",
      "Dummy MSE: 1.01257831 +/- 1.60295050\n"
     ]
    }
   ],
   "metadata": {
    "colab": {
     "base_uri": "https://localhost:8080/"
    },
    "id": "t5JwRH9X7K3n",
    "outputId": "1cbcf11c-00f9-4004-876d-cbe5a6653a8e"
   }
  },
  {
   "cell_type": "markdown",
   "source": [
    "## Classification\n",
    "\n",
    "Let's divide the output of interest into bins, and see if we can do any better"
   ],
   "metadata": {}
  },
  {
   "cell_type": "code",
   "execution_count": 34,
   "source": [
    "outcomes_of_interest = [\"Lifetime Post Consumers\", \"like\"]\r\n",
    "n_bins = 20\r\n",
    "\r\n",
    "y_df = df[outcomes_of_interest].copy()\r\n",
    "y_df[\"like\"], bins = pd.qcut(y_df[\"like\"], n_bins, retbins=True)\r\n",
    "\r\n",
    "outcomesLabelEncoder = LabelEncoder()\r\n",
    "y_df['like'] = y_df['like'].apply(outcomesLabelEncoder.fit_transform)\r\n",
    "\r\n",
    "y_df['id'] = range(1, len(df) + 1)\r\n",
    "\r\n",
    "y_df.head()"
   ],
   "outputs": [
    {
     "output_type": "execute_result",
     "data": {
      "text/plain": [
       "     Lifetime Post Consumers like  id\n",
       "61                       513   12   1\n",
       "13                       134   11   2\n",
       "183                     1956   17   3\n",
       "38                      5202   16   4\n",
       "479                     1078    7   5"
      ],
      "text/html": [
       "<div>\n",
       "<style scoped>\n",
       "    .dataframe tbody tr th:only-of-type {\n",
       "        vertical-align: middle;\n",
       "    }\n",
       "\n",
       "    .dataframe tbody tr th {\n",
       "        vertical-align: top;\n",
       "    }\n",
       "\n",
       "    .dataframe thead th {\n",
       "        text-align: right;\n",
       "    }\n",
       "</style>\n",
       "<table border=\"1\" class=\"dataframe\">\n",
       "  <thead>\n",
       "    <tr style=\"text-align: right;\">\n",
       "      <th></th>\n",
       "      <th>Lifetime Post Consumers</th>\n",
       "      <th>like</th>\n",
       "      <th>id</th>\n",
       "    </tr>\n",
       "  </thead>\n",
       "  <tbody>\n",
       "    <tr>\n",
       "      <th>61</th>\n",
       "      <td>513</td>\n",
       "      <td>12</td>\n",
       "      <td>1</td>\n",
       "    </tr>\n",
       "    <tr>\n",
       "      <th>13</th>\n",
       "      <td>134</td>\n",
       "      <td>11</td>\n",
       "      <td>2</td>\n",
       "    </tr>\n",
       "    <tr>\n",
       "      <th>183</th>\n",
       "      <td>1956</td>\n",
       "      <td>17</td>\n",
       "      <td>3</td>\n",
       "    </tr>\n",
       "    <tr>\n",
       "      <th>38</th>\n",
       "      <td>5202</td>\n",
       "      <td>16</td>\n",
       "      <td>4</td>\n",
       "    </tr>\n",
       "    <tr>\n",
       "      <th>479</th>\n",
       "      <td>1078</td>\n",
       "      <td>7</td>\n",
       "      <td>5</td>\n",
       "    </tr>\n",
       "  </tbody>\n",
       "</table>\n",
       "</div>"
      ]
     },
     "metadata": {},
     "execution_count": 34
    }
   ],
   "metadata": {}
  },
  {
   "cell_type": "code",
   "execution_count": 35,
   "source": [
    "X = X_processed  # Same we used for regression\r\n",
    "y = y_df['like'].values.T"
   ],
   "outputs": [],
   "metadata": {}
  },
  {
   "cell_type": "code",
   "execution_count": 36,
   "source": [
    "_ = sns.histplot(y, kde=False)"
   ],
   "outputs": [
    {
     "output_type": "display_data",
     "data": {
      "text/plain": [
       "<Figure size 432x288 with 1 Axes>"
      ],
      "image/png": "[encoded data removed]"
     },
     "metadata": {
      "needs_background": "light"
     }
    }
   ],
   "metadata": {}
  },
  {
   "cell_type": "code",
   "execution_count": 37,
   "source": [
    "dummy_clf = DummyClassifier(strategy='stratified')\r\n",
    "dummy_clf.fit(X_processed, y)\r\n",
    "print(\"Dummy ACC: %.2f\" % acc(y, dummy_clf.predict(X_processed)))"
   ],
   "outputs": [
    {
     "output_type": "stream",
     "name": "stdout",
     "text": [
      "Dummy ACC: 0.05\n"
     ]
    }
   ],
   "metadata": {}
  },
  {
   "cell_type": "code",
   "execution_count": 38,
   "source": [
    "clf = ExtraTreesClassifier(n_estimators=1000, max_depth=4)\r\n",
    "scores = cross_val_score(clf, X_processed, y, cv=10, scoring=make_scorer(acc))  # cross-validation\r\n",
    "print(\"ACC: %.2f +/- %.2f\" % (scores.mean(), scores.std()))"
   ],
   "outputs": [
    {
     "output_type": "stream",
     "name": "stdout",
     "text": [
      "ACC: 0.08 +/- 0.02\n"
     ]
    }
   ],
   "metadata": {}
  },
  {
   "cell_type": "code",
   "execution_count": 39,
   "source": [
    "# Fit the model\r\n",
    "clf.fit(X_processed, y)\r\n",
    "\r\n",
    "# Let's see the feature importances for our classifier\r\n",
    "importances = clf.feature_importances_\r\n",
    "std = np.std([tree.feature_importances_ for tree in clf.estimators_],\r\n",
    "             axis=0)\r\n",
    "indices = np.argsort(importances)[::-1]\r\n",
    "print(indices)\r\n",
    "# Let's get the attibute names:\r\n",
    "extra_attribs = ['Post Month', 'Post Hour', 'Post Weekday', 'Paid']  # the ones we didn't modify in the transformer\r\n",
    "cat_encoder = colTransformer.named_transformers_['cat']\r\n",
    "cat_oho_attributes = oho_categories = [item for sublist in cat_encoder.categories_ for item in sublist]\r\n",
    "feat_names = num_features + cat_oho_attributes + extra_attribs\r\n",
    "\r\n",
    "# Print the feature ranking\r\n",
    "print(\"Feature ranking:\")\r\n",
    "for f in range(X_processed.shape[1]):\r\n",
    "    print(\"%d. %s (%f)\" % (f + 1, feat_names[indices[f]],  importances[indices[f]]))\r\n",
    "\r\n",
    "# Plot the feature importances of the forest\r\n",
    "fig = plt.figure()\r\n",
    "plt.title(\"Feature importances\")\r\n",
    "plt.bar(range(X.shape[1]), importances[indices], color=\"r\", yerr=std[indices], align=\"center\")\r\n",
    "plt.xticks(range(X.shape[1]), np.array(feat_names)[indices])\r\n",
    "plt.xlim([-1, X.shape[1]])\r\n",
    "plt.ylim([0, None])\r\n",
    "\r\n",
    "fig.set_size_inches(15, 8)\r\n"
   ],
   "outputs": [
    {
     "output_type": "stream",
     "name": "stdout",
     "text": [
      "[10  1  0  8  4  9  3  5  6 11  2  7]\n",
      "Feature ranking:\n",
      "1. Post Weekday (0.136750)\n",
      "2. 1 (0.135680)\n",
      "3. Page total likes (0.111541)\n",
      "4. Post Month (0.105807)\n",
      "5. Link (0.098144)\n",
      "6. Post Hour (0.097394)\n",
      "7. 3 (0.065486)\n",
      "8. Photo (0.063199)\n",
      "9. Status (0.063026)\n",
      "10. Paid (0.059037)\n",
      "11. 2 (0.042752)\n",
      "12. Video (0.021185)\n"
     ]
    },
    {
     "output_type": "display_data",
     "data": {
      "text/plain": [
       "<Figure size 1080x576 with 1 Axes>"
      ],
      "image/png": "[encoded data removed]"
     },
     "metadata": {
      "needs_background": "light"
     }
    }
   ],
   "metadata": {}
  },
  {
   "cell_type": "markdown",
   "source": [
    "Now we could try dropping some of the less useful features, or check the errors made by our system. Let's check the confusion matrix."
   ],
   "metadata": {}
  },
  {
   "cell_type": "code",
   "execution_count": 40,
   "source": [
    "# Get prediction on the test set\r\n",
    "# Remember we need to do the same operations we did for the training test!\r\n",
    "df_test = test_set.copy()\r\n",
    "print('Size of test set: %d' % len(df_test))\r\n",
    "# Drop rows with nans\r\n",
    "df_test = df_test.dropna()\r\n",
    "print(\"Number of rows after dropping NaNs: %d\" % len(df_test))"
   ],
   "outputs": [
    {
     "output_type": "stream",
     "name": "stdout",
     "text": [
      "Size of test set: 100\n",
      "Number of rows after dropping NaNs: 99\n"
     ]
    }
   ],
   "metadata": {}
  },
  {
   "cell_type": "code",
   "execution_count": 41,
   "source": [
    "# Separate features from outcomes\r\n",
    "y_test_df = df_test[outcomes_of_interest].copy()\r\n",
    "X_test_df = df_test[features].copy()\r\n",
    "# Transform features\r\n",
    "X_test = colTransformer.transform(X_test_df)\r\n",
    "assert X_test.shape[1] == X_processed.shape[1]  # same number of features"
   ],
   "outputs": [],
   "metadata": {}
  },
  {
   "cell_type": "code",
   "execution_count": 42,
   "source": [
    "# Make y into categories\r\n",
    "y_test_df['like'] = pd.cut(y_test_df['like'], bins=bins, include_lowest=True)  # the bins previously returned by pd.qcut()\r\n",
    "y_test_df['like'] = outcomesLabelEncoder.transform(y_test_df['like'])\r\n",
    "y_test = y_test_df.values.T[1]  # lifetime post consumers"
   ],
   "outputs": [],
   "metadata": {}
  },
  {
   "cell_type": "code",
   "execution_count": 43,
   "source": [
    "# Predict\r\n",
    "test_predictions = clf.predict(X_test)\r\n",
    "# What's the accuracy on the test set?\r\n",
    "acc(y_test, test_predictions)"
   ],
   "outputs": [
    {
     "output_type": "execute_result",
     "data": {
      "text/plain": [
       "0.08080808080808081"
      ]
     },
     "metadata": {},
     "execution_count": 43
    }
   ],
   "metadata": {}
  },
  {
   "cell_type": "code",
   "execution_count": 44,
   "source": [
    "def plot_confusion_matrix(cm, classes,\r\n",
    "                          normalize=True,\r\n",
    "                          title='Confusion matrix',\r\n",
    "                          cmap=plt.cm.Blues):\r\n",
    "    \"\"\"\r\n",
    "    This function prints and plots the confusion matrix.\r\n",
    "    Normalization can be applied by setting `normalize=True`.\r\n",
    "    \"\"\"\r\n",
    "    if normalize:\r\n",
    "        cm = cm.astype('float') / cm.sum(axis=1)[:, np.newaxis]\r\n",
    "        print(\"Normalized confusion matrix\")\r\n",
    "    else:\r\n",
    "        print('Confusion matrix, without normalization')\r\n",
    "    plt.imshow(cm, interpolation='nearest', cmap=cmap)\r\n",
    "    plt.title(title)\r\n",
    "    plt.colorbar()\r\n",
    "    tick_marks = np.arange(len(classes))\r\n",
    "    plt.xticks(tick_marks, classes, rotation=45)\r\n",
    "    plt.yticks(tick_marks, classes)\r\n",
    "    thresh = cm.max() / 2.\r\n",
    "    for i, j in itertools.product(range(cm.shape[0]), range(cm.shape[1])):\r\n",
    "        t = \"(%.2f)\"%(cm[i, j])\r\n",
    "    plt.tight_layout()\r\n",
    "    plt.ylabel('True label')\r\n",
    "    plt.xlabel('Predicted label')\r\n"
   ],
   "outputs": [],
   "metadata": {}
  },
  {
   "cell_type": "code",
   "execution_count": 45,
   "source": [
    "c = confusion_matrix(y_test, test_predictions)\r\n",
    "plot_confusion_matrix(c, outcomesLabelEncoder.classes_)"
   ],
   "outputs": [
    {
     "output_type": "stream",
     "name": "stdout",
     "text": [
      "Normalized confusion matrix\n"
     ]
    },
    {
     "output_type": "display_data",
     "data": {
      "text/plain": [
       "<Figure size 432x288 with 2 Axes>"
      ],
      "image/png": "[encoded data removed]"
     },
     "metadata": {
      "needs_background": "light"
     }
    }
   ],
   "metadata": {}
  },
  {
   "cell_type": "markdown",
   "source": [
    "A good classifier would have high values (i.e., dark blue) on the main diagonal, and low (i.e., light) values elsewhere. In this case, we are not observing that! The accuracy was very low (8%, which is just marginally better than random), so the fact that the results are so bad as seen on the confusion matrix makes sense."
   ],
   "metadata": {}
  },
  {
   "cell_type": "code",
   "execution_count": null,
   "source": [],
   "outputs": [],
   "metadata": {}
  }
 ],
 "metadata": {
  "colab": {
   "include_colab_link": true,
   "name": "facebook_regression_ana.ipynb",
   "provenance": []
  },
  "kernelspec": {
   "name": "python3",
   "display_name": "Python 3.9.6 64-bit"
  },
  "language_info": {
   "codemirror_mode": {
    "name": "ipython",
    "version": 3
   },
   "file_extension": ".py",
   "mimetype": "text/x-python",
   "name": "python",
   "nbconvert_exporter": "python",
   "pygments_lexer": "ipython3",
   "version": "3.9.6"
  },
  "interpreter": {
   "hash": "ca585555a2867b459a38eaf8b2b47956aef7a6f770e52f1f5dfa1f8f05e57688"
  }
 },
 "nbformat": 4,
 "nbformat_minor": 1
}