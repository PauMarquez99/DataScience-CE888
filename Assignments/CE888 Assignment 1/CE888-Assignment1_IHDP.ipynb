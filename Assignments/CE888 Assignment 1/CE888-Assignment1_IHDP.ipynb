{
 "cells": [
  {
   "cell_type": "markdown",
   "metadata": {},
   "source": [
    "# IHDP Data"
   ]
  },
  {
   "cell_type": "markdown",
   "metadata": {},
   "source": [
    "Import of all needed libraries, numpy, pandas, matplot, sckitlearn, some will be used further on. "
   ]
  },
  {
   "cell_type": "code",
   "execution_count": 34,
   "metadata": {},
   "outputs": [],
   "source": [
    "import numpy as np\n",
    "import matplotlib.pyplot as plt"
   ]
  },
  {
   "cell_type": "markdown",
   "metadata": {},
   "source": [
    "Data import and structure checking, we are able to see that the characteristics \"x\", we have treatment \"t\", the outcome \"yf\" and counter \"ycf\" and the indivudial treatment effect \"ite\"."
   ]
  },
  {
   "cell_type": "code",
   "execution_count": 35,
   "metadata": {},
   "outputs": [
    {
     "data": {
      "text/plain": [
       "['x', 't', 'yf', 'ycf', 'ite']"
      ]
     },
     "execution_count": 35,
     "metadata": {},
     "output_type": "execute_result"
    }
   ],
   "source": [
    "df = np.load(\"D:\\Documents\\CARRERA\\Essex\\DataScience-CE888\\Assignments\\CE888 Assignment 1\\ihdp.npz\")\n",
    "\n",
    "df.files"
   ]
  },
  {
   "cell_type": "markdown",
   "metadata": {},
   "source": [
    "Check for missing values and the shape of the dataframe. There are the 29 columns, the 5 mentioned above, in which \"x\" is an array of 25x747, meaning there are 25 background variables. Each column contains 747 rows of data, including the labels. Also we noticed there are no missing values in any column."
   ]
  },
  {
   "cell_type": "code",
   "execution_count": 36,
   "metadata": {},
   "outputs": [
    {
     "name": "stdout",
     "output_type": "stream",
     "text": [
      "x: (747, 25)\n",
      "t: (747, 1)\n",
      "yf: (747, 1)\n",
      "ycf: (747, 1)\n",
      "ite: (747, 1)\n"
     ]
    }
   ],
   "source": [
    "for data in df.files:\n",
    "  print(f'{data}: {df[data].shape}')"
   ]
  },
  {
   "cell_type": "markdown",
   "metadata": {},
   "source": [
    "As we can see our background features \"x\" are divided in 25 columns, which will be merged for a better analysis when visualizing the data. There is also noticeable that this dataset contains the outcome factuals and counterfactuals, which tells us it has simulated outcomes (since it is not common to have both, as we can not go back in time). And instead of the effect, we are given the _Individual Treatment Effect_."
   ]
  },
  {
   "cell_type": "code",
   "execution_count": 37,
   "metadata": {},
   "outputs": [],
   "source": [
    "X = df['x'].reshape(-1, 1)\n",
    "T = df['t'].reshape(-1, 1)\n",
    "Yf = df['yf'].reshape(-1, 1)\n",
    "Ycf = df['ycf'].reshape(-1, 1)\n",
    "ite = df['ite']"
   ]
  },
  {
   "cell_type": "markdown",
   "metadata": {},
   "source": [
    "To have a better understandment of the behaviour of the data, we will plot it's histograms."
   ]
  },
  {
   "cell_type": "code",
   "execution_count": 38,
   "metadata": {},
   "outputs": [
    {
     "data": {
      "image/png": "[encoded data removed]",
      "text/plain": [
       "<Figure size 1152x360 with 5 Axes>"
      ]
     },
     "metadata": {
      "needs_background": "light"
     },
     "output_type": "display_data"
    }
   ],
   "source": [
    "bins=20\n",
    "fig, axs = plt.subplots(1, 5, figsize=(16, 5))\n",
    "axs[0].hist(X, bins=bins)\n",
    "axs[1].hist(T, bins=bins)\n",
    "axs[2].hist(Yf, bins=bins)\n",
    "axs[3].hist(Ycf, bins=bins)\n",
    "axs[4].hist(ite, bins=bins)\n",
    "plt.show()"
   ]
  },
  {
   "cell_type": "code",
   "execution_count": 39,
   "metadata": {},
   "outputs": [
    {
     "name": "stdout",
     "output_type": "stream",
     "text": [
      "Amount of 0 in T:  608\n",
      "Amount of 1 in T:  139\n"
     ]
    }
   ],
   "source": [
    "print(\"Amount of 0 in T: \", np.count_nonzero(df['t'] == 0))\n",
    "print(\"Amount of 1 in T: \", np.count_nonzero(df['t'] == 1))"
   ]
  },
  {
   "cell_type": "markdown",
   "metadata": {},
   "source": [
    "As seen above one of the first things that come to mind are the difference in T.  Having a count of values we are able to see that the data for treatment is not balanced, having **81.39 %** _not treated_ and the remaining **18.61 %** _is_.\n",
    "\n",
    "While the *ITE* is clearly skewed to the left, as *Ycf* is and therefore expecting that *Yf* skewes to the right."
   ]
  },
  {
   "cell_type": "code",
   "execution_count": 40,
   "metadata": {},
   "outputs": [
    {
     "data": {
      "image/png": "[encoded data removed]",
      "text/latex": [
       "$\\displaystyle 4.01606689611834$"
      ],
      "text/plain": [
       "4.016066896118338"
      ]
     },
     "execution_count": 40,
     "metadata": {},
     "output_type": "execute_result"
    }
   ],
   "source": [
    "np.mean(ite)"
   ]
  },
  {
   "cell_type": "markdown",
   "metadata": {},
   "source": [
    "Due to the skewness of *ITE* we find that as expected the *ATE* is **4.016**."
   ]
  }
 ],
 "metadata": {
  "interpreter": {
   "hash": "3502889fa9b372ad57c6bf0e11db6d9355b376003185b5fb5675df1a3af13493"
  },
  "kernelspec": {
   "display_name": "Python 3.8.3 64-bit",
   "language": "python",
   "name": "python3"
  },
  "language_info": {
   "codemirror_mode": {
    "name": "ipython",
    "version": 3
   },
   "file_extension": ".py",
   "mimetype": "text/x-python",
   "name": "python",
   "nbconvert_exporter": "python",
   "pygments_lexer": "ipython3",
   "version": "3.8.3"
  },
  "orig_nbformat": 4
 },
 "nbformat": 4,
 "nbformat_minor": 2
}
