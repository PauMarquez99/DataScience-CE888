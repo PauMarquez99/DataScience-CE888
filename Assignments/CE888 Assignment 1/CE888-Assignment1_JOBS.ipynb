{
 "cells": [
  {
   "cell_type": "markdown",
   "metadata": {},
   "source": [
    "# JOBS Data"
   ]
  },
  {
   "cell_type": "markdown",
   "metadata": {},
   "source": [
    "Import of all needed libraries, numpy, pandas, matplot, sckitlearn, some will be used further on. "
   ]
  },
  {
   "cell_type": "code",
   "execution_count": 1,
   "metadata": {},
   "outputs": [],
   "source": [
    "import numpy as np\n",
    "import pandas as pd\n",
    "import seaborn as sns\n",
    "import matplotlib.pyplot as plt"
   ]
  },
  {
   "cell_type": "markdown",
   "metadata": {},
   "source": [
    "Data import and structure checking, we can see that we have background variables \"x\", treatment \"t\", outcome \"y\", and effect \"e\"."
   ]
  },
  {
   "cell_type": "code",
   "execution_count": 2,
   "metadata": {},
   "outputs": [
    {
     "data": {
      "text/plain": [
       "['x', 't', 'y', 'e']"
      ]
     },
     "execution_count": 2,
     "metadata": {},
     "output_type": "execute_result"
    }
   ],
   "source": [
    "df = np.load(\"D:\\Documents\\CARRERA\\Essex\\DataScience-CE888\\Assignments\\CE888 Assignment 1\\jobs.npz\")\n",
    "\n",
    "df.files"
   ]
  },
  {
   "cell_type": "markdown",
   "metadata": {},
   "source": [
    "Quick check of missing values and shape. We are able to see that there are 3212 rows, and in \"x\" we notice is is a array of 17x3212, meaning there are 17 background features, while we also have those mentioned above including the labels and there are no missing values in the dataset."
   ]
  },
  {
   "cell_type": "code",
   "execution_count": 3,
   "metadata": {},
   "outputs": [
    {
     "name": "stdout",
     "output_type": "stream",
     "text": [
      "x: (3212, 17)\n",
      "t: (3212, 1)\n",
      "y: (3212, 1)\n",
      "e: (3212, 1)\n"
     ]
    }
   ],
   "source": [
    "for data in df.files:\n",
    "  print(f'{data}: {df[data].shape}')"
   ]
  },
  {
   "cell_type": "markdown",
   "metadata": {},
   "source": [
    "In this dataset we are able to see that it is closer to reality, as we don't have any counterfactuals, just the outcome, which happens to those datasets that are either purely observational or mixed with _Randomized Controlled Trials_. "
   ]
  },
  {
   "cell_type": "code",
   "execution_count": 13,
   "metadata": {},
   "outputs": [],
   "source": [
    "X = df['x'].T\n",
    "T = df['t'].reshape(-1, 1)\n",
    "Y = df['y'].reshape(-1, 1)\n",
    "e = df['e']"
   ]
  },
  {
   "cell_type": "code",
   "execution_count": 5,
   "metadata": {},
   "outputs": [
    {
     "name": "stdout",
     "output_type": "stream",
     "text": [
      "x: (3212, 17)\n",
      "t: (3212, 1)\n",
      "y: (3212, 1)\n",
      "e: (3212, 1)\n"
     ]
    }
   ],
   "source": [
    "for data in df.files:\n",
    "  print(f'{data}: {df[data].shape}')"
   ]
  },
  {
   "cell_type": "markdown",
   "metadata": {},
   "source": [
    "To have a better understandment of the behaviour of the data, we will plot it's histograms."
   ]
  },
  {
   "cell_type": "code",
   "execution_count": 6,
   "metadata": {},
   "outputs": [
    {
     "data": {
      "image/png": "[encoded data removed]",
      "text/plain": [
       "<Figure size 1152x288 with 4 Axes>"
      ]
     },
     "metadata": {
      "needs_background": "light"
     },
     "output_type": "display_data"
    }
   ],
   "source": [
    "bins=20\n",
    "fig, axs = plt.subplots(1, 4, figsize=(16, 4))\n",
    "axs[0].hist(X, bins=bins)\n",
    "axs[1].hist(T, bins=bins)\n",
    "axs[2].hist(Y, bins=bins)\n",
    "axs[3].hist(e, bins=bins)\n",
    "plt.show()"
   ]
  },
  {
   "cell_type": "code",
   "execution_count": 7,
   "metadata": {},
   "outputs": [
    {
     "name": "stdout",
     "output_type": "stream",
     "text": [
      "Amount of 0 in T:  2915\n",
      "Amount of 1 in T:  297\n"
     ]
    }
   ],
   "source": [
    "print(\"Amount of 0 in T: \", np.count_nonzero(df['t'] == 0))\n",
    "print(\"Amount of 1 in T: \", np.count_nonzero(df['t'] == 1))"
   ]
  },
  {
   "cell_type": "code",
   "execution_count": 8,
   "metadata": {},
   "outputs": [
    {
     "name": "stdout",
     "output_type": "stream",
     "text": [
      "Amount of 0 in Y:  482\n",
      "Amount of 1 in Y:  2730\n"
     ]
    }
   ],
   "source": [
    "print(\"Amount of 0 in Y: \", np.count_nonzero(df['y'] == 0))\n",
    "print(\"Amount of 1 in Y: \", np.count_nonzero(df['y'] == 1))"
   ]
  },
  {
   "cell_type": "code",
   "execution_count": 9,
   "metadata": {},
   "outputs": [
    {
     "name": "stdout",
     "output_type": "stream",
     "text": [
      "Amount of 0 in e:  2490\n",
      "Amount of 1 in e:  722\n"
     ]
    }
   ],
   "source": [
    "print(\"Amount of 0 in e: \", np.count_nonzero(df['e'] == 0))\n",
    "print(\"Amount of 1 in e: \", np.count_nonzero(df['e'] == 1))"
   ]
  },
  {
   "cell_type": "markdown",
   "metadata": {},
   "source": [
    "In this case we are able to see that the \"T\", \"Y\" and \"e\" have a binary behaviour, and while it is noticeable using the variables histograms, a count was also printed to visualize in another way the differences in all 3 aspects. And further on we can establish that neither X nor Y follow a normal distribution."
   ]
  }
 ],
 "metadata": {
  "interpreter": {
   "hash": "3502889fa9b372ad57c6bf0e11db6d9355b376003185b5fb5675df1a3af13493"
  },
  "kernelspec": {
   "display_name": "Python 3.8.3 64-bit",
   "language": "python",
   "name": "python3"
  },
  "language_info": {
   "codemirror_mode": {
    "name": "ipython",
    "version": 3
   },
   "file_extension": ".py",
   "mimetype": "text/x-python",
   "name": "python",
   "nbconvert_exporter": "python",
   "pygments_lexer": "ipython3",
   "version": "3.8.3"
  },
  "orig_nbformat": 4
 },
 "nbformat": 4,
 "nbformat_minor": 2
}
