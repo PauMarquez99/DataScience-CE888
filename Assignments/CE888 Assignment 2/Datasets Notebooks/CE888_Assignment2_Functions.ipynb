{
  "nbformat": 4,
  "nbformat_minor": 0,
  "metadata": {
    "colab": {
      "name": "CE888-Assignment2_Functions",
      "provenance": [],
      "authorship_tag": "ABX9TyNiHVcRFKiRn7ONVVx2Wj03",
      "include_colab_link": true
    },
    "kernelspec": {
      "name": "python3",
      "display_name": "Python 3"
    },
    "language_info": {
      "name": "python"
    }
  },
  "cells": [
    {
      "cell_type": "markdown",
      "metadata": {
        "id": "view-in-github",
        "colab_type": "text"
      },
      "source": [
        "<a href=\"https://colab.research.google.com/github/PauMarquez99/DataScience-CE888/blob/Assignment2/Assignments/CE888%20Assignment%202/Datasets%20Notebooks/CE888_Assignment2_Functions.ipynb\" target=\"_parent\"><img src=\"https://colab.research.google.com/assets/colab-badge.svg\" alt=\"Open In Colab\"/></a>"
      ]
    },
    {
      "cell_type": "code",
      "execution_count": null,
      "metadata": {
        "id": "Zpcda7VYWiHA"
      },
      "outputs": [],
      "source": [
        "def abs_ate(effect_true, effect_pred):\n",
        "    \"\"\"\n",
        "    Absolute error for the Average Treatment Effect (ATE)\n",
        "    :param effect_true: true treatment effect value\n",
        "    :param effect_pred: predicted treatment effect value\n",
        "    :return: absolute error on ATE\n",
        "    \"\"\"\n",
        "    return abs(np.mean(effect_pred) - np.mean(effect_true))\n",
        "\n",
        "\n",
        "def pehe(effect_true, effect_pred):\n",
        "    \"\"\"\n",
        "    Precision in Estimating the Heterogeneous Treatment Effect (PEHE)\n",
        "    :param effect_true: true treatment effect value\n",
        "    :param effect_pred: predicted treatment effect value\n",
        "    :return: PEHE\n",
        "    \"\"\"\n",
        "    return np.sqrt(np.mean(np.power((np.array(effect_true)-np.array(effect_pred)),2)))\n"
      ]
    }
  ]
}