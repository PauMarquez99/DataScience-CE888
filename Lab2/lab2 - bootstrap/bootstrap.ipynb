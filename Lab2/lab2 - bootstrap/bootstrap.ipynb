{
  "nbformat": 4,
  "nbformat_minor": 2,
  "metadata": {
    "colab": {
      "name": "bootstrap.ipynb",
      "provenance": [],
      "include_colab_link": true
    },
    "kernelspec": {
      "name": "python3",
      "display_name": "Python 3.8.8 64-bit (conda)"
    },
    "language_info": {
      "codemirror_mode": {
        "name": "ipython",
        "version": 3
      },
      "file_extension": ".py",
      "mimetype": "text/x-python",
      "name": "python",
      "nbconvert_exporter": "python",
      "pygments_lexer": "ipython3",
      "version": "3.8.8"
    },
    "pycharm": {
      "stem_cell": {
        "cell_type": "raw",
        "metadata": {
          "collapsed": false
        },
        "source": []
      }
    },
    "interpreter": {
      "hash": "b3ba2566441a7c06988d0923437866b63cedc61552a5af99d1f4fb67d367b25f"
    }
  },
  "cells": [
    {
      "cell_type": "markdown",
      "source": [
        "<a href=\"https://colab.research.google.com/github/albanda/CE888/blob/master/lab2%20-%20bootstrap/bootstrap.ipynb\" target=\"_parent\"><img src=\"https://colab.research.google.com/assets/colab-badge.svg\" alt=\"Open In Colab\"/></a>"
      ],
      "metadata": {
        "id": "view-in-github",
        "colab_type": "text"
      }
    },
    {
      "cell_type": "markdown",
      "source": [
        "In this notebook you'll create your own bootstrap function following the bootstrap algorithm (check the lecture notes!)"
      ],
      "metadata": {
        "id": "nCi_99yMYIb1"
      }
    },
    {
      "cell_type": "code",
      "execution_count": 2,
      "source": [
        "import matplotlib\r\n",
        "import pandas as pd\r\n",
        "import seaborn as sns\r\n",
        "import numpy as np\r\n",
        "\r\n"
      ],
      "outputs": [],
      "metadata": {
        "id": "LY5zujI2YC37",
        "pycharm": {
          "name": "#%%# Imports\n"
        }
      }
    },
    {
      "cell_type": "code",
      "execution_count": 3,
      "source": [
        "# Load the data\r\n",
        "df = pd.read_csv('https://raw.githubusercontent.com/albanda/CE888/master/lab2%20-%20bootstrap/customers.csv')\r\n",
        "data = df.values.T[1]"
      ],
      "outputs": [],
      "metadata": {
        "id": "Eqkwj4SMY38t"
      }
    },
    {
      "cell_type": "code",
      "execution_count": 4,
      "source": [
        "# Checking the notes from the lecture, create here your own bootstrap function:\r\n",
        "# 1. Sample from the input array x to create an array of samples of shape (n_bootstraps, sample_size)\r\n",
        "# Hint: Check the function random.choice() on Numpy\r\n",
        "# 2. Calculate and save the mean of the array (this is \"data_mean\" that is returned by the function)\r\n",
        "# 3. Calculate the mean from each bootstrap (i.e., row) and store it.\r\n",
        "# (This should be an array of n_bootstraps values)\r\n",
        "# 4. Calculate the lower and upper bounds for a 95% CI (hint: check the percentile function on Numpy)\r\n",
        "# 5. Return data_mean, and the lower and upper bounds of your interval\r\n",
        "def bootstrap_mean(x, sample_size, n_bootstraps):\r\n",
        "\r\n",
        "\tbootstraps = np.random.choice(x, (n_bootstraps, sample_size))\r\n",
        "\t\r\n",
        "\tdata_mean = np.mean(bootstraps)\r\n",
        "\r\n",
        "\tbMeans = np.mean(bootstraps, axis=1)\r\n",
        "\tbMeans = np.sort(bMeans)\r\n",
        "\t\r\n",
        "\tlower = np.percentile(bMeans, 2.5)\r\n",
        "\tupper = np.percentile(bMeans, 97.5)\r\n",
        "\t \r\n",
        "\t# <---INSERT YOUR CODE HERE--->\r\n",
        "\treturn data_mean, lower, upper\r\n"
      ],
      "outputs": [],
      "metadata": {
        "id": "Gxvc_bScYC4H",
        "pycharm": {
          "name": "#%%\n"
        }
      }
    },
    {
      "cell_type": "code",
      "execution_count": 5,
      "source": [
        "# Call your bootstrap function and plot the results\r\n",
        "\r\n",
        "boots = []\r\n",
        "for i in range(100, 50000, 1000):\r\n",
        "    boot = bootstrap_mean(data, data.shape[0], i)\r\n",
        "    boots.append([i, boot[0], \"mean\"])\r\n",
        "    boots.append([i, boot[1], \"lower\"])\r\n",
        "    boots.append([i, boot[2], \"upper\"])\r\n",
        "\r\n",
        "df_boot = pd.DataFrame(boots, columns=['Bootstrap Iterations', 'Mean', \"Value\"])\r\n",
        "sns_plot = sns.lmplot(df_boot.columns[0], df_boot.columns[1], data=df_boot, fit_reg=False, hue=\"Value\")\r\n",
        "\r\n",
        "sns_plot.axes[0, 0].set_ylim(0,)\r\n",
        "sns_plot.axes[0, 0].set_xlim(0, 50000)\r\n"
      ],
      "outputs": [
        {
          "output_type": "stream",
          "name": "stderr",
          "text": [
            "C:\\ProgramData\\Anaconda3\\lib\\site-packages\\seaborn\\_decorators.py:36: FutureWarning: Pass the following variables as keyword args: x, y. From version 0.12, the only valid positional argument will be `data`, and passing other arguments without an explicit keyword will result in an error or misinterpretation.\n",
            "  warnings.warn(\n"
          ]
        },
        {
          "output_type": "execute_result",
          "data": {
            "text/plain": [
              "(0.0, 50000.0)"
            ]
          },
          "metadata": {},
          "execution_count": 5
        },
        {
          "output_type": "display_data",
          "data": {
            "text/plain": [
              "<Figure size 425.125x360 with 1 Axes>"
            ],
            "image/png": "[encoded data removed]"
          },
          "metadata": {
            "needs_background": "light"
          }
        }
      ],
      "metadata": {
        "id": "AN7sEOcMYC4P",
        "pycharm": {
          "name": "#%%\n"
        }
      }
    },
    {
      "cell_type": "markdown",
      "source": [
        "\n",
        "Now, modify the bootstrap function you created above so that you can pass your desired confidence interval as a parameter.\n",
        "\n"
      ],
      "metadata": {
        "id": "MjtP4e2_YC4V"
      }
    },
    {
      "cell_type": "code",
      "execution_count": 6,
      "source": [
        "def bootstrap_mean_ci(sample, sample_size, n_bootstraps, ci):\r\n",
        "\r\n",
        "\tbootstraps = np.random.choice(sample, (n_bootstraps, sample_size))\r\n",
        "\t\r\n",
        "\tdata_mean = np.mean(bootstraps)\r\n",
        "\r\n",
        "\tbMeans = np.mean(bootstraps, axis=1)\r\n",
        "\tbMeans = np.sort(bMeans)\r\n",
        "\tciValue = (100-ci)/2\r\n",
        "\tlower = np.percentile(bMeans, ciValue)\r\n",
        "\tupper = np.percentile(bMeans, ci+ciValue)\r\n",
        "\t \r\n",
        "\t# <---INSERT YOUR CODE HERE--->\r\n",
        "\treturn data_mean, lower, upper"
      ],
      "outputs": [],
      "metadata": {
        "id": "3K9j0FuGYhHs"
      }
    },
    {
      "cell_type": "code",
      "execution_count": 7,
      "source": [
        "boots = []\r\n",
        "for i in range(100, 50000, 1000):\r\n",
        "    boot = bootstrap_mean_ci(data, data.shape[0], i, 80)\r\n",
        "    boots.append([i, boot[0], \"mean\"])\r\n",
        "    boots.append([i, boot[1], \"lower\"])\r\n",
        "    boots.append([i, boot[2], \"upper\"])\r\n",
        "\r\n",
        "df_boot = pd.DataFrame(boots, columns=['Boostrap Iterations', 'Mean', \"Value\"])\r\n",
        "sns_plot = sns.lmplot(df_boot.columns[0], df_boot.columns[1], data=df_boot, fit_reg=False, hue=\"Value\")\r\n",
        "\r\n",
        "sns_plot.axes[0, 0].set_ylim(0,)\r\n",
        "sns_plot.axes[0, 0].set_xlim(0, 50000)\r\n",
        "\r\n",
        "#sns_plot.savefig(\"bootstrap_confidence_80.pdf\", bbox_inches='tight')\r\n"
      ],
      "outputs": [
        {
          "output_type": "stream",
          "name": "stderr",
          "text": [
            "C:\\ProgramData\\Anaconda3\\lib\\site-packages\\seaborn\\_decorators.py:36: FutureWarning: Pass the following variables as keyword args: x, y. From version 0.12, the only valid positional argument will be `data`, and passing other arguments without an explicit keyword will result in an error or misinterpretation.\n",
            "  warnings.warn(\n"
          ]
        },
        {
          "output_type": "execute_result",
          "data": {
            "text/plain": [
              "(0.0, 50000.0)"
            ]
          },
          "metadata": {},
          "execution_count": 7
        },
        {
          "output_type": "display_data",
          "data": {
            "text/plain": [
              "<Figure size 425.125x360 with 1 Axes>"
            ],
            "image/png": "[encoded data removed]"
          },
          "metadata": {
            "needs_background": "light"
          }
        }
      ],
      "metadata": {
        "id": "uDnjq08GYl-C"
      }
    },
    {
      "cell_type": "markdown",
      "source": [
        "# Vehicles dataset\n",
        "\n",
        "Now let's work on a different dataset, which is stored in the vehicles.csv file.\n"
      ],
      "metadata": {
        "id": "qjNgXW6wdd7r"
      }
    },
    {
      "cell_type": "code",
      "execution_count": 43,
      "source": [
        "# Load and visualise the vehicles dataset\r\n",
        "# To load the dataset: https://neptune.ai/blog/google-colab-dealing-with-files (check section \"Load individual files directly from GitHub\")\r\n",
        "# Note that the current and new fleets are in different columns and have different lengths, so bear this in mind when you're plotting.\r\n",
        "df = pd.read_csv('vehicles.csv ')\r\n",
        "\r\n",
        "\r\n",
        "# You can create separate scatterplots for the two fleets, as you would with the histograms, \r\n",
        "# or plot them both in one plot (but not one against the other).\r\n",
        "print(df.columns)\r\n",
        "\r\n",
        "data = df['Current fleet'].values\r\n",
        "data2 = df['New Fleet'].values\r\n",
        "#sns.lmplot(data, , data=df, fit_reg=False)\r\n",
        "\r\n",
        "sns.distplot(data, bins=20, kde=False, rug=True)\r\n",
        "sns.distplot(data2, bins=20, kde=False, rug=True)\r\n",
        "\r\n",
        "# <---INSERT YOUR CODE HERE--->\r\n",
        "# Note: you can add more cells as needed to organise your code and your plots\r\n",
        "\r\n",
        "df.head(10)"
      ],
      "outputs": [
        {
          "output_type": "stream",
          "name": "stdout",
          "text": [
            "Index(['Current fleet', 'New Fleet'], dtype='object')\n"
          ]
        },
        {
          "output_type": "stream",
          "name": "stderr",
          "text": [
            "C:\\ProgramData\\Anaconda3\\lib\\site-packages\\seaborn\\distributions.py:2557: FutureWarning: `distplot` is a deprecated function and will be removed in a future version. Please adapt your code to use either `displot` (a figure-level function with similar flexibility) or `histplot` (an axes-level function for histograms).\n",
            "  warnings.warn(msg, FutureWarning)\n",
            "C:\\ProgramData\\Anaconda3\\lib\\site-packages\\seaborn\\distributions.py:2056: FutureWarning: The `axis` variable is no longer used and will be removed. Instead, assign variables directly to `x` or `y`.\n",
            "  warnings.warn(msg, FutureWarning)\n",
            "C:\\ProgramData\\Anaconda3\\lib\\site-packages\\seaborn\\distributions.py:2557: FutureWarning: `distplot` is a deprecated function and will be removed in a future version. Please adapt your code to use either `displot` (a figure-level function with similar flexibility) or `histplot` (an axes-level function for histograms).\n",
            "  warnings.warn(msg, FutureWarning)\n",
            "C:\\ProgramData\\Anaconda3\\lib\\site-packages\\seaborn\\distributions.py:2056: FutureWarning: The `axis` variable is no longer used and will be removed. Instead, assign variables directly to `x` or `y`.\n",
            "  warnings.warn(msg, FutureWarning)\n"
          ]
        },
        {
          "output_type": "execute_result",
          "data": {
            "text/plain": [
              "   Current fleet  New Fleet\n",
              "0             18       24.0\n",
              "1             15       27.0\n",
              "2             18       27.0\n",
              "3             16       25.0\n",
              "4             17       31.0\n",
              "5             15       35.0\n",
              "6             14       24.0\n",
              "7             14       19.0\n",
              "8             14       28.0\n",
              "9             15       23.0"
            ],
            "text/html": [
              "<div>\n",
              "<style scoped>\n",
              "    .dataframe tbody tr th:only-of-type {\n",
              "        vertical-align: middle;\n",
              "    }\n",
              "\n",
              "    .dataframe tbody tr th {\n",
              "        vertical-align: top;\n",
              "    }\n",
              "\n",
              "    .dataframe thead th {\n",
              "        text-align: right;\n",
              "    }\n",
              "</style>\n",
              "<table border=\"1\" class=\"dataframe\">\n",
              "  <thead>\n",
              "    <tr style=\"text-align: right;\">\n",
              "      <th></th>\n",
              "      <th>Current fleet</th>\n",
              "      <th>New Fleet</th>\n",
              "    </tr>\n",
              "  </thead>\n",
              "  <tbody>\n",
              "    <tr>\n",
              "      <th>0</th>\n",
              "      <td>18</td>\n",
              "      <td>24.0</td>\n",
              "    </tr>\n",
              "    <tr>\n",
              "      <th>1</th>\n",
              "      <td>15</td>\n",
              "      <td>27.0</td>\n",
              "    </tr>\n",
              "    <tr>\n",
              "      <th>2</th>\n",
              "      <td>18</td>\n",
              "      <td>27.0</td>\n",
              "    </tr>\n",
              "    <tr>\n",
              "      <th>3</th>\n",
              "      <td>16</td>\n",
              "      <td>25.0</td>\n",
              "    </tr>\n",
              "    <tr>\n",
              "      <th>4</th>\n",
              "      <td>17</td>\n",
              "      <td>31.0</td>\n",
              "    </tr>\n",
              "    <tr>\n",
              "      <th>5</th>\n",
              "      <td>15</td>\n",
              "      <td>35.0</td>\n",
              "    </tr>\n",
              "    <tr>\n",
              "      <th>6</th>\n",
              "      <td>14</td>\n",
              "      <td>24.0</td>\n",
              "    </tr>\n",
              "    <tr>\n",
              "      <th>7</th>\n",
              "      <td>14</td>\n",
              "      <td>19.0</td>\n",
              "    </tr>\n",
              "    <tr>\n",
              "      <th>8</th>\n",
              "      <td>14</td>\n",
              "      <td>28.0</td>\n",
              "    </tr>\n",
              "    <tr>\n",
              "      <th>9</th>\n",
              "      <td>15</td>\n",
              "      <td>23.0</td>\n",
              "    </tr>\n",
              "  </tbody>\n",
              "</table>\n",
              "</div>"
            ]
          },
          "metadata": {},
          "execution_count": 43
        },
        {
          "output_type": "display_data",
          "data": {
            "text/plain": [
              "<Figure size 432x288 with 1 Axes>"
            ],
            "image/png": "[encoded data removed]"
          },
          "metadata": {
            "needs_background": "light"
          }
        }
      ],
      "metadata": {
        "id": "avWv4ipFdpka"
      }
    },
    {
      "cell_type": "markdown",
      "source": [
        "## Compare the two fleets\r\n",
        "\r\n",
        "The business analysts come up a comparison algorithm that requires the upper and lower bounds for the mean in order to say which fleet is better.\r\n",
        "1. Calculate the mean of both samples.\r\n",
        "2. Using the bootstrap function that you created:\r\n",
        "    - Construct the 95% CI of the mean of the current fleet.\r\n",
        "    - Construct the 95% CI of the mean of the new fleet.\r\n",
        "    - Are they comparable? (i.e., is one better than the other?) -- you can do this with a permutation test (check the lecture notes!)"
      ],
      "metadata": {
        "id": "B5d0tXDpIEj8"
      }
    },
    {
      "cell_type": "code",
      "execution_count": 50,
      "source": [
        "# <---INSERT YOUR CODE HERE--->\r\n",
        "print(df.describe())\r\n",
        "\r\n",
        "\r\n",
        "data = df['Current fleet'].values\r\n",
        "data2 = df['New Fleet'].values\r\n",
        "print('Current Fleet: ', np.mean(data))\r\n",
        "\r\n",
        "\r\n",
        "# bootstrap_mean_ci(data, sample_size, n_bootstraps, 95)\r\n",
        "# bootstrap_mean_ci(data, sample_size, n_bootstraps, 95)\r\n",
        "\r\n",
        "\r\n"
      ],
      "outputs": [
        {
          "output_type": "stream",
          "name": "stdout",
          "text": [
            "       Current fleet  New Fleet\n",
            "count     249.000000  79.000000\n",
            "mean       20.144578  30.481013\n",
            "std         6.414699   6.107710\n",
            "min         9.000000  18.000000\n",
            "25%        15.000000  25.500000\n",
            "50%        19.000000  32.000000\n",
            "75%        24.000000  34.000000\n",
            "max        39.000000  47.000000\n",
            "Current Fleet:  20.14457831325301\n"
          ]
        }
      ],
      "metadata": {
        "id": "po4mp6zRHC0m"
      }
    },
    {
      "cell_type": "code",
      "execution_count": null,
      "source": [
        "# Create your own function for a permutation test here (you will need it for the lab quiz!):\r\n",
        "def permut_test(sample1, sample2, n_permutations):\r\n",
        "    \"\"\"\r\n",
        "    sample1: 1D array\r\n",
        "    sample2: 1D array (note that the size of the two arrays can be different)\r\n",
        "    n_permutations: number of permutations to calculate the p-value\r\n",
        "    \"\"\"\r\n",
        "    return pvalue"
      ],
      "outputs": [],
      "metadata": {
        "id": "MkxvDZG4HC0n"
      }
    }
  ]
}